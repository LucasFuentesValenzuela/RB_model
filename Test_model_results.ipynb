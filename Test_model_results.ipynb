{
 "cells": [
  {
   "cell_type": "markdown",
   "id": "8b591a1a",
   "metadata": {
    "toc": true
   },
   "source": [
    "<h1>Table of Contents<span class=\"tocSkip\"></span></h1>\n",
    "<div class=\"toc\"><ul class=\"toc-item\"><li><span><a href=\"#Load\" data-toc-modified-id=\"Load-1\"><span class=\"toc-item-num\">1&nbsp;&nbsp;</span>Load</a></span></li><li><span><a href=\"#Model-1\" data-toc-modified-id=\"Model-1-2\"><span class=\"toc-item-num\">2&nbsp;&nbsp;</span>Model 1</a></span></li><li><span><a href=\"#Combining-results-with-Shuyuan's-data\" data-toc-modified-id=\"Combining-results-with-Shuyuan's-data-3\"><span class=\"toc-item-num\">3&nbsp;&nbsp;</span>Combining results with Shuyuan's data</a></span></li></ul></div>"
   ]
  },
  {
   "cell_type": "markdown",
   "id": "0166d113",
   "metadata": {},
   "source": [
    "# Load"
   ]
  },
  {
   "cell_type": "code",
   "execution_count": null,
   "id": "f3ccf78a",
   "metadata": {},
   "outputs": [],
   "source": [
    "import pickle\n",
    "\n",
    "import matplotlib.pyplot as plt\n",
    "\n",
    "import pandas as pd\n",
    "\n",
    "from itertools import product\n",
    "\n",
    "import numpy as np\n"
   ]
  },
  {
   "cell_type": "code",
   "execution_count": null,
   "id": "431dffa9",
   "metadata": {},
   "outputs": [],
   "source": [
    "filename=\"results/stats_model_v1\""
   ]
  },
  {
   "cell_type": "code",
   "execution_count": null,
   "id": "22fa0797",
   "metadata": {},
   "outputs": [],
   "source": [
    "infile = open(filename,'rb')\n",
    "stats = pickle.load(infile) # data saved from simulation\n",
    "infile.close()"
   ]
  },
  {
   "cell_type": "markdown",
   "id": "39f9fca6",
   "metadata": {},
   "source": [
    "# Model 1"
   ]
  },
  {
   "cell_type": "markdown",
   "id": "c43f4db5",
   "metadata": {},
   "source": [
    "- Timer for S/G2\n",
    "- Sizer for G1/S"
   ]
  },
  {
   "cell_type": "markdown",
   "id": "68b37241",
   "metadata": {},
   "source": [
    "Keys of the dict are the parameters of the model, ordered in the following fashion: $(\\alpha, \\beta_0, \\varepsilon, \\gamma, transition\\_th = M_{G1/S})$. "
   ]
  },
  {
   "cell_type": "markdown",
   "id": "1c67a098",
   "metadata": {},
   "source": [
    "For this first run, we have saved: \n",
    "- average RB amount and RB concentration over a given cycle\n",
    "- delta of RB amount of RB concentration over a given cycle"
   ]
  },
  {
   "cell_type": "markdown",
   "id": "dceb5e20",
   "metadata": {},
   "source": [
    "The dimensionless parameters that we can look at are: \n",
    "- $ \\Pi_1 = \\frac{\\alpha M_{G1/S} }{\\beta_0 + \\gamma}$\n",
    "- $\\Pi_2 = \\beta/\\gamma$"
   ]
  },
  {
   "cell_type": "code",
   "execution_count": null,
   "id": "06f56362",
   "metadata": {},
   "outputs": [],
   "source": [
    "def Pi1(key): \n",
    "    alpha, beta0, epsilon, gamma, M_G1S = key\n",
    "    return alpha*M_G1S/(beta0 + gamma)"
   ]
  },
  {
   "cell_type": "code",
   "execution_count": null,
   "id": "627f9a97",
   "metadata": {},
   "outputs": [],
   "source": [
    "def Pi2(key):\n",
    "    alpha, beta0, epsilon, gamma, M_G1S = key\n",
    "    return beta0/gamma"
   ]
  },
  {
   "cell_type": "code",
   "execution_count": null,
   "id": "dd43db24",
   "metadata": {},
   "outputs": [],
   "source": [
    "def Pi3(key):\n",
    "    alpha, beta0, epsilon, gamma, M_G1S = key\n",
    "    return alpha*M_G1S/(gamma)"
   ]
  },
  {
   "cell_type": "code",
   "execution_count": null,
   "id": "5e337d99",
   "metadata": {},
   "outputs": [],
   "source": [
    "def Pi4(key):\n",
    "    alpha, beta0, epsilon, gamma, M_G1S = key\n",
    "    return alpha/(beta0+gamma)"
   ]
  },
  {
   "cell_type": "markdown",
   "id": "a80c8292",
   "metadata": {},
   "source": [
    "---"
   ]
  },
  {
   "cell_type": "code",
   "execution_count": null,
   "id": "b003450a",
   "metadata": {},
   "outputs": [],
   "source": [
    "keys = list(stats.keys())"
   ]
  },
  {
   "cell_type": "code",
   "execution_count": null,
   "id": "3df822be",
   "metadata": {},
   "outputs": [],
   "source": [
    "pi1 = np.array([Pi1(key) for key in keys])\n",
    "pi2 = np.array([Pi2(key) for key in keys])\n",
    "pi3 = np.array([Pi3(key) for key in keys])\n",
    "pi4 = np.array([Pi4(key) for key in keys])"
   ]
  },
  {
   "cell_type": "code",
   "execution_count": null,
   "id": "cc8e0dee",
   "metadata": {},
   "outputs": [],
   "source": [
    "pairs = list(zip(pi1, pi2))"
   ]
  },
  {
   "cell_type": "code",
   "execution_count": null,
   "id": "6f31555b",
   "metadata": {},
   "outputs": [],
   "source": [
    "unique_pairs = []\n",
    "for p in pairs:\n",
    "    if p not in unique_pairs:\n",
    "        unique_pairs.append(p)"
   ]
  },
  {
   "cell_type": "code",
   "execution_count": null,
   "id": "0551edfe",
   "metadata": {},
   "outputs": [],
   "source": [
    "len(unique_pairs)/len(pairs)"
   ]
  },
  {
   "cell_type": "markdown",
   "id": "fb2f49ea",
   "metadata": {},
   "source": [
    "About 20 % are actually unique. "
   ]
  },
  {
   "cell_type": "markdown",
   "id": "3873982f",
   "metadata": {},
   "source": [
    "---"
   ]
  },
  {
   "cell_type": "markdown",
   "id": "5039e61b",
   "metadata": {},
   "source": [
    "Let us first scatter plot all of these metrics: "
   ]
  },
  {
   "cell_type": "code",
   "execution_count": null,
   "id": "75a33843",
   "metadata": {},
   "outputs": [],
   "source": [
    "def plot_results(pi1, pi2, stats, shift=.1, min_length=5, ylims=None, xlims=None):\n",
    "\n",
    "    fig, ax = plt.subplots(2, 2, figsize = (10, 10))\n",
    "    \n",
    "    keys = list(stats.keys())\n",
    "    keys_stats = list(stats[keys[0]].keys())\n",
    "    for i, j in product(range(2), repeat=2):\n",
    "        k = i + 2*j\n",
    "\n",
    "        colors = []\n",
    "        for m in keys:\n",
    "            crt_ = stats[m][keys_stats[k]]\n",
    "\n",
    "            if len(crt_)<=min_length:\n",
    "                colors.append(np.nan)\n",
    "\n",
    "            else:\n",
    "                if keys_stats[k].endswith(\"delta\"):\n",
    "                    val = crt_[-1]/stats[m][keys_stats[k].split(\"delta\")[0]+\"avg\"][-1]\n",
    "                    title = keys_stats[k] + \"/\" + keys_stats[k].split(\"delta\")[0]+\"avg\"\n",
    "                    log_ = False\n",
    "                else:\n",
    "                    val = crt_[-1]\n",
    "                    title = keys_stats[k]\n",
    "                    log_ = True\n",
    "                colors.append(val)\n",
    "\n",
    "        valid = ~np.isnan(np.array(colors))\n",
    "\n",
    "        dot_cols = np.array(colors)[valid]\n",
    "        \n",
    "        if log_: \n",
    "            dot_cols = np.log(dot_cols)\n",
    "            \n",
    "        p = ax[i,j].scatter(\n",
    "            pi1[valid]*(1+shift*np.random.randn(len(valid[valid]))), \n",
    "            pi2[valid]*(1+shift*np.random.randn(len(valid[valid]))), \n",
    "            s=2,\n",
    "            c=dot_cols, \n",
    "            alpha=.1, \n",
    "            cmap='tab20'\n",
    "        )\n",
    "        ax[i,j].set_title(title)\n",
    "        ax[i,j].set_xscale('log')\n",
    "        ax[i,j].set_yscale('log')\n",
    "        ax[i,j].set_xlabel(\"Pi1\")\n",
    "        ax[i,j].set_ylabel(\"Pi2\")\n",
    "        ax[i,j].set_ylim(ylims)\n",
    "        ax[i,j].set_xlim(xlims)\n",
    "        cbar = fig.colorbar(p, ax=ax[i,j])"
   ]
  },
  {
   "cell_type": "code",
   "execution_count": null,
   "id": "f9a9cd07",
   "metadata": {},
   "outputs": [],
   "source": [
    "plot_results(pi1, pi2, stats)"
   ]
  },
  {
   "cell_type": "code",
   "execution_count": null,
   "id": "e772f0ca",
   "metadata": {},
   "outputs": [],
   "source": [
    "plot_results(pi3, pi2, stats)"
   ]
  },
  {
   "cell_type": "code",
   "execution_count": null,
   "id": "c4e08241",
   "metadata": {},
   "outputs": [],
   "source": [
    "plot_results(pi4, pi2, stats)"
   ]
  },
  {
   "cell_type": "markdown",
   "id": "43087b04",
   "metadata": {},
   "source": [
    "# Combining results with Shuyuan's data"
   ]
  },
  {
   "cell_type": "markdown",
   "id": "2a21a17e",
   "metadata": {},
   "source": [
    "Shuyuan's data seems to suggest that: \n",
    "- RB_delta/RB_avg is between .5 and 1. (i.e. large variations!) -- therefore it seems that $\\pi_2$ is about .1. \n",
    "- G1 length is about 15 hours\n",
    "- mass at transition is about 1500 pixels... Not sure how to incorporate that into the model just yet.\n",
    "- Total cell cycle duration is about 27-28 hours. \n",
    "- G2 length is about 12 hours. "
   ]
  },
  {
   "cell_type": "markdown",
   "id": "a71c0898",
   "metadata": {},
   "source": [
    "In the simple model, we have that $M  = M_0 \\exp(\\gamma t)$. During G2, we see that the cells approximately grow 1.5 times (and much less spread than during G1). Therefore, we can write: \n",
    "$$\n",
    "M =  1.5M_0 = M_0 \\exp(\\gamma \\tau_{G2})\n",
    "$$"
   ]
  },
  {
   "cell_type": "markdown",
   "id": "c37143fc",
   "metadata": {},
   "source": [
    "Therefore, we can say that, approximately, $\\gamma \\sim \\log(1.5)/\\tau_{G2} \\sim .4/\\tau_{G2}.$ Saying that $\\tau_{G2} = 12\\pm 2$ hours, we have:$\\gamma \\in [3\\cdot 10^{-2}, 4\\cdot 10^{-2}]$."
   ]
  },
  {
   "cell_type": "markdown",
   "id": "a7df58e3",
   "metadata": {},
   "source": [
    "If $\\pi_2 \\sim .1$, then $\\beta = 0.1\\gamma \\Rightarrow \\in [3\\cdot 10^{-3}, 4\\cdot 10^{-3}]$. "
   ]
  },
  {
   "cell_type": "markdown",
   "id": "84462b08",
   "metadata": {},
   "source": [
    "In that case, $\\pi_1 \\sim \\frac{\\alpha M}{\\gamma}$ (as $\\beta$ is much smaller than $\\gamma$). "
   ]
  },
  {
   "cell_type": "markdown",
   "id": "06d45994",
   "metadata": {},
   "source": [
    "We now need to find a good value for $\\alpha M$. Untangling both will probably be hard, but estimating $M$ from data should be possible? We see that $\\pi_4$ is better able to separate data according to concentration. \n",
    "\n",
    "$\\pi_4 = \\alpha/(\\beta_0 + \\gamma) \\sim \\alpha /\\gamma$. \n",
    "\n",
    "In the model, the concentration is simply RB_amount/Mass. We can take a reference value for RB concentration to be 100nM. In the model, we use transition masses between .5 and 3. The results would not change (relatively speaking) if we multiply the mass by some constant. So let's assume that the mass is actually a factor of some standard mass. The value of $\\pi_1$ that you end up choosing will directly depend on this value I think, so not sure this is the best way to go about things. "
   ]
  },
  {
   "cell_type": "markdown",
   "id": "e9069cd7",
   "metadata": {},
   "source": [
    "Actually I don't think it's a good idea right now to fix $\\alpha$. "
   ]
  },
  {
   "cell_type": "markdown",
   "id": "a30d0113",
   "metadata": {},
   "source": [
    "Summary: \n",
    "- $\\gamma \\in [3\\cdot 10^{-2}, 4\\cdot 10^{-2}]$\n",
    "- $ \\beta \\in [3\\cdot 10^{-3}, 4\\cdot 10^{-3}]$\n",
    "- $M_{G1/S} \\sim 1.5 * M_b$\n",
    "- $\\alpha$ ? "
   ]
  }
 ],
 "metadata": {
  "kernelspec": {
   "display_name": "Python [conda env:py37] *",
   "language": "python",
   "name": "conda-env-py37-py"
  },
  "language_info": {
   "codemirror_mode": {
    "name": "ipython",
    "version": 3
   },
   "file_extension": ".py",
   "mimetype": "text/x-python",
   "name": "python",
   "nbconvert_exporter": "python",
   "pygments_lexer": "ipython3",
   "version": "3.7.7"
  },
  "toc": {
   "base_numbering": 1,
   "nav_menu": {},
   "number_sections": true,
   "sideBar": true,
   "skip_h1_title": false,
   "title_cell": "Table of Contents",
   "title_sidebar": "Contents",
   "toc_cell": true,
   "toc_position": {
    "height": "calc(100% - 180px)",
    "left": "10px",
    "top": "150px",
    "width": "165px"
   },
   "toc_section_display": true,
   "toc_window_display": true
  }
 },
 "nbformat": 4,
 "nbformat_minor": 5
}
