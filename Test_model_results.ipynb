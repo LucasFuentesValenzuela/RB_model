{
 "cells": [
  {
   "cell_type": "markdown",
   "id": "aad58bbc",
   "metadata": {
    "toc": true
   },
   "source": [
    "<h1>Table of Contents<span class=\"tocSkip\"></span></h1>\n",
    "<div class=\"toc\"><ul class=\"toc-item\"><li><span><a href=\"#Load\" data-toc-modified-id=\"Load-1\"><span class=\"toc-item-num\">1&nbsp;&nbsp;</span>Load</a></span></li><li><span><a href=\"#Model-1\" data-toc-modified-id=\"Model-1-2\"><span class=\"toc-item-num\">2&nbsp;&nbsp;</span>Model 1</a></span></li></ul></div>"
   ]
  },
  {
   "cell_type": "markdown",
   "id": "b398e42f",
   "metadata": {},
   "source": [
    "# Load"
   ]
  },
  {
   "cell_type": "code",
   "execution_count": null,
   "id": "6ed49476",
   "metadata": {},
   "outputs": [],
   "source": [
    "import pickle"
   ]
  },
  {
   "cell_type": "code",
   "execution_count": null,
   "id": "72471c51",
   "metadata": {},
   "outputs": [],
   "source": [
    "import matplotlib.pyplot as plt"
   ]
  },
  {
   "cell_type": "code",
   "execution_count": null,
   "id": "2e4d09ac",
   "metadata": {},
   "outputs": [],
   "source": [
    "import pandas as pd"
   ]
  },
  {
   "cell_type": "code",
   "execution_count": null,
   "id": "a596148a",
   "metadata": {},
   "outputs": [],
   "source": [
    "filename=\"data/stats_model_v1\""
   ]
  },
  {
   "cell_type": "code",
   "execution_count": null,
   "id": "e7b4987f",
   "metadata": {},
   "outputs": [],
   "source": [
    "infile = open(filename,'rb')\n",
    "stats = pickle.load(infile)\n",
    "infile.close()"
   ]
  },
  {
   "cell_type": "markdown",
   "id": "c8e0b5b8",
   "metadata": {},
   "source": [
    "? should i convert to a dataframe instead of a bulky dict? "
   ]
  },
  {
   "cell_type": "code",
   "execution_count": null,
   "id": "671f4629",
   "metadata": {},
   "outputs": [],
   "source": [
    "import numpy as np"
   ]
  },
  {
   "cell_type": "markdown",
   "id": "a6b38135",
   "metadata": {},
   "source": [
    "# Model 1"
   ]
  },
  {
   "cell_type": "markdown",
   "id": "fa345a55",
   "metadata": {},
   "source": [
    "- Timer for S/G2\n",
    "- Sizer for G1/S"
   ]
  },
  {
   "cell_type": "markdown",
   "id": "0352c7c3",
   "metadata": {},
   "source": [
    "Keys of the dict are the parameters of the model, ordered in the following fashion: $(\\alpha, \\beta_0, \\varepsilon, \\gamma, transition\\_th = M_{G1/S})$. "
   ]
  },
  {
   "cell_type": "markdown",
   "id": "d6963009",
   "metadata": {},
   "source": [
    "For this first run, we have saved: \n",
    "- average RB amount and RB concentration over a given cycle\n",
    "- delta of RB amount of RB concentration over a given cycle"
   ]
  },
  {
   "cell_type": "markdown",
   "id": "1898032f",
   "metadata": {},
   "source": [
    "The dimensionless parameters that we can look at are: \n",
    "- $ \\Pi_1 = \\frac{\\alpha M_{G1/S} }{\\beta_0 + \\gamma}$\n",
    "- $\\Pi_2 = \\beta/\\gamma$"
   ]
  },
  {
   "cell_type": "code",
   "execution_count": null,
   "id": "1c016067",
   "metadata": {},
   "outputs": [],
   "source": [
    "def Pi1(key): \n",
    "    alpha, beta0, epsilon, gamma, M_G1S = key\n",
    "    return alpha*M_G1S/(beta0 + gamma)"
   ]
  },
  {
   "cell_type": "code",
   "execution_count": null,
   "id": "0f1553b9",
   "metadata": {},
   "outputs": [],
   "source": [
    "def Pi2(key):\n",
    "    alpha, beta0, epsilon, gamma, M_G1S = key\n",
    "    return beta0/gamma"
   ]
  },
  {
   "cell_type": "markdown",
   "id": "e88d6fc4",
   "metadata": {},
   "source": [
    "---"
   ]
  },
  {
   "cell_type": "code",
   "execution_count": null,
   "id": "0877f7e2",
   "metadata": {},
   "outputs": [],
   "source": [
    "keys = list(stats.keys())"
   ]
  },
  {
   "cell_type": "code",
   "execution_count": null,
   "id": "a6d707db",
   "metadata": {},
   "outputs": [],
   "source": [
    "pi1 = np.array([Pi1(key) for key in keys])\n",
    "pi2 = np.array([Pi2(key) for key in keys])"
   ]
  },
  {
   "cell_type": "code",
   "execution_count": null,
   "id": "4448eab4",
   "metadata": {},
   "outputs": [],
   "source": [
    "pairs = list(zip(pi1, pi2))"
   ]
  },
  {
   "cell_type": "code",
   "execution_count": null,
   "id": "8e1248fe",
   "metadata": {},
   "outputs": [],
   "source": [
    "unique_pairs = []\n",
    "for p in pairs:\n",
    "    if p not in unique_pairs:\n",
    "        unique_pairs.append(p)"
   ]
  },
  {
   "cell_type": "code",
   "execution_count": null,
   "id": "8956dae4",
   "metadata": {},
   "outputs": [],
   "source": [
    "len(unique_pairs)/len(pairs)"
   ]
  },
  {
   "cell_type": "markdown",
   "id": "40a66440",
   "metadata": {},
   "source": [
    "About 20 % are actually unique. "
   ]
  },
  {
   "cell_type": "markdown",
   "id": "f3f69a5b",
   "metadata": {},
   "source": [
    "---"
   ]
  },
  {
   "cell_type": "markdown",
   "id": "9a1d9c63",
   "metadata": {},
   "source": [
    "Let us first scatter plot all of these metrics: "
   ]
  },
  {
   "cell_type": "code",
   "execution_count": null,
   "id": "df2ca5fe",
   "metadata": {},
   "outputs": [],
   "source": [
    "from itertools import product\n",
    "\n",
    "import numpy as np\n"
   ]
  },
  {
   "cell_type": "code",
   "execution_count": null,
   "id": "e2856830",
   "metadata": {},
   "outputs": [],
   "source": [
    "plt.scatter(pi1, pi2)\n",
    "plt.xscale('log')\n",
    "plt.yscale('log')"
   ]
  },
  {
   "cell_type": "code",
   "execution_count": null,
   "id": "ec2b9980",
   "metadata": {
    "scrolled": false
   },
   "outputs": [],
   "source": [
    "shift = .1\n",
    "\n",
    "min_length = 5\n",
    "\n",
    "fig, ax = plt.subplots(2, 2, figsize = (10, 10))\n",
    "keys_stats = list(stats[keys[0]].keys())\n",
    "for i, j in product(range(2), repeat=2):\n",
    "    k = i + 2*j\n",
    "    \n",
    "    colors = []\n",
    "    for m in keys:\n",
    "        crt_ = stats[m][keys_stats[k]]\n",
    "        \n",
    "        if len(crt_)<=min_length:\n",
    "            colors.append(np.nan)\n",
    "            \n",
    "        else:\n",
    "            if keys_stats[k].endswith(\"delta\"):\n",
    "                val = crt_[-1]/stats[m][keys_stats[k].split(\"delta\")[0]+\"avg\"][-1]\n",
    "                title = keys_stats[k] + \"/\" + keys_stats[k].split(\"delta\")[0]+\"avg\"\n",
    "            else:\n",
    "                val = crt_[-1]\n",
    "                title = keys_stats[k]\n",
    "            colors.append(val)\n",
    "            \n",
    "    valid = ~np.isnan(np.array(colors))\n",
    "    p = ax[i,j].scatter(\n",
    "        pi1[valid]*(1+shift*np.random.randn(len(valid[valid]))), \n",
    "        pi2[valid]*(1+shift*np.random.randn(len(valid[valid]))), \n",
    "        s=2,\n",
    "        c=np.log(np.array(colors)[valid]), alpha=.1\n",
    "    )\n",
    "    ax[i,j].set_title(title)\n",
    "    ax[i,j].set_xscale('log')\n",
    "    ax[i,j].set_yscale('log')\n",
    "    ax[i,j].set_xlabel(\"Pi1\")\n",
    "    ax[i,j].set_ylabel(\"Pi2\")\n",
    "    fig.colorbar(p, ax=ax[i,j])"
   ]
  }
 ],
 "metadata": {
  "kernelspec": {
   "display_name": "Python [conda env:py37] *",
   "language": "python",
   "name": "conda-env-py37-py"
  },
  "language_info": {
   "codemirror_mode": {
    "name": "ipython",
    "version": 3
   },
   "file_extension": ".py",
   "mimetype": "text/x-python",
   "name": "python",
   "nbconvert_exporter": "python",
   "pygments_lexer": "ipython3",
   "version": "3.7.7"
  },
  "toc": {
   "base_numbering": 1,
   "nav_menu": {},
   "number_sections": true,
   "sideBar": true,
   "skip_h1_title": false,
   "title_cell": "Table of Contents",
   "title_sidebar": "Contents",
   "toc_cell": true,
   "toc_position": {},
   "toc_section_display": true,
   "toc_window_display": true
  }
 },
 "nbformat": 4,
 "nbformat_minor": 5
}
