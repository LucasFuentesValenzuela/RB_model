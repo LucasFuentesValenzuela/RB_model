{
 "cells": [
  {
   "cell_type": "markdown",
   "id": "6c52fad9",
   "metadata": {
    "toc": true
   },
   "source": [
    "<h1>Table of Contents<span class=\"tocSkip\"></span></h1>\n",
    "<div class=\"toc\"><ul class=\"toc-item\"><li><span><a href=\"#Load\" data-toc-modified-id=\"Load-1\"><span class=\"toc-item-num\">1&nbsp;&nbsp;</span>Load</a></span></li><li><span><a href=\"#Model-1\" data-toc-modified-id=\"Model-1-2\"><span class=\"toc-item-num\">2&nbsp;&nbsp;</span>Model 1</a></span></li></ul></div>"
   ]
  },
  {
   "cell_type": "markdown",
   "id": "13938d18",
   "metadata": {},
   "source": [
    "# Load"
   ]
  },
  {
   "cell_type": "code",
   "execution_count": null,
   "id": "b5d0614d",
   "metadata": {},
   "outputs": [],
   "source": [
    "import pickle"
   ]
  },
  {
   "cell_type": "code",
   "execution_count": null,
   "id": "28cda70b",
   "metadata": {},
   "outputs": [],
   "source": [
    "import matplotlib.pyplot as plt"
   ]
  },
  {
   "cell_type": "code",
   "execution_count": null,
   "id": "bcb04d33",
   "metadata": {},
   "outputs": [],
   "source": [
    "import pandas as pd"
   ]
  },
  {
   "cell_type": "code",
   "execution_count": null,
   "id": "9815c7ae",
   "metadata": {},
   "outputs": [],
   "source": [
    "filename=\"data/stats_model_v1\""
   ]
  },
  {
   "cell_type": "code",
   "execution_count": null,
   "id": "1aefd98f",
   "metadata": {},
   "outputs": [],
   "source": [
    "infile = open(filename,'rb')\n",
    "stats = pickle.load(infile)\n",
    "infile.close()"
   ]
  },
  {
   "cell_type": "markdown",
   "id": "17be281c",
   "metadata": {},
   "source": [
    "? should i convert to a dataframe instead of a bulky dict? "
   ]
  },
  {
   "cell_type": "code",
   "execution_count": null,
   "id": "04ebcb9b",
   "metadata": {},
   "outputs": [],
   "source": [
    "import numpy as np"
   ]
  },
  {
   "cell_type": "markdown",
   "id": "a3cae488",
   "metadata": {},
   "source": [
    "# Model 1"
   ]
  },
  {
   "cell_type": "markdown",
   "id": "bca3e8a0",
   "metadata": {},
   "source": [
    "- Timer for S/G2\n",
    "- Sizer for G1/S"
   ]
  },
  {
   "cell_type": "markdown",
   "id": "ec3e78f4",
   "metadata": {},
   "source": [
    "Keys of the dict are the parameters of the model, ordered in the following fashion: $(\\alpha, \\beta_0, \\varepsilon, \\gamma, transition\\_th = M_{G1/S})$. "
   ]
  },
  {
   "cell_type": "markdown",
   "id": "22de047a",
   "metadata": {},
   "source": [
    "For this first run, we have saved: \n",
    "- average RB amount and RB concentration over a given cycle\n",
    "- delta of RB amount of RB concentration over a given cycle"
   ]
  },
  {
   "cell_type": "markdown",
   "id": "09558612",
   "metadata": {},
   "source": [
    "The dimensionless parameters that we can look at are: \n",
    "- $ \\Pi_1 = \\frac{\\alpha M_{G1/S} }{\\beta_0 + \\gamma}$\n",
    "- $\\Pi_2 = \\beta/\\gamma$"
   ]
  },
  {
   "cell_type": "code",
   "execution_count": null,
   "id": "a98c1fd3",
   "metadata": {},
   "outputs": [],
   "source": [
    "def Pi1(key): \n",
    "    alpha, beta0, epsilon, gamma, M_G1S = key\n",
    "    return alpha*M_G1S/(beta0 + gamma)"
   ]
  },
  {
   "cell_type": "code",
   "execution_count": null,
   "id": "ea728784",
   "metadata": {},
   "outputs": [],
   "source": [
    "def Pi2(key):\n",
    "    alpha, beta0, epsilon, gamma, M_G1S = key\n",
    "    return beta0/gamma"
   ]
  },
  {
   "cell_type": "markdown",
   "id": "47074917",
   "metadata": {},
   "source": [
    "---"
   ]
  },
  {
   "cell_type": "code",
   "execution_count": null,
   "id": "5c1e7812",
   "metadata": {},
   "outputs": [],
   "source": [
    "keys = list(stats.keys())"
   ]
  },
  {
   "cell_type": "code",
   "execution_count": null,
   "id": "5281041e",
   "metadata": {},
   "outputs": [],
   "source": [
    "pi1 = np.array([Pi1(key) for key in keys])\n",
    "pi2 = np.array([Pi2(key) for key in keys])"
   ]
  },
  {
   "cell_type": "markdown",
   "id": "07c6cd99",
   "metadata": {},
   "source": [
    "---"
   ]
  },
  {
   "cell_type": "markdown",
   "id": "72506e5c",
   "metadata": {},
   "source": [
    "Let us first scatter plot all of these metrics: "
   ]
  },
  {
   "cell_type": "code",
   "execution_count": null,
   "id": "80af7834",
   "metadata": {},
   "outputs": [],
   "source": [
    "from itertools import product\n",
    "\n",
    "import numpy as np\n"
   ]
  },
  {
   "cell_type": "code",
   "execution_count": null,
   "id": "fd8cfcce",
   "metadata": {
    "scrolled": false
   },
   "outputs": [],
   "source": [
    "fig, ax = plt.subplots(2, 2, figsize = (10, 10))\n",
    "keys_stats = list(stats[keys[0]].keys())\n",
    "for i, j in product(range(2), repeat=2):\n",
    "    k = i + 2*j\n",
    "    \n",
    "    colors = []\n",
    "    for m in keys:\n",
    "        crt_ = stats[m][keys_stats[k]]\n",
    "        \n",
    "        if len(crt_)==0:\n",
    "            colors.append(np.nan)\n",
    "            \n",
    "        else:\n",
    "            colors.append(crt_[-1])\n",
    "            \n",
    "    valid = ~np.isnan(np.array(colors))\n",
    "    p = ax[i,j].scatter(\n",
    "        pi1[valid], pi2[valid], s=2,\n",
    "        c=np.log(np.array(colors)[valid]), alpha=.3\n",
    "    )\n",
    "    ax[i,j].set_title(keys_stats[k])\n",
    "    ax[i,j].set_xscale('log')\n",
    "    ax[i,j].set_yscale('log')\n",
    "    ax[i,j].set_xlabel(\"Pi1\")\n",
    "    ax[i,j].set_ylabel(\"Pi2\")\n",
    "    fig.colorbar(p, ax=ax[i,j])"
   ]
  },
  {
   "cell_type": "code",
   "execution_count": null,
   "id": "04048867",
   "metadata": {},
   "outputs": [],
   "source": []
  }
 ],
 "metadata": {
  "kernelspec": {
   "display_name": "Python [conda env:py37] *",
   "language": "python",
   "name": "conda-env-py37-py"
  },
  "language_info": {
   "codemirror_mode": {
    "name": "ipython",
    "version": 3
   },
   "file_extension": ".py",
   "mimetype": "text/x-python",
   "name": "python",
   "nbconvert_exporter": "python",
   "pygments_lexer": "ipython3",
   "version": "3.7.7"
  },
  "toc": {
   "base_numbering": 1,
   "nav_menu": {},
   "number_sections": true,
   "sideBar": true,
   "skip_h1_title": false,
   "title_cell": "Table of Contents",
   "title_sidebar": "Contents",
   "toc_cell": true,
   "toc_position": {},
   "toc_section_display": true,
   "toc_window_display": true
  }
 },
 "nbformat": 4,
 "nbformat_minor": 5
}
