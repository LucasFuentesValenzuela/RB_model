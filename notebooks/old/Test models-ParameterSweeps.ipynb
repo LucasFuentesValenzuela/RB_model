{
 "cells": [
  {
   "cell_type": "markdown",
   "id": "9af4fa38",
   "metadata": {
    "toc": true
   },
   "source": [
    "<h1>Table of Contents<span class=\"tocSkip\"></span></h1>\n",
    "<div class=\"toc\"><ul class=\"toc-item\"><li><span><a href=\"#Description\" data-toc-modified-id=\"Description-1\"><span class=\"toc-item-num\">1&nbsp;&nbsp;</span>Description</a></span></li><li><span><a href=\"#Load\" data-toc-modified-id=\"Load-2\"><span class=\"toc-item-num\">2&nbsp;&nbsp;</span>Load</a></span></li><li><span><a href=\"#Parameter-sweep\" data-toc-modified-id=\"Parameter-sweep-3\"><span class=\"toc-item-num\">3&nbsp;&nbsp;</span>Parameter sweep</a></span><ul class=\"toc-item\"><li><span><a href=\"#Save-the-data\" data-toc-modified-id=\"Save-the-data-3.1\"><span class=\"toc-item-num\">3.1&nbsp;&nbsp;</span>Save the data</a></span></li></ul></li></ul></div>"
   ]
  },
  {
   "cell_type": "markdown",
   "id": "70b85466",
   "metadata": {},
   "source": [
    "# Description"
   ]
  },
  {
   "cell_type": "markdown",
   "id": "556afa49",
   "metadata": {},
   "source": [
    "Notebook that implements a parameter sweep. "
   ]
  },
  {
   "cell_type": "markdown",
   "id": "43af891a",
   "metadata": {},
   "source": [
    "# Load"
   ]
  },
  {
   "cell_type": "code",
   "execution_count": null,
   "id": "31488446",
   "metadata": {},
   "outputs": [],
   "source": [
    "%load_ext autoreload\n",
    "%autoreload 2"
   ]
  },
  {
   "cell_type": "code",
   "execution_count": null,
   "id": "bf822cbe",
   "metadata": {},
   "outputs": [],
   "source": [
    "from src.cell_models import cell_v1\n",
    "\n",
    "import numpy as np\n",
    "import matplotlib.pyplot as plt\n",
    "\n",
    "from ipywidgets import interact, fixed, interact_manual\n",
    "\n",
    "from statsmodels.tsa.stattools import acf\n",
    "\n",
    "from scipy.signal import find_peaks"
   ]
  },
  {
   "cell_type": "code",
   "execution_count": null,
   "id": "aee657a2",
   "metadata": {},
   "outputs": [],
   "source": [
    "from src.plot_utils import plot_vars_vs_time, plot_phase_RB, plot_phase_RBc, plot_autocorrelations"
   ]
  },
  {
   "cell_type": "code",
   "execution_count": null,
   "id": "13f7b732",
   "metadata": {},
   "outputs": [],
   "source": [
    "from src.analysis import get_cycle_stats"
   ]
  },
  {
   "cell_type": "markdown",
   "id": "850f107c",
   "metadata": {},
   "source": [
    "---------"
   ]
  },
  {
   "cell_type": "markdown",
   "id": "e2c96323",
   "metadata": {},
   "source": [
    "# Parameter sweep"
   ]
  },
  {
   "cell_type": "code",
   "execution_count": null,
   "id": "f25f041d",
   "metadata": {},
   "outputs": [],
   "source": [
    "from itertools import product"
   ]
  },
  {
   "cell_type": "code",
   "execution_count": null,
   "id": "bb5286b6",
   "metadata": {},
   "outputs": [],
   "source": [
    "# run a parameter sweep\n",
    "T=8000\n",
    "division=\"timer\"\n",
    "transition=\"size\"\n",
    "dt=1e-3\n",
    "time_SG2 = .3\n",
    "delta=1.\n",
    "\n",
    "alpha_vals = np.arange(.1, 5., .5)\n",
    "beta_vals = np.arange(.1, 5., .5)\n",
    "epsilon_vals = np.arange(.1, 1, .2)\n",
    "gamma_vals = np.arange(.1, 2, .3)\n",
    "transition_th_vals = np.arange(.5, 3, .2)"
   ]
  },
  {
   "cell_type": "code",
   "execution_count": null,
   "id": "605bb35f",
   "metadata": {},
   "outputs": [],
   "source": [
    "stats_tot = dict()\n",
    "for alpha, beta0, epsilon, gamma, transition_th in product(\n",
    "    alpha_vals, beta_vals, epsilon_vals, gamma_vals, transition_th_vals\n",
    "):\n",
    "\n",
    "    cell = cell_v1(alpha=alpha, beta0=beta0, delta=delta, \n",
    "            gamma=gamma, epsilon=epsilon, dt=dt, \n",
    "            division=division, transition=transition, \n",
    "            time_SG2=time_SG2, transition_th=transition_th)\n",
    "\n",
    "\n",
    "    cell.grow(T)\n",
    "    \n",
    "    stats_crt = get_cycle_stats(cell)\n",
    "    stats_tot[(alpha, beta0, epsilon, gamma, transition_th)] = stats_crt"
   ]
  },
  {
   "cell_type": "markdown",
   "id": "870630cc",
   "metadata": {},
   "source": [
    "## Save the data"
   ]
  },
  {
   "cell_type": "code",
   "execution_count": null,
   "id": "45e77576",
   "metadata": {},
   "outputs": [],
   "source": [
    "import pickle"
   ]
  },
  {
   "cell_type": "code",
   "execution_count": null,
   "id": "17264762",
   "metadata": {},
   "outputs": [],
   "source": [
    "with open(\"data/stats_model_v1\", 'wb') as f:\n",
    "    pickle.dump(stats_tot, f)"
   ]
  }
 ],
 "metadata": {
  "kernelspec": {
   "display_name": "Python 3 (ipykernel)",
   "language": "python",
   "name": "python3"
  },
  "language_info": {
   "codemirror_mode": {
    "name": "ipython",
    "version": 3
   },
   "file_extension": ".py",
   "mimetype": "text/x-python",
   "name": "python",
   "nbconvert_exporter": "python",
   "pygments_lexer": "ipython3",
   "version": "3.10.4"
  },
  "toc": {
   "base_numbering": 1,
   "nav_menu": {},
   "number_sections": true,
   "sideBar": true,
   "skip_h1_title": false,
   "title_cell": "Table of Contents",
   "title_sidebar": "Contents",
   "toc_cell": true,
   "toc_position": {
    "height": "calc(100% - 180px)",
    "left": "10px",
    "top": "150px",
    "width": "165px"
   },
   "toc_section_display": true,
   "toc_window_display": true
  }
 },
 "nbformat": 4,
 "nbformat_minor": 5
}
