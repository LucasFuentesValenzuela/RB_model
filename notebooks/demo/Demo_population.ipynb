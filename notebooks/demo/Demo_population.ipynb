{
 "cells": [
  {
   "cell_type": "markdown",
   "id": "8ec9b5b3",
   "metadata": {
    "toc": true
   },
   "source": [
    "<h1>Table of Contents<span class=\"tocSkip\"></span></h1>\n",
    "<div class=\"toc\"><ul class=\"toc-item\"><li><span><a href=\"#Description\" data-toc-modified-id=\"Description-1\"><span class=\"toc-item-num\">1&nbsp;&nbsp;</span>Description</a></span></li><li><span><a href=\"#Load\" data-toc-modified-id=\"Load-2\"><span class=\"toc-item-num\">2&nbsp;&nbsp;</span>Load</a></span></li><li><span><a href=\"#Illustration-of-the-system\" data-toc-modified-id=\"Illustration-of-the-system-3\"><span class=\"toc-item-num\">3&nbsp;&nbsp;</span>Illustration of the system</a></span></li></ul></div>"
   ]
  },
  {
   "cell_type": "markdown",
   "id": "beb75a79",
   "metadata": {},
   "source": [
    "# Description"
   ]
  },
  {
   "cell_type": "markdown",
   "id": "1e30c107",
   "metadata": {},
   "source": [
    "Notebook to illustrate how population models work"
   ]
  },
  {
   "cell_type": "markdown",
   "id": "78832981",
   "metadata": {},
   "source": [
    "# Load"
   ]
  },
  {
   "cell_type": "code",
   "execution_count": null,
   "id": "e28739be",
   "metadata": {},
   "outputs": [],
   "source": [
    "%load_ext autoreload\n",
    "%autoreload 2"
   ]
  },
  {
   "cell_type": "code",
   "execution_count": null,
   "id": "96c5dd69",
   "metadata": {},
   "outputs": [],
   "source": [
    "import numpy as np\n",
    "import matplotlib.pyplot as plt\n",
    "\n",
    "from ipywidgets import interact, fixed, interact_manual\n",
    "\n",
    "from statsmodels.tsa.stattools import acf\n",
    "\n",
    "from scipy.signal import find_peaks"
   ]
  },
  {
   "cell_type": "code",
   "execution_count": null,
   "id": "adef0059",
   "metadata": {},
   "outputs": [],
   "source": [
    "from RBmodel.analysis import get_cycle_stats, get_phase_durations\n",
    "\n",
    "from RBmodel import cell_models\n",
    "\n",
    "from RBmodel import load_utils, plot_utils"
   ]
  },
  {
   "cell_type": "code",
   "execution_count": null,
   "id": "66f12ed3",
   "metadata": {},
   "outputs": [],
   "source": [
    "import itertools"
   ]
  },
  {
   "cell_type": "markdown",
   "id": "eef540b4",
   "metadata": {},
   "source": [
    "# Illustration of the system"
   ]
  },
  {
   "cell_type": "code",
   "execution_count": null,
   "id": "7c656351",
   "metadata": {},
   "outputs": [],
   "source": [
    "params = cell_models.DEFAULT_PARAMS.copy()"
   ]
  },
  {
   "cell_type": "code",
   "execution_count": null,
   "id": "cc316278",
   "metadata": {},
   "outputs": [],
   "source": [
    "params['transition'] = \"size\""
   ]
  },
  {
   "cell_type": "code",
   "execution_count": null,
   "id": "dc24ac97",
   "metadata": {},
   "outputs": [],
   "source": [
    "params"
   ]
  },
  {
   "cell_type": "code",
   "execution_count": null,
   "id": "3ee7f979",
   "metadata": {},
   "outputs": [],
   "source": [
    "N_cells=100 # number of cells in the population\n",
    "\n",
    "T_burn = 1000\n",
    "T = 10000 # number of timesteps\n",
    "\n",
    "pop = cell_models.population(N_cells, params=params)\n",
    "pop.burn_in(T_burn)\n",
    "pop.grow(T)\n",
    "results = pop.gather_results()"
   ]
  },
  {
   "cell_type": "code",
   "execution_count": null,
   "id": "fe50e16e",
   "metadata": {},
   "outputs": [],
   "source": [
    "_, ax = plt.subplots(2, 2, figsize=(10, 8))\n",
    "\n",
    "for (i,j) in itertools.product(range(2), repeat=2):\n",
    "    idx = T / 4 * j + i * T/2\n",
    "    \n",
    "    ax[i,j].hist(results[\"M\"].loc[idx], bins=np.linspace(0, 2, 20));\n",
    "    ax[i,j].grid()\n",
    "    ax[i,j].set_title(f\"time = {idx}\")"
   ]
  },
  {
   "cell_type": "code",
   "execution_count": null,
   "id": "6d18b09a",
   "metadata": {},
   "outputs": [],
   "source": [
    "flat_M = results[\"M\"].values.flatten().round(decimals=2)\n",
    "\n",
    "flat_ph = results[\"phase\"].values.flatten()\n",
    "\n",
    "vals_M = np.sort(np.unique(flat_M))\n",
    "rat_g1g2 = []\n",
    "for m in vals_M: \n",
    "    idx = np.where(flat_M==m)[0]\n",
    "    phases = flat_ph[idx]\n",
    "    G1_G2 = np.sum(phases=='G1')/len(phases)\n",
    "    rat_g1g2.append(G1_G2)"
   ]
  },
  {
   "cell_type": "code",
   "execution_count": null,
   "id": "b2741fb6",
   "metadata": {},
   "outputs": [],
   "source": [
    "plt.plot(vals_M, 1-np.array(rat_g1g2))\n",
    "plt.xlabel(\"M\")\n",
    "plt.ylabel(\"Proportion of cells in G2\")\n",
    "plt.grid()"
   ]
  },
  {
   "cell_type": "code",
   "execution_count": null,
   "id": "16aac03d",
   "metadata": {},
   "outputs": [],
   "source": [
    "fig, ax = plt.subplots(2, 3, figsize=(10, 8))\n",
    "for cell in pop.cells:\n",
    "    plot_utils.plot_size_control(cell, ax=ax)\n",
    "# fig.tight_layout()"
   ]
  },
  {
   "cell_type": "code",
   "execution_count": null,
   "id": "b64be491",
   "metadata": {},
   "outputs": [],
   "source": []
  }
 ],
 "metadata": {
  "kernelspec": {
   "display_name": "Python 3 (ipykernel)",
   "language": "python",
   "name": "python3"
  },
  "language_info": {
   "codemirror_mode": {
    "name": "ipython",
    "version": 3
   },
   "file_extension": ".py",
   "mimetype": "text/x-python",
   "name": "python",
   "nbconvert_exporter": "python",
   "pygments_lexer": "ipython3",
   "version": "3.10.4"
  },
  "toc": {
   "base_numbering": 1,
   "nav_menu": {},
   "number_sections": true,
   "sideBar": true,
   "skip_h1_title": false,
   "title_cell": "Table of Contents",
   "title_sidebar": "Contents",
   "toc_cell": true,
   "toc_position": {
    "height": "calc(100% - 180px)",
    "left": "10px",
    "top": "150px",
    "width": "165px"
   },
   "toc_section_display": true,
   "toc_window_display": true
  }
 },
 "nbformat": 4,
 "nbformat_minor": 5
}
