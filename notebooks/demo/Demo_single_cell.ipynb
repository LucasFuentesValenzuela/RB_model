{
 "cells": [
  {
   "cell_type": "markdown",
   "id": "e9868665",
   "metadata": {
    "toc": true
   },
   "source": [
    "<h1>Table of Contents<span class=\"tocSkip\"></span></h1>\n",
    "<div class=\"toc\"><ul class=\"toc-item\"><li><span><a href=\"#Description\" data-toc-modified-id=\"Description-1\"><span class=\"toc-item-num\">1&nbsp;&nbsp;</span>Description</a></span></li><li><span><a href=\"#Load\" data-toc-modified-id=\"Load-2\"><span class=\"toc-item-num\">2&nbsp;&nbsp;</span>Load</a></span></li><li><span><a href=\"#Model\" data-toc-modified-id=\"Model-3\"><span class=\"toc-item-num\">3&nbsp;&nbsp;</span>Model</a></span></li><li><span><a href=\"#Interact\" data-toc-modified-id=\"Interact-4\"><span class=\"toc-item-num\">4&nbsp;&nbsp;</span>Interact</a></span></li></ul></div>"
   ]
  },
  {
   "cell_type": "markdown",
   "id": "16575cf8",
   "metadata": {},
   "source": [
    "# Description"
   ]
  },
  {
   "cell_type": "markdown",
   "id": "f38e7150",
   "metadata": {},
   "source": [
    "Demo notebook to play with the single cell dynamics model. "
   ]
  },
  {
   "cell_type": "markdown",
   "id": "2c62873f",
   "metadata": {},
   "source": [
    "# Load"
   ]
  },
  {
   "cell_type": "code",
   "execution_count": 1,
   "id": "04ebc3c5",
   "metadata": {},
   "outputs": [],
   "source": [
    "%load_ext autoreload\n",
    "%autoreload 2"
   ]
  },
  {
   "cell_type": "code",
   "execution_count": 2,
   "id": "fe384fb5",
   "metadata": {},
   "outputs": [],
   "source": [
    "import numpy as np\n",
    "import matplotlib.pyplot as plt"
   ]
  },
  {
   "cell_type": "code",
   "execution_count": 3,
   "id": "38704d65",
   "metadata": {},
   "outputs": [],
   "source": [
    "from RBmodel import cell_models\n",
    "\n",
    "from ipywidgets import interact, fixed, interact_manual\n",
    "from statsmodels.tsa.stattools import acf\n",
    "from scipy.signal import find_peaks"
   ]
  },
  {
   "cell_type": "code",
   "execution_count": 4,
   "id": "17f9906c",
   "metadata": {},
   "outputs": [],
   "source": [
    "from RBmodel.analysis import get_cycle_stats"
   ]
  },
  {
   "cell_type": "code",
   "execution_count": 5,
   "id": "36cf83f8",
   "metadata": {},
   "outputs": [],
   "source": [
    "from RBmodel.plot_utils import run_and_plot_test"
   ]
  },
  {
   "cell_type": "code",
   "execution_count": 6,
   "id": "1c85a77c",
   "metadata": {},
   "outputs": [],
   "source": [
    "from RBmodel import load_utils"
   ]
  },
  {
   "cell_type": "markdown",
   "id": "bd15ea80",
   "metadata": {},
   "source": [
    "# Model"
   ]
  },
  {
   "cell_type": "markdown",
   "id": "28824958",
   "metadata": {},
   "source": [
    "$$\n",
    "\\frac{\\partial RB}{\\partial t} = M^\\delta - \\beta RB, \\\\\n",
    "\\frac{\\partial M}{\\partial t} = \\gamma M^\\delta, \\\\\n",
    "\\beta = \\beta \\text{ in G1 and } \\beta = \\varepsilon \\beta \\text{ in G2.} \n",
    "$$"
   ]
  },
  {
   "cell_type": "markdown",
   "id": "1a763ff6",
   "metadata": {},
   "source": [
    "# Interact"
   ]
  },
  {
   "cell_type": "code",
   "execution_count": 13,
   "id": "99212135",
   "metadata": {
    "scrolled": false
   },
   "outputs": [
    {
     "data": {
      "application/vnd.jupyter.widget-view+json": {
       "model_id": "9f8e2561e205449fa6f791e88283e2d7",
       "version_major": 2,
       "version_minor": 0
      },
      "text/plain": [
       "interactive(children=(FloatSlider(value=0.4, description='beta0', max=0.4, min=0.01, step=0.01), FloatSlider(v…"
      ]
     },
     "metadata": {},
     "output_type": "display_data"
    }
   ],
   "source": [
    "interact_manual(\n",
    "    run_and_plot_test, \n",
    "    alpha=fixed(.1),# synthesis rate - (.1, 10., step), \n",
    "    beta0=(.01, .4, .01), # degradation rate in G1\n",
    "    epsilon=(.1, 2., .1), # ratio of deg. rates in G2/G1 (.1, 1., step), \n",
    "    eta=(.1, 2., .1), # ratio of syn rates in G2/G1\n",
    "    gamma=(.01, .05, .01),  # growth rate\n",
    "    time_SG2 = fixed(12),#(1, 15), # time spent in SG2\n",
    "    delta=(0, 1, .1), # exponent for growth\n",
    "    dt=fixed(1e-1), #time step\n",
    "    division=fixed(\"timer\"), # timer or sizer\n",
    "    transition=fixed(\"RBc\"), # \"size\" or \"RBc\"\n",
    "    transition_th=fixed(1.3), # linked to the type of transition\n",
    "    k_trans=fixed(1000), # transition probability\n",
    "    max_cycles = (5, 20, 2),\n",
    "    T=fixed(1000)\n",
    ");"
   ]
  },
  {
   "cell_type": "code",
   "execution_count": null,
   "id": "77dd092d",
   "metadata": {},
   "outputs": [],
   "source": []
  }
 ],
 "metadata": {
  "kernelspec": {
   "display_name": "Python 3 (ipykernel)",
   "language": "python",
   "name": "python3"
  },
  "language_info": {
   "codemirror_mode": {
    "name": "ipython",
    "version": 3
   },
   "file_extension": ".py",
   "mimetype": "text/x-python",
   "name": "python",
   "nbconvert_exporter": "python",
   "pygments_lexer": "ipython3",
   "version": "3.10.4"
  },
  "toc": {
   "base_numbering": 1,
   "nav_menu": {},
   "number_sections": true,
   "sideBar": true,
   "skip_h1_title": false,
   "title_cell": "Table of Contents",
   "title_sidebar": "Contents",
   "toc_cell": true,
   "toc_position": {
    "height": "calc(100% - 180px)",
    "left": "10px",
    "top": "150px",
    "width": "165px"
   },
   "toc_section_display": true,
   "toc_window_display": true
  }
 },
 "nbformat": 4,
 "nbformat_minor": 5
}
