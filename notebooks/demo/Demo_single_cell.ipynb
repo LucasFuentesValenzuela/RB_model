{
 "cells": [
  {
   "cell_type": "markdown",
   "id": "e9868665",
   "metadata": {
    "toc": true
   },
   "source": [
    "<h1>Table of Contents<span class=\"tocSkip\"></span></h1>\n",
    "<div class=\"toc\"><ul class=\"toc-item\"><li><span><a href=\"#Description\" data-toc-modified-id=\"Description-1\"><span class=\"toc-item-num\">1&nbsp;&nbsp;</span>Description</a></span></li><li><span><a href=\"#Load\" data-toc-modified-id=\"Load-2\"><span class=\"toc-item-num\">2&nbsp;&nbsp;</span>Load</a></span></li><li><span><a href=\"#Model\" data-toc-modified-id=\"Model-3\"><span class=\"toc-item-num\">3&nbsp;&nbsp;</span>Model</a></span></li><li><span><a href=\"#Interact\" data-toc-modified-id=\"Interact-4\"><span class=\"toc-item-num\">4&nbsp;&nbsp;</span>Interact</a></span></li></ul></div>"
   ]
  },
  {
   "cell_type": "markdown",
   "id": "16575cf8",
   "metadata": {},
   "source": [
    "# Description"
   ]
  },
  {
   "cell_type": "markdown",
   "id": "f38e7150",
   "metadata": {},
   "source": [
    "Demo notebook to play with the single cell dynamics model. "
   ]
  },
  {
   "cell_type": "markdown",
   "id": "2c62873f",
   "metadata": {},
   "source": [
    "# Load"
   ]
  },
  {
   "cell_type": "code",
   "execution_count": null,
   "id": "04ebc3c5",
   "metadata": {},
   "outputs": [],
   "source": [
    "%load_ext autoreload\n",
    "%autoreload 2"
   ]
  },
  {
   "cell_type": "code",
   "execution_count": null,
   "id": "fe384fb5",
   "metadata": {},
   "outputs": [],
   "source": [
    "import numpy as np\n",
    "import matplotlib.pyplot as plt"
   ]
  },
  {
   "cell_type": "code",
   "execution_count": null,
   "id": "38704d65",
   "metadata": {},
   "outputs": [],
   "source": [
    "from RBmodel import cell_models\n",
    "\n",
    "from ipywidgets import interact, fixed, interact_manual\n",
    "from statsmodels.tsa.stattools import acf\n",
    "from scipy.signal import find_peaks"
   ]
  },
  {
   "cell_type": "code",
   "execution_count": null,
   "id": "17f9906c",
   "metadata": {},
   "outputs": [],
   "source": [
    "from RBmodel.analysis import get_cycle_stats\n",
    "\n",
    "from RBmodel.plot_utils import run_and_plot_test\n",
    "\n",
    "from RBmodel import load_utils"
   ]
  },
  {
   "cell_type": "markdown",
   "id": "bd15ea80",
   "metadata": {},
   "source": [
    "# Model"
   ]
  },
  {
   "cell_type": "markdown",
   "id": "28824958",
   "metadata": {},
   "source": [
    "$$\n",
    "\\frac{\\partial RB}{\\partial t} = M^\\delta - \\beta RB, \\\\\n",
    "\\frac{\\partial M}{\\partial t} = \\gamma M^\\delta, \\\\\n",
    "\\beta = \\beta \\text{ in G1 and } \\beta = \\varepsilon \\beta \\text{ in G2.} \n",
    "$$"
   ]
  },
  {
   "cell_type": "markdown",
   "id": "1a763ff6",
   "metadata": {},
   "source": [
    "# Interact"
   ]
  },
  {
   "cell_type": "code",
   "execution_count": null,
   "id": "17fcd995",
   "metadata": {},
   "outputs": [],
   "source": [
    "cell_models.DEFAULT_PARAMS"
   ]
  },
  {
   "cell_type": "code",
   "execution_count": null,
   "id": "99212135",
   "metadata": {
    "scrolled": false
   },
   "outputs": [],
   "source": [
    "interact_manual(\n",
    "    run_and_plot_test, \n",
    "    alpha=(.1, 10, .1),#fixed(cell_models.DEFAULT_PARAMS[\"alpha\"]),# synthesis rate - (.1, 10., step), \n",
    "    beta0=fixed(cell_models.DEFAULT_PARAMS[\"beta0\"]),# (.01, .4, .01), # degradation rate in G1\n",
    "    epsilon=(.1, 1., .01), # ratio of deg. rates in G2/G1 (.1, 1., step), \n",
    "    eta=fixed(cell_models.DEFAULT_PARAMS[\"eta\"]), # (.1, 2., .1), # ratio of syn rates in G2/G1\n",
    "    gamma=fixed(cell_models.DEFAULT_PARAMS[\"gamma\"]),# (.01, .05, .01),  # growth rate\n",
    "    time_SG2 = fixed(cell_models.DEFAULT_PARAMS[\"duration_SG2\"]),#(1, 15), # time spent in SG2\n",
    "    delta=(0, 1, .1), # exponent for growth\n",
    "    dt=fixed(cell_models.DEFAULT_PARAMS[\"dt\"]), #time step\n",
    "    division=fixed(\"timer\"), # timer or sizer\n",
    "    transition=fixed(\"RBc\"), # \"size\" or \"RBc\"\n",
    "    transition_th= (0.1, 10, .1), # linked to the type of transition\n",
    "    k_trans= (0.01, 1, 0.01), #, # transition probability\n",
    "    max_cycles = fixed(cell_models.DEFAULT_PARAMS[\"max_cycles\"]), # (5, 20, 2),\n",
    "    T=fixed(int(1e5))\n",
    ");"
   ]
  },
  {
   "cell_type": "code",
   "execution_count": null,
   "id": "9d839ac9",
   "metadata": {},
   "outputs": [],
   "source": []
  }
 ],
 "metadata": {
  "kernelspec": {
   "display_name": "Python 3 (ipykernel)",
   "language": "python",
   "name": "python3"
  },
  "language_info": {
   "codemirror_mode": {
    "name": "ipython",
    "version": 3
   },
   "file_extension": ".py",
   "mimetype": "text/x-python",
   "name": "python",
   "nbconvert_exporter": "python",
   "pygments_lexer": "ipython3",
   "version": "3.10.4"
  },
  "toc": {
   "base_numbering": 1,
   "nav_menu": {},
   "number_sections": true,
   "sideBar": true,
   "skip_h1_title": false,
   "title_cell": "Table of Contents",
   "title_sidebar": "Contents",
   "toc_cell": true,
   "toc_position": {
    "height": "calc(100% - 180px)",
    "left": "10px",
    "top": "150px",
    "width": "165px"
   },
   "toc_section_display": true,
   "toc_window_display": true
  }
 },
 "nbformat": 4,
 "nbformat_minor": 5
}
