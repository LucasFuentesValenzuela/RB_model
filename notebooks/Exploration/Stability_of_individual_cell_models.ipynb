{
 "cells": [
  {
   "cell_type": "markdown",
   "id": "e9868665",
   "metadata": {
    "toc": true
   },
   "source": [
    "<h1>Table of Contents<span class=\"tocSkip\"></span></h1>\n",
    "<div class=\"toc\"><ul class=\"toc-item\"><li><span><a href=\"#Description\" data-toc-modified-id=\"Description-1\"><span class=\"toc-item-num\">1&nbsp;&nbsp;</span>Description</a></span></li><li><span><a href=\"#Current-conclusions\" data-toc-modified-id=\"Current-conclusions-2\"><span class=\"toc-item-num\">2&nbsp;&nbsp;</span>Current conclusions</a></span></li><li><span><a href=\"#Load\" data-toc-modified-id=\"Load-3\"><span class=\"toc-item-num\">3&nbsp;&nbsp;</span>Load</a></span></li><li><span><a href=\"#Model\" data-toc-modified-id=\"Model-4\"><span class=\"toc-item-num\">4&nbsp;&nbsp;</span>Model</a></span></li><li><span><a href=\"#Test-runs\" data-toc-modified-id=\"Test-runs-5\"><span class=\"toc-item-num\">5&nbsp;&nbsp;</span>Test runs</a></span></li><li><span><a href=\"#Interact\" data-toc-modified-id=\"Interact-6\"><span class=\"toc-item-num\">6&nbsp;&nbsp;</span>Interact</a></span></li><li><span><a href=\"#Investigating-the-stability-of-several-models\" data-toc-modified-id=\"Investigating-the-stability-of-several-models-7\"><span class=\"toc-item-num\">7&nbsp;&nbsp;</span>Investigating the stability of several models</a></span></li><li><span><a href=\"#Is-it-possible-to-have-both-constraints-on-the-transition-threshold-valid?\" data-toc-modified-id=\"Is-it-possible-to-have-both-constraints-on-the-transition-threshold-valid?-8\"><span class=\"toc-item-num\">8&nbsp;&nbsp;</span>Is it possible to have both constraints on the transition threshold valid?</a></span></li><li><span><a href=\"#Stability-of-the-delta<-1-model\" data-toc-modified-id=\"Stability-of-the-delta<-1-model-9\"><span class=\"toc-item-num\">9&nbsp;&nbsp;</span>Stability of the delta&lt; 1 model</a></span><ul class=\"toc-item\"><li><span><a href=\"#delta-=-0\" data-toc-modified-id=\"delta-=-0-9.1\"><span class=\"toc-item-num\">9.1&nbsp;&nbsp;</span>delta = 0</a></span></li><li><span><a href=\"#simple-system\" data-toc-modified-id=\"simple-system-9.2\"><span class=\"toc-item-num\">9.2&nbsp;&nbsp;</span>simple system</a></span></li></ul></li></ul></div>"
   ]
  },
  {
   "cell_type": "markdown",
   "id": "16575cf8",
   "metadata": {},
   "source": [
    "# Description"
   ]
  },
  {
   "cell_type": "markdown",
   "id": "1b497693",
   "metadata": {},
   "source": [
    "This notebook investigates the stability of different cell cycle models. "
   ]
  },
  {
   "cell_type": "markdown",
   "id": "0dd527cb",
   "metadata": {},
   "source": [
    "# Current conclusions"
   ]
  },
  {
   "cell_type": "markdown",
   "id": "3b519ba8",
   "metadata": {},
   "source": [
    "- Size threshold for G1/S: always stable\n",
    "- Concentration threshold for G1/s: \n",
    "    - unstable for delta = 1 in general\n",
    "    - stable for delta < 1"
   ]
  },
  {
   "cell_type": "markdown",
   "id": "2c62873f",
   "metadata": {},
   "source": [
    "# Load"
   ]
  },
  {
   "cell_type": "code",
   "execution_count": null,
   "id": "04ebc3c5",
   "metadata": {},
   "outputs": [],
   "source": [
    "%load_ext autoreload\n",
    "%autoreload 2"
   ]
  },
  {
   "cell_type": "code",
   "execution_count": null,
   "id": "af16557a",
   "metadata": {},
   "outputs": [],
   "source": [
    "import numpy as np\n",
    "import matplotlib.pyplot as plt"
   ]
  },
  {
   "cell_type": "code",
   "execution_count": null,
   "id": "38704d65",
   "metadata": {},
   "outputs": [],
   "source": [
    "from RBmodel import cell_models\n",
    "\n",
    "from ipywidgets import interact, fixed, interact_manual\n",
    "from statsmodels.tsa.stattools import acf\n",
    "from scipy.signal import find_peaks"
   ]
  },
  {
   "cell_type": "code",
   "execution_count": null,
   "id": "17f9906c",
   "metadata": {},
   "outputs": [],
   "source": [
    "from RBmodel.analysis import get_cycle_stats"
   ]
  },
  {
   "cell_type": "code",
   "execution_count": null,
   "id": "36cf83f8",
   "metadata": {},
   "outputs": [],
   "source": [
    "from RBmodel.plot_utils import run_and_plot_test"
   ]
  },
  {
   "cell_type": "code",
   "execution_count": null,
   "id": "1c85a77c",
   "metadata": {},
   "outputs": [],
   "source": [
    "from RBmodel import load_utils"
   ]
  },
  {
   "cell_type": "code",
   "execution_count": null,
   "id": "82799da8",
   "metadata": {},
   "outputs": [],
   "source": [
    "from RBmodel import theory"
   ]
  },
  {
   "cell_type": "markdown",
   "id": "bd15ea80",
   "metadata": {},
   "source": [
    "# Model"
   ]
  },
  {
   "cell_type": "markdown",
   "id": "28824958",
   "metadata": {},
   "source": [
    "$$\n",
    "\\frac{\\partial RB}{\\partial t} = M^\\delta - \\beta RB, \\\\\n",
    "\\frac{\\partial M}{\\partial t} = \\gamma M^\\delta, \\\\\n",
    "\\beta = \\beta \\text{ in G1 and } \\beta = \\varepsilon \\beta \\text{ in G2.} \n",
    "$$"
   ]
  },
  {
   "cell_type": "markdown",
   "id": "ac58bbde",
   "metadata": {},
   "source": [
    "# Test runs"
   ]
  },
  {
   "cell_type": "markdown",
   "id": "30d38074",
   "metadata": {},
   "source": [
    "Build something with interact so that you can get a rough sense of how the system behaves. "
   ]
  },
  {
   "cell_type": "code",
   "execution_count": null,
   "id": "ab2a23d9",
   "metadata": {},
   "outputs": [],
   "source": [
    "# cell_test, periods= run_and_plot_test()"
   ]
  },
  {
   "cell_type": "markdown",
   "id": "1a763ff6",
   "metadata": {},
   "source": [
    "# Interact"
   ]
  },
  {
   "cell_type": "code",
   "execution_count": null,
   "id": "99212135",
   "metadata": {
    "scrolled": false
   },
   "outputs": [],
   "source": [
    "interact_manual(\n",
    "    run_and_plot_test, \n",
    "    alpha=fixed(.1),# synthesis rate - (.1, 10., step), \n",
    "    beta0=(.01, .4, .01), # degradation rate in G1\n",
    "    epsilon=(.1, 2., .1), # ratio of deg. rates in G2/G1 (.1, 1., step), \n",
    "    gamma=(.01, .05, .01),  # growth rate\n",
    "    time_SG2 = fixed(12),#(1, 15), # time spent in SG2\n",
    "    delta=(0, 1, .1), # exponent for growth\n",
    "    dt=fixed(1e-1), #time step\n",
    "    division=fixed(\"timer\"), # timer or sizer\n",
    "    transition=fixed(\"size\"), # \"size\" or \"RBc\"\n",
    "    transition_th=fixed(1.3), # linked to the type of transition\n",
    "    k_trans=fixed(1000), # \n",
    "    T=fixed(1000)\n",
    ");"
   ]
  },
  {
   "cell_type": "markdown",
   "id": "859c31a1",
   "metadata": {},
   "source": [
    "Result for size-based transition seem to be insensitive to threshold mass, and alpha. is that true? "
   ]
  },
  {
   "cell_type": "markdown",
   "id": "675c0f1b",
   "metadata": {},
   "source": [
    "# Investigating the stability of several models"
   ]
  },
  {
   "cell_type": "markdown",
   "id": "c9156362",
   "metadata": {},
   "source": [
    "We investigate the stability of the model for different sets of parameters. "
   ]
  },
  {
   "cell_type": "code",
   "execution_count": null,
   "id": "87fcf075",
   "metadata": {},
   "outputs": [],
   "source": [
    "# we can iterate on the parameters to test the stability of the model. \n",
    "params=cell_models.DEFAULT_PARAMS.copy()\n",
    "params['k_trans'] = 1000\n",
    "params['transition'] = 'RBc' # 'size'\n",
    "params['gamma'] = .01\n",
    "params['beta0'] = .5\n",
    "params['alpha'] = .01\n",
    "params['epsilon'] = .02\n",
    "params['duration_SG2'] = 66\n",
    "params['delta'] = 1."
   ]
  },
  {
   "cell_type": "code",
   "execution_count": null,
   "id": "66625f2f",
   "metadata": {},
   "outputs": [],
   "source": [
    "limit_th = cell_models.check_conditions(params)"
   ]
  },
  {
   "cell_type": "code",
   "execution_count": null,
   "id": "e031eadc",
   "metadata": {},
   "outputs": [],
   "source": [
    "limit_th # technically the value of transition_th that gives you M_k+1 = M_k"
   ]
  },
  {
   "cell_type": "code",
   "execution_count": null,
   "id": "c23cd92b",
   "metadata": {},
   "outputs": [],
   "source": [
    "params['transition_th'] = limit_th "
   ]
  },
  {
   "cell_type": "code",
   "execution_count": null,
   "id": "5c1eb9aa",
   "metadata": {},
   "outputs": [],
   "source": [
    "cell = cell_models.cell(params=params)\n",
    "\n",
    "cell.grow(int(5e4))"
   ]
  },
  {
   "cell_type": "code",
   "execution_count": null,
   "id": "45311d76",
   "metadata": {},
   "outputs": [],
   "source": [
    "_, stats = load_utils.get_phase_durations(cell)\n",
    "\n",
    "rats = [stats['birth'][i+1]/stats['birth'][i] for i in range(len(stats['birth'])-1)]\n",
    "\n",
    "plt.scatter(stats['birth'][:-1], rats)\n",
    "plt.ylim([.8, 1.2])\n",
    "\n",
    "plt.ylabel(\"Relative change in M between cycles\")\n",
    "plt.xlabel(\"Mass at birth\")\n",
    "plt.title(f\"delta = {params['delta']}\")\n",
    "plt.grid()"
   ]
  },
  {
   "cell_type": "code",
   "execution_count": null,
   "id": "2a3c9129",
   "metadata": {},
   "outputs": [],
   "source": [
    "_, ax = plt.subplots()\n",
    "\n",
    "ax.plot(cell.M_hist)\n",
    "    \n",
    "ax.grid()\n",
    "ax.set_xlabel(\"t\")\n",
    "ax.set_ylabel(\"M\")\n",
    "ax.set_yscale('log')"
   ]
  },
  {
   "cell_type": "code",
   "execution_count": null,
   "id": "32efa3b6",
   "metadata": {},
   "outputs": [],
   "source": [
    "plt.plot(cell.RB_c_hist, label=\"sim\")\n",
    "\n",
    "t = np.linspace(0, 500*params['dt'], 500)\n",
    "# plt.plot(theory.analytical_RBc(cell.RB_c_hist[0], params, t), linestyle='--', label='analytical')\n",
    "# plt.legend()\n",
    "plt.xlabel('time')\n",
    "plt.ylabel(\"RBc\")"
   ]
  },
  {
   "cell_type": "code",
   "execution_count": null,
   "id": "2d02b8ad",
   "metadata": {},
   "outputs": [],
   "source": [
    "plt.plot(cell.RB_hist)\n",
    "# plt.plot(analytical_RB(cell.RB_hist[0], cell.M_hist[0], params, t), linestyle='--')\n",
    "plt.xlabel('time')\n",
    "plt.ylabel('RB')"
   ]
  },
  {
   "cell_type": "code",
   "execution_count": null,
   "id": "96b9346b",
   "metadata": {},
   "outputs": [],
   "source": [
    "_, ax = plt.subplots()\n",
    "ax.plot(cell.RB_c_hist)\n",
    "ax.axhline([params['alpha']/(params['beta0'] + params['gamma'])], linestyle='--', color='red', label=\"Max\")\n",
    "ax.axhline([params['alpha']/(params['beta0']*params['epsilon'] + params['gamma'])], linestyle='--', color='red', label=\"Min\")\n",
    "ax.axhline([params['transition_th']], linestyle='--', color='green', label=\"Transition threshold\")\n",
    "\n",
    "plt.xlabel(\"Time\")\n",
    "plt.ylabel(\"RBc\")\n",
    "plt.legend()"
   ]
  },
  {
   "cell_type": "code",
   "execution_count": null,
   "id": "f58e92ef",
   "metadata": {},
   "outputs": [],
   "source": [
    "# computing the mass ratios between cycles\n",
    "rats_sim = []\n",
    "rats_th = []\n",
    "th_vec = np.linspace(0.2, 1.5, 10)\n",
    "\n",
    "\n",
    "for th in th_vec: \n",
    "    params_crt = params.copy()\n",
    "    params_crt['transition_th'] = th * limit_th\n",
    "    \n",
    "    \n",
    "    rats_th.append(theoretical_M_ratio(params_crt))\n",
    "    cell_ = cell_models.cell(params=params_crt)\n",
    "    cell_.grow(int(5e4))\n",
    "    \n",
    "    _, stats = load_utils.get_phase_durations(cell_)\n",
    "    rats = [stats['birth'][i+1]/stats['birth'][i] for i in range(len(stats['birth'])-1)]\n",
    "    \n",
    "    rats_sim.append(np.mean(rats[-10:]))\n",
    "    "
   ]
  },
  {
   "cell_type": "code",
   "execution_count": null,
   "id": "2b3a9f4d",
   "metadata": {},
   "outputs": [],
   "source": [
    "_, ax = plt.subplots()\n",
    "ax.plot(th_vec, rats_th, 'o--', label=\"theory\")\n",
    "ax.plot(th_vec, rats_sim, 'o--', label=\"simulation\")\n",
    "ax.axvline([1], linestyle='--', color='red')\n",
    "ax.axhline([1], linestyle='--', color='red')\n",
    "ax.set_xlabel(\"Transition threshold\")\n",
    "ax.set_ylabel(\"relative change in M\")\n",
    "ax.grid()\n",
    "ax.legend()\n",
    "# if that is correct, the value should act as a limit value for convergence vs divergence..."
   ]
  },
  {
   "cell_type": "markdown",
   "id": "a10523e3",
   "metadata": {},
   "source": [
    "# Is it possible to have both constraints on the transition threshold valid? "
   ]
  },
  {
   "cell_type": "markdown",
   "id": "dc7325d1",
   "metadata": {},
   "source": [
    "**Note** I am not sure how relevant/useful this analysis is"
   ]
  },
  {
   "cell_type": "markdown",
   "id": "c4284281",
   "metadata": {},
   "source": [
    "We find the durations of SG2 that would respect the conditions for the transition threshold. "
   ]
  },
  {
   "cell_type": "code",
   "execution_count": null,
   "id": "69f446c8",
   "metadata": {},
   "outputs": [],
   "source": [
    "params=cell_models.DEFAULT_PARAMS.copy()\n",
    "params['k_trans'] = 1000\n",
    "params['transition'] = 'RBc' # 'size'\n",
    "params['gamma'] = .01\n",
    "params['beta0'] = .5\n",
    "params['alpha'] = .01\n",
    "params['epsilon'] = .02\n",
    "params['duration_SG2'] = 10"
   ]
  },
  {
   "cell_type": "code",
   "execution_count": null,
   "id": "b9b5dee7",
   "metadata": {},
   "outputs": [],
   "source": [
    "taus = np.linspace(15, 75, 100)\n",
    "\n",
    "limit_values = []\n",
    "for t in taus: \n",
    "    params_crt = params.copy()\n",
    "    params_crt['duration_SG2'] = t\n",
    "    \n",
    "    limit_th = cell_models.check_conditions(params_crt)\n",
    "    limit_values.append(limit_th)\n",
    "    \n",
    "    \n",
    "C1 = params['alpha']/(params['beta0']+params['gamma'])\n",
    "C2 = params['alpha']/(params['epsilon']*params['beta0']+params['gamma'])\n",
    "\n",
    "_, ax = plt.subplots()\n",
    "ax.plot(taus, limit_values)\n",
    "ax.axhline([C1], color='red', linestyle='--')\n",
    "ax.axhline([C2], color='red', linestyle='--')\n",
    "\n",
    "ax.set_xlabel(\"t_sg2\")\n",
    "ax.set_ylim([.9*C1, 1.5*C2])\n",
    "ax.grid()\n",
    "ax.set_ylabel(\"Condition for transition threshold\")\n",
    "ax.set_yscale('log')"
   ]
  },
  {
   "cell_type": "markdown",
   "id": "83b2c708",
   "metadata": {},
   "source": [
    "We can take a duration of 60 hours"
   ]
  },
  {
   "cell_type": "markdown",
   "id": "615fc1e5",
   "metadata": {},
   "source": [
    "# Stability of the delta< 1 model"
   ]
  },
  {
   "cell_type": "markdown",
   "id": "a3be40d2",
   "metadata": {},
   "source": [
    "We observe that the models with delta<1 are stable oscillators. Why? "
   ]
  },
  {
   "cell_type": "markdown",
   "id": "4a0d3fd2",
   "metadata": {},
   "source": [
    "## delta = 0"
   ]
  },
  {
   "cell_type": "markdown",
   "id": "63c333cd",
   "metadata": {},
   "source": [
    "In this case with the implicit function theorem we can map the derivative of the ratio of masses at G1 as a function of the mass at G1. This derivative looks to be always negative... is that even true? "
   ]
  },
  {
   "cell_type": "code",
   "execution_count": null,
   "id": "8a6c3a3b",
   "metadata": {},
   "outputs": [],
   "source": [
    "def dgdy(z, y, alpha, beta, gamma, epsilon, Omega, tau2): \n",
    "    A = -gamma * tau2 / y**2\n",
    "    B = -gamma/beta * (Omega * z / (Omega * z * y - alpha/beta) - (Omega * np.exp(-epsilon*beta*tau2)))/((Omega * y - alpha/epsilon/beta) * np.exp(-epsilon*beta*tau2) + alpha/epsilon/beta - alpha/beta)\n",
    "    return A + B"
   ]
  },
  {
   "cell_type": "code",
   "execution_count": null,
   "id": "731da368",
   "metadata": {},
   "outputs": [],
   "source": [
    "def dgdz(z, y, alpha, beta, gamma, epsilon, Omega, tau2):\n",
    "    return -1-gamma/(beta*z-alpha/Omega/y)"
   ]
  },
  {
   "cell_type": "code",
   "execution_count": null,
   "id": "65151281",
   "metadata": {},
   "outputs": [],
   "source": [
    "alpha = 1\n",
    "beta = .2\n",
    "gamma = .4\n",
    "epsilon = .2\n",
    "Omega = .1\n",
    "tau2 = 12"
   ]
  },
  {
   "cell_type": "code",
   "execution_count": null,
   "id": "63585580",
   "metadata": {},
   "outputs": [],
   "source": [
    "n_points = 1000"
   ]
  },
  {
   "cell_type": "code",
   "execution_count": null,
   "id": "b569209e",
   "metadata": {},
   "outputs": [],
   "source": [
    "z_vec = np.linspace(1e-5, 1, n_points)\n",
    "\n",
    "y_vec = np.linspace(1e-5, 1000, n_points)"
   ]
  },
  {
   "cell_type": "code",
   "execution_count": null,
   "id": "ab2b9bb6",
   "metadata": {},
   "outputs": [],
   "source": [
    "dgdy_mat = np.zeros((n_points, n_points))\n",
    "\n",
    "dgdz_mat = np.zeros((n_points, n_points))"
   ]
  },
  {
   "cell_type": "code",
   "execution_count": null,
   "id": "b78cfba1",
   "metadata": {},
   "outputs": [],
   "source": [
    "for (k, z) in enumerate(z_vec):\n",
    "    dgdy_mat[k, :] = dgdy(z, y_vec, alpha, beta, gamma, epsilon, Omega, tau2)\n",
    "    dgdz_mat[k, :] = dgdz(z, y_vec, alpha, beta, gamma, epsilon, Omega, tau2)"
   ]
  },
  {
   "cell_type": "code",
   "execution_count": null,
   "id": "24b87adf",
   "metadata": {},
   "outputs": [],
   "source": [
    "dzdy = dgdz_mat**(-1) * dgdy_mat"
   ]
  },
  {
   "cell_type": "code",
   "execution_count": null,
   "id": "a5154298",
   "metadata": {},
   "outputs": [],
   "source": [
    "dzdy_sign = dzdy>0"
   ]
  },
  {
   "cell_type": "code",
   "execution_count": null,
   "id": "b6daaaee",
   "metadata": {},
   "outputs": [],
   "source": [
    "plt.imshow(dzdy_sign)"
   ]
  },
  {
   "cell_type": "markdown",
   "id": "ce7088c4",
   "metadata": {},
   "source": [
    "There is a surface with instability. So probably if you initialize your system there, you can reach this surface, right? You probably want to plot the flow, right? "
   ]
  },
  {
   "cell_type": "markdown",
   "id": "336ba763",
   "metadata": {},
   "source": [
    "Actually, how can we think of the stability of a system that acts by multiplication? "
   ]
  }
 ],
 "metadata": {
  "kernelspec": {
   "display_name": "Python 3 (ipykernel)",
   "language": "python",
   "name": "python3"
  },
  "language_info": {
   "codemirror_mode": {
    "name": "ipython",
    "version": 3
   },
   "file_extension": ".py",
   "mimetype": "text/x-python",
   "name": "python",
   "nbconvert_exporter": "python",
   "pygments_lexer": "ipython3",
   "version": "3.10.4"
  },
  "toc": {
   "base_numbering": 1,
   "nav_menu": {},
   "number_sections": true,
   "sideBar": true,
   "skip_h1_title": false,
   "title_cell": "Table of Contents",
   "title_sidebar": "Contents",
   "toc_cell": true,
   "toc_position": {
    "height": "calc(100% - 180px)",
    "left": "10px",
    "top": "150px",
    "width": "165px"
   },
   "toc_section_display": true,
   "toc_window_display": true
  }
 },
 "nbformat": 4,
 "nbformat_minor": 5
}
