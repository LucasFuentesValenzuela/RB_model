{
 "cells": [
  {
   "cell_type": "markdown",
   "id": "a008311c",
   "metadata": {
    "toc": true
   },
   "source": [
    "<h1>Table of Contents<span class=\"tocSkip\"></span></h1>\n",
    "<div class=\"toc\"><ul class=\"toc-item\"><li><span><a href=\"#Description\" data-toc-modified-id=\"Description-1\"><span class=\"toc-item-num\">1&nbsp;&nbsp;</span>Description</a></span></li><li><span><a href=\"#Load\" data-toc-modified-id=\"Load-2\"><span class=\"toc-item-num\">2&nbsp;&nbsp;</span>Load</a></span></li></ul></div>"
   ]
  },
  {
   "cell_type": "markdown",
   "id": "437740ec",
   "metadata": {},
   "source": [
    "# Description"
   ]
  },
  {
   "cell_type": "markdown",
   "id": "00337088",
   "metadata": {},
   "source": [
    "We want to: \n",
    "- build a good set of functions to compute the size control\n",
    "- run a sensitivity analysis of the size control as a function of the mass scaling and the relative degradation rate"
   ]
  },
  {
   "cell_type": "markdown",
   "id": "e9453898",
   "metadata": {},
   "source": [
    "The parameters that we expect to have a significant impact are: \n",
    "- the type of transition\n",
    "- the rate of transition `k`\n",
    "- the degradation ratio `epsilon`"
   ]
  },
  {
   "cell_type": "markdown",
   "id": "40492572",
   "metadata": {},
   "source": [
    "The way we do it is: \n",
    "\n",
    "In a script:\n",
    "- Run simulations for a single cell (I don't think it's useful to use populations in this case)\n",
    "- Save simulation results\n",
    "- Compute slopes for the different metrics we plot under `plot_size_control`\n",
    "\n",
    "Here\n",
    "- Analyze the results"
   ]
  },
  {
   "cell_type": "markdown",
   "id": "d8090969",
   "metadata": {},
   "source": [
    "# Load"
   ]
  },
  {
   "cell_type": "code",
   "execution_count": 1,
   "id": "e0374c8d",
   "metadata": {},
   "outputs": [],
   "source": [
    "%load_ext autoreload\n",
    "%autoreload 2"
   ]
  },
  {
   "cell_type": "code",
   "execution_count": 22,
   "id": "171af823",
   "metadata": {},
   "outputs": [],
   "source": [
    "import numpy as np\n",
    "import matplotlib.pyplot as plt\n",
    "import pandas as pd"
   ]
  },
  {
   "cell_type": "code",
   "execution_count": 3,
   "id": "2f038b20",
   "metadata": {},
   "outputs": [],
   "source": [
    "from RBmodel import cell_models"
   ]
  },
  {
   "cell_type": "code",
   "execution_count": 4,
   "id": "4300d4ba",
   "metadata": {},
   "outputs": [],
   "source": [
    "from RBmodel import load_utils, plot_utils, analysis"
   ]
  },
  {
   "cell_type": "code",
   "execution_count": 18,
   "id": "abaa8ae6",
   "metadata": {},
   "outputs": [],
   "source": [
    "import pickle"
   ]
  },
  {
   "cell_type": "code",
   "execution_count": 28,
   "id": "a83e718d",
   "metadata": {},
   "outputs": [],
   "source": [
    "from sklearn.linear_model import LinearRegression"
   ]
  },
  {
   "cell_type": "code",
   "execution_count": 5,
   "id": "217a0db3",
   "metadata": {},
   "outputs": [],
   "source": [
    "params = cell_models.DEFAULT_PARAMS.copy()"
   ]
  },
  {
   "cell_type": "code",
   "execution_count": 64,
   "id": "e1612453",
   "metadata": {},
   "outputs": [
    {
     "data": {
      "text/plain": [
       "True"
      ]
     },
     "execution_count": 64,
     "metadata": {},
     "output_type": "execute_result"
    }
   ],
   "source": [
    "1 != 2"
   ]
  },
  {
   "cell_type": "code",
   "execution_count": null,
   "id": "84b52367",
   "metadata": {},
   "outputs": [],
   "source": []
  }
 ],
 "metadata": {
  "kernelspec": {
   "display_name": "Python 3 (ipykernel)",
   "language": "python",
   "name": "python3"
  },
  "language_info": {
   "codemirror_mode": {
    "name": "ipython",
    "version": 3
   },
   "file_extension": ".py",
   "mimetype": "text/x-python",
   "name": "python",
   "nbconvert_exporter": "python",
   "pygments_lexer": "ipython3",
   "version": "3.10.4"
  },
  "toc": {
   "base_numbering": 1,
   "nav_menu": {},
   "number_sections": true,
   "sideBar": true,
   "skip_h1_title": false,
   "title_cell": "Table of Contents",
   "title_sidebar": "Contents",
   "toc_cell": true,
   "toc_position": {},
   "toc_section_display": true,
   "toc_window_display": true
  }
 },
 "nbformat": 4,
 "nbformat_minor": 5
}
