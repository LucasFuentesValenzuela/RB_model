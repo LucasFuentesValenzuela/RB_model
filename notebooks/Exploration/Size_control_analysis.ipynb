{
 "cells": [
  {
   "cell_type": "markdown",
   "id": "6121251f",
   "metadata": {
    "toc": true
   },
   "source": [
    "<h1>Table of Contents<span class=\"tocSkip\"></span></h1>\n",
    "<div class=\"toc\"><ul class=\"toc-item\"><li><span><a href=\"#Description\" data-toc-modified-id=\"Description-1\"><span class=\"toc-item-num\">1&nbsp;&nbsp;</span>Description</a></span></li><li><span><a href=\"#Notes\" data-toc-modified-id=\"Notes-2\"><span class=\"toc-item-num\">2&nbsp;&nbsp;</span>Notes</a></span></li><li><span><a href=\"#Load\" data-toc-modified-id=\"Load-3\"><span class=\"toc-item-num\">3&nbsp;&nbsp;</span>Load</a></span></li><li><span><a href=\"#Plot-the-results-of-the-analysis\" data-toc-modified-id=\"Plot-the-results-of-the-analysis-4\"><span class=\"toc-item-num\">4&nbsp;&nbsp;</span>Plot the results of the analysis</a></span><ul class=\"toc-item\"><li><span><a href=\"#Analysis-of-06012023\" data-toc-modified-id=\"Analysis-of-06012023-4.1\"><span class=\"toc-item-num\">4.1&nbsp;&nbsp;</span>Analysis of 06012023</a></span></li><li><span><a href=\"#Analyze-a-specific-case\" data-toc-modified-id=\"Analyze-a-specific-case-4.2\"><span class=\"toc-item-num\">4.2&nbsp;&nbsp;</span>Analyze a specific case</a></span></li></ul></li><li><span><a href=\"#Analyze-specific-cases\" data-toc-modified-id=\"Analyze-specific-cases-5\"><span class=\"toc-item-num\">5&nbsp;&nbsp;</span>Analyze specific cases</a></span></li><li><span><a href=\"#How-do-things-change-when-we-only-change-eps?\" data-toc-modified-id=\"How-do-things-change-when-we-only-change-eps?-6\"><span class=\"toc-item-num\">6&nbsp;&nbsp;</span>How do things change when we only change eps?</a></span></li></ul></div>"
   ]
  },
  {
   "cell_type": "markdown",
   "id": "eb006adc",
   "metadata": {},
   "source": [
    "# Description"
   ]
  },
  {
   "cell_type": "markdown",
   "id": "4d1d3675",
   "metadata": {},
   "source": [
    "We want to: \n",
    "- build a good set of functions to compute the size control\n",
    "- run a sensitivity analysis of the size control as a function of the mass scaling and the relative degradation rate"
   ]
  },
  {
   "cell_type": "markdown",
   "id": "4e8d1201",
   "metadata": {},
   "source": [
    "The parameters that we expect to have a significant impact are: \n",
    "- the type of transition\n",
    "- the rate of transition `k`\n",
    "- the degradation ratio `epsilon`"
   ]
  },
  {
   "cell_type": "markdown",
   "id": "81de0ad9",
   "metadata": {},
   "source": [
    "The way we do it is: \n",
    "\n",
    "In a script:\n",
    "- Run simulations for a single cell (I don't think it's useful to use populations in this case)\n",
    "- Save simulation results\n",
    "- Compute slopes for the different metrics we plot under `plot_size_control`\n",
    "\n",
    "Here\n",
    "- Analyze the results"
   ]
  },
  {
   "cell_type": "markdown",
   "id": "9d23fc3e",
   "metadata": {},
   "source": [
    "# Notes"
   ]
  },
  {
   "cell_type": "markdown",
   "id": "9b574e3f",
   "metadata": {},
   "source": [
    "Current observations are that: \n",
    "- `k_trans` needs to be very high to have a perfectly cycling system. However, even for moderate values, you have a little spread which translates into a slope, but that might be completely meaningless\n",
    "- `k_trans` infuses sufficient stochasticity in the system for short simulations to be wrongly informative in terms of the slopes. We need multiple samples\n",
    "- `transition_th` seems to have some influence on the slope character... To be confirmed. \n",
    "\n",
    "Things we can check: \n",
    "- CV of the mass at birth: this needs to be sufficiently large to measure a real size control - but cannot be too large either otherwise you have abnormally long transition phase. \n",
    "- introduce more noise elsewhere. e.g. (i) G2 duration: that will change where we land and therefore will disrupt the MG1. (ii) asymmetric division: this will also disrupt where we land\n",
    "- the time in G1 as a function of `k_trans` (should not impact it too much) and `transition_th` (should impact it a lot!"
   ]
  },
  {
   "cell_type": "markdown",
   "id": "7187b9c2",
   "metadata": {},
   "source": [
    "# Load"
   ]
  },
  {
   "cell_type": "code",
   "execution_count": null,
   "id": "cc003387",
   "metadata": {},
   "outputs": [],
   "source": [
    "%load_ext autoreload\n",
    "%autoreload 2"
   ]
  },
  {
   "cell_type": "code",
   "execution_count": null,
   "id": "1a3fdb2e",
   "metadata": {},
   "outputs": [],
   "source": [
    "import numpy as np\n",
    "import matplotlib.pyplot as plt\n",
    "import pandas as pd"
   ]
  },
  {
   "cell_type": "code",
   "execution_count": null,
   "id": "74464a62",
   "metadata": {},
   "outputs": [],
   "source": [
    "import os\n",
    "\n",
    "import pickle"
   ]
  },
  {
   "cell_type": "code",
   "execution_count": null,
   "id": "e3b3f161",
   "metadata": {},
   "outputs": [],
   "source": [
    "from RBmodel import plot_utils, load_utils"
   ]
  },
  {
   "cell_type": "code",
   "execution_count": null,
   "id": "37755177",
   "metadata": {},
   "outputs": [],
   "source": [
    "def _viz_slope(stats, df_):\n",
    "    \"\"\"\n",
    "    visualize the slope of the size control plot\n",
    "    \"\"\"\n",
    "    \n",
    "    plt.figure()\n",
    "\n",
    "    x = stats['birth'] - np.mean(stats['birth'])\n",
    "    y1 = stats['delta'][0] - np.mean(stats['delta'][0])\n",
    "    slope_ = (df_['slopes_G1_delta']) \n",
    "    eps = df_[\"epsilon\"]\n",
    "    y2 = slope_* x\n",
    "\n",
    "    plt.scatter(\n",
    "            x, y1, s=2\n",
    "        )\n",
    "    plt.grid()\n",
    "    plt.plot(\n",
    "        x, y2\n",
    "    )\n",
    "\n",
    "\n",
    "    plt.title(f\"Viz of the estimated slope: {np.round(slope_, decimals=2)}; eps={eps}\")\n",
    "    plt.xlabel(\"M at birth\")\n",
    "    plt.ylabel(\"M_G1S - M birth\")\n",
    "    return"
   ]
  },
  {
   "cell_type": "markdown",
   "id": "fad84b5f",
   "metadata": {},
   "source": [
    "# Plot the results of the analysis"
   ]
  },
  {
   "cell_type": "markdown",
   "id": "75605282",
   "metadata": {},
   "source": [
    "The cells below load the results file `results.csv` and plot one figure for each transition type. The figure is saved locally."
   ]
  },
  {
   "cell_type": "markdown",
   "id": "88078849",
   "metadata": {},
   "source": [
    "**NOTE** This is valid for the first analysis (that was iterating through 4 parameters). Not for the latest analysis. "
   ]
  },
  {
   "cell_type": "code",
   "execution_count": null,
   "id": "edea3c9b",
   "metadata": {},
   "outputs": [],
   "source": [
    "EXP_DIR = \"/Users/lucasfuentes/RB_model/data/size_control\"\n",
    "\n",
    "df_exp = pd.read_csv(os.path.join(EXP_DIR, \"results.csv\"), index_col = 0)"
   ]
  },
  {
   "cell_type": "code",
   "execution_count": null,
   "id": "ffb97fd5",
   "metadata": {},
   "outputs": [],
   "source": [
    "plot_utils.plot_size_control_slope_analysis(df_exp, \"/Users/lucasfuentes/RB_model/figs\")"
   ]
  },
  {
   "cell_type": "markdown",
   "id": "5ce7e7f4",
   "metadata": {},
   "source": [
    "## Analysis of 06012023"
   ]
  },
  {
   "cell_type": "markdown",
   "id": "58bbf938",
   "metadata": {},
   "source": [
    "Here we realize that the two bigger factors might be k and transition threshold in determining the size control capacity. \n",
    "\n",
    "Of course, it might depend on other parameters. "
   ]
  },
  {
   "cell_type": "markdown",
   "id": "8eed6efe",
   "metadata": {},
   "source": [
    "The function `plot_utils.plot_size_control_slope_analysis()` is not adapted to this analysis, so we will do it here for now. "
   ]
  },
  {
   "cell_type": "code",
   "execution_count": null,
   "id": "39b5dc1b",
   "metadata": {},
   "outputs": [],
   "source": [
    "EXP_DIR = \"/Users/lucasfuentes/RB_model/data/size_control/060623\"\n",
    "\n",
    "df_exp = pd.read_csv(os.path.join(EXP_DIR, \"results.csv\"), index_col = 0)"
   ]
  },
  {
   "cell_type": "code",
   "execution_count": null,
   "id": "0f8640a3",
   "metadata": {},
   "outputs": [],
   "source": [
    "uniq_k = df_exp['k_trans'].unique()"
   ]
  },
  {
   "cell_type": "code",
   "execution_count": null,
   "id": "4032a628",
   "metadata": {},
   "outputs": [],
   "source": [
    "uniq_e = df_exp[\"epsilon\"].unique()"
   ]
  },
  {
   "cell_type": "code",
   "execution_count": null,
   "id": "d60c919b",
   "metadata": {},
   "outputs": [],
   "source": [
    "uniq_d = df_exp[\"delta\"].unique()"
   ]
  },
  {
   "cell_type": "code",
   "execution_count": null,
   "id": "b914212b",
   "metadata": {},
   "outputs": [],
   "source": [
    "uniq_d"
   ]
  },
  {
   "cell_type": "code",
   "execution_count": null,
   "id": "15b42f17",
   "metadata": {},
   "outputs": [],
   "source": [
    "d = .8"
   ]
  },
  {
   "cell_type": "code",
   "execution_count": null,
   "id": "5c05fb16",
   "metadata": {},
   "outputs": [],
   "source": [
    "fig, ax = plt.subplots(len(uniq_e), 2, figsize=(10, 3*len(uniq_e)))\n",
    "\n",
    "for (i, eps) in enumerate(uniq_e):\n",
    "    df_exp_ = df_exp.loc[(df_exp['epsilon']==eps) & (df_exp['delta']==d)]\n",
    "\n",
    "    for k in uniq_k: \n",
    "        df_ = df_exp_.loc[df_exp_['k_trans']==k]\n",
    "        ax[i, 0].plot(df_['transition_th'], df_['slopes_G1_delta'], 'o--',label=f\"k={k}\")\n",
    "        ax[i, 1].plot(df_['transition_th'], df_['CV_M_birth'] * 100, 'o--',label=f\"k={k}\")\n",
    "\n",
    "#     ax[i, 0].legend()\n",
    "    ax[i, 0].grid()\n",
    "    ax[i, 0].set_xlabel(\"transition th\")\n",
    "    ax[i, 0].set_ylabel(\"Slope\")\n",
    "\n",
    "    ax[i, 1].legend()\n",
    "    ax[i, 1].grid()\n",
    "    ax[i, 1].set_xlabel(\"transition th\")\n",
    "    ax[i, 1].set_ylabel(\"CV_M_birth [%]\")\n",
    "    \n",
    "    ax[i, 0].set_title(f\"eps = {eps}\")\n",
    "    ax[i, 1].set_title(f\"eps = {eps}\")\n",
    "    \n",
    "fig.tight_layout()"
   ]
  },
  {
   "cell_type": "markdown",
   "id": "af524e9c",
   "metadata": {},
   "source": [
    "What do we observe?\n",
    "- CV is very much set by `k` and `th`. `eps` does not impact the result in any way\n",
    "- When `eps` is low, the `th` has an impact in how much size control there is. if `eps` is high, the `th` does not really change anything. This seems to be the case regardless of the value of `k`"
   ]
  },
  {
   "cell_type": "markdown",
   "id": "8862bc70",
   "metadata": {},
   "source": [
    "The sensitivity of the slope increases when `delta` increases. The more linear it is, the more `th` will impact the slope at low values of `k`. "
   ]
  },
  {
   "cell_type": "markdown",
   "id": "aa352d0f",
   "metadata": {},
   "source": [
    "**Note**: you also cannot neglect the role of `alpha` in the system. This directly tunes the synthesis rate, and its relative value compared to `gamma` is important."
   ]
  },
  {
   "cell_type": "markdown",
   "id": "30eb2a26",
   "metadata": {},
   "source": [
    "## Analyze a specific case"
   ]
  },
  {
   "cell_type": "code",
   "execution_count": null,
   "id": "582d97d8",
   "metadata": {},
   "outputs": [],
   "source": [
    "uniq_k"
   ]
  },
  {
   "cell_type": "code",
   "execution_count": null,
   "id": "d2cd58cf",
   "metadata": {},
   "outputs": [],
   "source": [
    "uniq_e"
   ]
  },
  {
   "cell_type": "code",
   "execution_count": null,
   "id": "3f791938",
   "metadata": {},
   "outputs": [],
   "source": [
    "df_exp[\"transition_th\"].unique()"
   ]
  },
  {
   "cell_type": "code",
   "execution_count": null,
   "id": "7ea83246",
   "metadata": {},
   "outputs": [],
   "source": [
    "tr = \"RBc\"\n",
    "k_trans = .05\n",
    "eps = 0.1\n",
    "th = 2."
   ]
  },
  {
   "cell_type": "code",
   "execution_count": null,
   "id": "f573ef5a",
   "metadata": {},
   "outputs": [],
   "source": [
    "df_ = df_exp.loc[\n",
    "    (df_exp[\"transition\"]==tr) & (df_exp[\"delta\"]==d) & (df_exp[\"epsilon\"]==eps) & (df_exp[\"k_trans\"]==k_trans) & (df_exp[\"transition_th\"]==th)\n",
    "]\n",
    "df_ = df_.loc[df_.index[0]]\n",
    "\n",
    "fnm = df_[\"stats_file_path\"]\n",
    "\n",
    "stats = load_utils.load_size_control_analysis_results(fnm)\n",
    "\n",
    "plot_utils.plot_size_control(stats=stats)"
   ]
  },
  {
   "cell_type": "markdown",
   "id": "6e0c2d9a",
   "metadata": {},
   "source": [
    "TODO: plot G1 duration as a function of several parameters (e.g. transition th)"
   ]
  },
  {
   "cell_type": "code",
   "execution_count": null,
   "id": "86650696",
   "metadata": {},
   "outputs": [],
   "source": [
    "plt.scatter(df_exp[\"slopes_G1_delta\"], df_exp[\"slopes_G2_delta\"], alpha=.3)\n",
    "plt.grid()\n",
    "plt.xlabel(\"G1 size control\")\n",
    "plt.ylabel(\"Full cell cycle size control\")"
   ]
  },
  {
   "cell_type": "markdown",
   "id": "f9787ae6",
   "metadata": {},
   "source": [
    "# Analyze specific cases"
   ]
  },
  {
   "cell_type": "code",
   "execution_count": null,
   "id": "f44b83d7",
   "metadata": {},
   "outputs": [],
   "source": []
  },
  {
   "cell_type": "code",
   "execution_count": null,
   "id": "50ece356",
   "metadata": {},
   "outputs": [],
   "source": [
    "# choose the parameters for which to plot\n",
    "\n",
    "tr = \"RBc\"\n",
    "delta = .5\n",
    "k_trans = 1."
   ]
  },
  {
   "cell_type": "code",
   "execution_count": null,
   "id": "0dcce009",
   "metadata": {},
   "outputs": [],
   "source": [
    "eps = .5"
   ]
  },
  {
   "cell_type": "code",
   "execution_count": null,
   "id": "03735f4d",
   "metadata": {},
   "outputs": [],
   "source": [
    "df_ = df_exp.loc[\n",
    "    (df_exp[\"transition\"]==tr) & (df_exp[\"delta\"]==delta) & (df_exp[\"epsilon\"]==eps) & (df_exp[\"k_trans\"]==k_trans)\n",
    "]\n",
    "df_ = df_.loc[df_.index[0]]\n",
    "\n",
    "fnm = df_[\"stats_file_path\"]\n",
    "\n",
    "stats = load_utils.load_size_control_analysis_results(fnm)"
   ]
  },
  {
   "cell_type": "code",
   "execution_count": null,
   "id": "11044f6d",
   "metadata": {},
   "outputs": [],
   "source": [
    "plot_utils.plot_size_control(stats=stats)"
   ]
  },
  {
   "cell_type": "code",
   "execution_count": null,
   "id": "06225b05",
   "metadata": {},
   "outputs": [],
   "source": [
    "_viz_slope(stats, df_)"
   ]
  },
  {
   "cell_type": "markdown",
   "id": "70fb035b",
   "metadata": {},
   "source": [
    "# How do things change when we only change eps? "
   ]
  },
  {
   "cell_type": "markdown",
   "id": "47629178",
   "metadata": {},
   "source": [
    "We expect a change in size control as eps changes... can we visualize that? "
   ]
  },
  {
   "cell_type": "code",
   "execution_count": null,
   "id": "a0803ab1",
   "metadata": {},
   "outputs": [],
   "source": [
    "df_eps = df_exp.loc[\n",
    "    (df_exp[\"transition\"]==tr) & (df_exp[\"delta\"]==delta) & (df_exp[\"k_trans\"]==k_trans)\n",
    "]"
   ]
  },
  {
   "cell_type": "code",
   "execution_count": null,
   "id": "26318e13",
   "metadata": {},
   "outputs": [],
   "source": [
    "for idx in df_eps.index:\n",
    "    \n",
    "    df_crt = df_eps.loc[idx]\n",
    "    fnm = df_crt[\"stats_file_path\"]\n",
    "\n",
    "    stats = load_utils.load_size_control_analysis_results(fnm)\n",
    "    \n",
    "    _viz_slope(stats, df_crt)"
   ]
  },
  {
   "cell_type": "markdown",
   "id": "d67d27c3",
   "metadata": {},
   "source": [
    "Plot the time spent in G1 as a function of eps!"
   ]
  },
  {
   "cell_type": "code",
   "execution_count": null,
   "id": "8a6454d7",
   "metadata": {},
   "outputs": [],
   "source": []
  }
 ],
 "metadata": {
  "kernelspec": {
   "display_name": "Python 3 (ipykernel)",
   "language": "python",
   "name": "python3"
  },
  "language_info": {
   "codemirror_mode": {
    "name": "ipython",
    "version": 3
   },
   "file_extension": ".py",
   "mimetype": "text/x-python",
   "name": "python",
   "nbconvert_exporter": "python",
   "pygments_lexer": "ipython3",
   "version": "3.10.4"
  },
  "toc": {
   "base_numbering": 1,
   "nav_menu": {},
   "number_sections": true,
   "sideBar": true,
   "skip_h1_title": false,
   "title_cell": "Table of Contents",
   "title_sidebar": "Contents",
   "toc_cell": true,
   "toc_position": {},
   "toc_section_display": true,
   "toc_window_display": true
  }
 },
 "nbformat": 4,
 "nbformat_minor": 5
}
