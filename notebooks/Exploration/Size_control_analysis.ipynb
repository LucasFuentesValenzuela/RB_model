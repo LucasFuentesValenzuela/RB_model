{
 "cells": [
  {
   "cell_type": "markdown",
   "id": "6121251f",
   "metadata": {
    "toc": true
   },
   "source": [
    "<h1>Table of Contents<span class=\"tocSkip\"></span></h1>\n",
    "<div class=\"toc\"><ul class=\"toc-item\"><li><span><a href=\"#Description\" data-toc-modified-id=\"Description-1\"><span class=\"toc-item-num\">1&nbsp;&nbsp;</span>Description</a></span></li><li><span><a href=\"#Load\" data-toc-modified-id=\"Load-2\"><span class=\"toc-item-num\">2&nbsp;&nbsp;</span>Load</a></span></li></ul></div>"
   ]
  },
  {
   "cell_type": "markdown",
   "id": "eb006adc",
   "metadata": {},
   "source": [
    "# Description"
   ]
  },
  {
   "cell_type": "markdown",
   "id": "4d1d3675",
   "metadata": {},
   "source": [
    "We want to: \n",
    "- build a good set of functions to compute the size control\n",
    "- run a sensitivity analysis of the size control as a function of the mass scaling and the relative degradation rate"
   ]
  },
  {
   "cell_type": "markdown",
   "id": "4e8d1201",
   "metadata": {},
   "source": [
    "The parameters that we expect to have a significant impact are: \n",
    "- the type of transition\n",
    "- the rate of transition `k`\n",
    "- the degradation ratio `epsilon`"
   ]
  },
  {
   "cell_type": "markdown",
   "id": "81de0ad9",
   "metadata": {},
   "source": [
    "The way we do it is: \n",
    "\n",
    "In a script:\n",
    "- Run simulations for a single cell (I don't think it's useful to use populations in this case)\n",
    "- Save simulation results\n",
    "- Compute slopes for the different metrics we plot under `plot_size_control`\n",
    "\n",
    "Here\n",
    "- Analyze the results"
   ]
  },
  {
   "cell_type": "markdown",
   "id": "7187b9c2",
   "metadata": {},
   "source": [
    "# Load"
   ]
  },
  {
   "cell_type": "code",
   "execution_count": null,
   "id": "cc003387",
   "metadata": {},
   "outputs": [],
   "source": [
    "%load_ext autoreload\n",
    "%autoreload 2"
   ]
  },
  {
   "cell_type": "code",
   "execution_count": null,
   "id": "1a3fdb2e",
   "metadata": {},
   "outputs": [],
   "source": [
    "import numpy as np\n",
    "import matplotlib.pyplot as plt\n",
    "import pandas as pd"
   ]
  },
  {
   "cell_type": "code",
   "execution_count": null,
   "id": "74464a62",
   "metadata": {},
   "outputs": [],
   "source": [
    "import os\n",
    "\n",
    "import pickle"
   ]
  },
  {
   "cell_type": "code",
   "execution_count": null,
   "id": "edea3c9b",
   "metadata": {},
   "outputs": [],
   "source": [
    "EXP_DIR = \"/Users/lucasfuentes/RB_model/data/size_control\"\n",
    "\n",
    "df_exp = pd.read_csv(os.path.join(EXP_DIR, \"results.csv\"), index_col = 0)\n",
    "\n",
    "plot_size_control(df_exp, \"/Users/lucasfuentes/RB_model/figs\")\n",
    "\n",
    "def plot_size_control(df_exp, save_dir):\n",
    "    slopes_to_plot = [\"slopes_G1_growth\", \"slopes_G1_length\", \"slopes_G1_delta\"]\n",
    "    \n",
    "    for transition in [\"size\", \"RBc\"]:\n",
    "        \n",
    "        df_exp_ = df_exp.loc[df_exp[\"transition\"] == transition]\n",
    "        uniq_k = df_exp[\"k_trans\"].unique()\n",
    "        \n",
    "        fig, ax = plt.subplots(layout='constrained',figsize=(10, 4 * uniq_k.shape[0]))\n",
    "        subfigs = fig.subfigures(uniq_k.shape[0], 1)\n",
    "        \n",
    "        for (i,k) in enumerate(uniq_k):\n",
    "            \n",
    "            ax = subfigs[i].subplots(1, len(slopes_to_plot))\n",
    "            subfigs[i].suptitle(f\"k={k}\")\n",
    "            \n",
    "            # plot the slopes as a function of epsilon, for different values of delta\n",
    "            \n",
    "            df_ = df_exp_.loc[df_exp_[\"k_trans\"] == k].copy()\n",
    "            uniq_d = df_[\"delta\"].unique()\n",
    "\n",
    "            for d in uniq_d:\n",
    "                df_tmp = df_.loc[df_[\"delta\"] == d]\n",
    "\n",
    "                for (j, s) in enumerate(slopes_to_plot):\n",
    "\n",
    "                    ax[j].plot(df_tmp[\"epsilon\"], df_tmp[s], \"o--\", label=f\"delta={d}\")\n",
    "\n",
    "                    ax[j].set_ylabel(s)\n",
    "\n",
    "                    ax[j].set_xlabel(\"epsilon\")\n",
    "\n",
    "            ax[2].legend()\n",
    "            \n",
    "#             subfigs[1].tight_layout()\n",
    "\n",
    "            # plt.legend(loc=\"outside\")      \n",
    "#         fig.tight_layout()\n",
    "        fig.suptitle(f\"transition = {transition}\")\n",
    "        plt.savefig(os.path.join(save_dir, f\"{transition}.pdf\"), dpi=200)\n",
    "        plt.close()\n",
    "        \n",
    "    return"
   ]
  },
  {
   "cell_type": "code",
   "execution_count": null,
   "id": "ffb97fd5",
   "metadata": {},
   "outputs": [],
   "source": []
  }
 ],
 "metadata": {
  "kernelspec": {
   "display_name": "Python 3 (ipykernel)",
   "language": "python",
   "name": "python3"
  },
  "language_info": {
   "codemirror_mode": {
    "name": "ipython",
    "version": 3
   },
   "file_extension": ".py",
   "mimetype": "text/x-python",
   "name": "python",
   "nbconvert_exporter": "python",
   "pygments_lexer": "ipython3",
   "version": "3.10.4"
  },
  "toc": {
   "base_numbering": 1,
   "nav_menu": {},
   "number_sections": true,
   "sideBar": true,
   "skip_h1_title": false,
   "title_cell": "Table of Contents",
   "title_sidebar": "Contents",
   "toc_cell": true,
   "toc_position": {},
   "toc_section_display": true,
   "toc_window_display": true
  }
 },
 "nbformat": 4,
 "nbformat_minor": 5
}
