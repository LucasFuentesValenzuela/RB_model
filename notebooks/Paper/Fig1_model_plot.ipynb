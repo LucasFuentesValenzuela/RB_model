{
 "cells": [
  {
   "cell_type": "markdown",
   "id": "2decdc33",
   "metadata": {
    "toc": true
   },
   "source": [
    "<h1>Table of Contents<span class=\"tocSkip\"></span></h1>\n",
    "<div class=\"toc\"><ul class=\"toc-item\"></ul></div>"
   ]
  },
  {
   "cell_type": "code",
   "execution_count": null,
   "id": "1f104dce",
   "metadata": {},
   "outputs": [],
   "source": [
    "import RBmodel\n",
    "\n",
    "from RBmodel import cell_models\n",
    "\n",
    "from RBmodel.plot_utils import plot_phase_space\n",
    "\n",
    "import numpy as np\n",
    "\n",
    "import matplotlib.pyplot as plt"
   ]
  },
  {
   "cell_type": "code",
   "execution_count": null,
   "id": "674d2423",
   "metadata": {},
   "outputs": [],
   "source": [
    "params = cell_models.DEFAULT_PARAMS"
   ]
  },
  {
   "cell_type": "code",
   "execution_count": null,
   "id": "8d0237cc",
   "metadata": {},
   "outputs": [],
   "source": [
    "params['delta'] = .8\n",
    "params['transition'] = 'size'\n",
    "params['k_trans'] = 1000\n",
    "params['alpha'] = .1\n",
    "params['eta'] = 1.2\n"
   ]
  },
  {
   "cell_type": "code",
   "execution_count": null,
   "id": "b055c62b",
   "metadata": {},
   "outputs": [],
   "source": [
    "params"
   ]
  },
  {
   "cell_type": "code",
   "execution_count": null,
   "id": "c3059fca",
   "metadata": {},
   "outputs": [],
   "source": [
    "T = int(1e5)"
   ]
  },
  {
   "cell_type": "code",
   "execution_count": null,
   "id": "469ac2bd",
   "metadata": {},
   "outputs": [],
   "source": [
    "cell = cell_models.cell()\n",
    "\n",
    "cell.grow(T)"
   ]
  },
  {
   "cell_type": "code",
   "execution_count": null,
   "id": "28711e8c",
   "metadata": {},
   "outputs": [],
   "source": [
    "phases = np.array(cell.phase_hist)\n",
    "\n",
    "phases = (phases == \"G1\").astype(int)"
   ]
  },
  {
   "cell_type": "code",
   "execution_count": null,
   "id": "4509919c",
   "metadata": {},
   "outputs": [],
   "source": [
    "dphases = phases[1:] - phases[:-1]"
   ]
  },
  {
   "cell_type": "code",
   "execution_count": null,
   "id": "76a501f5",
   "metadata": {},
   "outputs": [],
   "source": [
    "G1idx = np.where(dphases==1.)[0]"
   ]
  },
  {
   "cell_type": "code",
   "execution_count": null,
   "id": "42882276",
   "metadata": {},
   "outputs": [],
   "source": [
    "start, end = G1idx[-2]+1, G1idx[-1]-1"
   ]
  },
  {
   "cell_type": "code",
   "execution_count": null,
   "id": "4d03a1b3",
   "metadata": {},
   "outputs": [],
   "source": [
    "G2idx = np.where(dphases==-1.)[0]"
   ]
  },
  {
   "cell_type": "code",
   "execution_count": null,
   "id": "0ef4b6ef",
   "metadata": {},
   "outputs": [],
   "source": [
    "G1S_trans = G2idx[((G2idx > start) & (G2idx < end))][0]"
   ]
  },
  {
   "cell_type": "code",
   "execution_count": null,
   "id": "7e93fe4d",
   "metadata": {},
   "outputs": [],
   "source": [
    "t = np.linspace(start-G1S_trans, end-G1S_trans, end-start)*params['dt']"
   ]
  },
  {
   "cell_type": "code",
   "execution_count": null,
   "id": "63313334",
   "metadata": {},
   "outputs": [],
   "source": [
    "yvals = cell.RB_c_hist\n",
    "\n",
    "plt.plot(t, yvals[start:end])"
   ]
  },
  {
   "cell_type": "code",
   "execution_count": null,
   "id": "7f893be4",
   "metadata": {},
   "outputs": [],
   "source": [
    "yvals = cell.RB_hist\n",
    "\n",
    "plt.plot(t, yvals[start:end])"
   ]
  },
  {
   "cell_type": "code",
   "execution_count": null,
   "id": "21ea2c5f",
   "metadata": {},
   "outputs": [],
   "source": [
    "\n"
   ]
  }
 ],
 "metadata": {
  "kernelspec": {
   "display_name": "Python 3 (ipykernel)",
   "language": "python",
   "name": "python3"
  },
  "language_info": {
   "codemirror_mode": {
    "name": "ipython",
    "version": 3
   },
   "file_extension": ".py",
   "mimetype": "text/x-python",
   "name": "python",
   "nbconvert_exporter": "python",
   "pygments_lexer": "ipython3",
   "version": "3.10.4"
  },
  "toc": {
   "base_numbering": 1,
   "nav_menu": {},
   "number_sections": true,
   "sideBar": true,
   "skip_h1_title": false,
   "title_cell": "Table of Contents",
   "title_sidebar": "Contents",
   "toc_cell": true,
   "toc_position": {},
   "toc_section_display": true,
   "toc_window_display": true
  }
 },
 "nbformat": 4,
 "nbformat_minor": 5
}
