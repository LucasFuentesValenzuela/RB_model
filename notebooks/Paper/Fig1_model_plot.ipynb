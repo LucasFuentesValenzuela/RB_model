{
 "cells": [
  {
   "cell_type": "markdown",
   "id": "2decdc33",
   "metadata": {
    "toc": true
   },
   "source": [
    "<h1>Table of Contents<span class=\"tocSkip\"></span></h1>\n",
    "<div class=\"toc\"><ul class=\"toc-item\"></ul></div>"
   ]
  },
  {
   "cell_type": "code",
   "execution_count": null,
   "id": "1f104dce",
   "metadata": {},
   "outputs": [],
   "source": [
    "import RBmodel\n",
    "\n",
    "from RBmodel import cell_models\n",
    "\n",
    "from RBmodel.plot_utils import plot_phase_space\n",
    "\n",
    "import numpy as np\n",
    "\n",
    "import matplotlib.pyplot as plt\n",
    "\n",
    "import os"
   ]
  },
  {
   "cell_type": "code",
   "execution_count": null,
   "id": "d185b0d5-b34a-4f59-9c02-847efbe4e799",
   "metadata": {},
   "outputs": [],
   "source": [
    "def get_last_phase(cell):\n",
    "    phases = np.array(cell.phase_hist)\n",
    "    \n",
    "    phases = (phases == \"G1\").astype(int)\n",
    "    \n",
    "    dphases = phases[1:] - phases[:-1]\n",
    "    \n",
    "    G1idx = np.where(dphases==1.)[0]\n",
    "    \n",
    "    start, end = G1idx[-2]+1, G1idx[-1]-1 # indices of the last phase\n",
    "    \n",
    "    G2idx = np.where(dphases==-1.)[0]\n",
    "    \n",
    "    G1S_trans = G2idx[((G2idx > start) & (G2idx < end))][0]\n",
    "    \n",
    "    t = np.linspace(start-G1S_trans, end-G1S_trans, end-start)*params['dt']\n",
    "    return start, end, t"
   ]
  },
  {
   "cell_type": "code",
   "execution_count": null,
   "id": "771a85b8-b359-404a-9040-b7b7d723b46d",
   "metadata": {},
   "outputs": [],
   "source": [
    "save = False"
   ]
  },
  {
   "cell_type": "markdown",
   "id": "c2356f9d-90a3-4780-86e6-2b8c86f57fe7",
   "metadata": {},
   "source": [
    "# General model"
   ]
  },
  {
   "cell_type": "code",
   "execution_count": null,
   "id": "674d2423",
   "metadata": {},
   "outputs": [],
   "source": [
    "params = cell_models.DEFAULT_PARAMS"
   ]
  },
  {
   "cell_type": "code",
   "execution_count": null,
   "id": "8d0237cc",
   "metadata": {},
   "outputs": [],
   "source": [
    "params['delta'] = .8\n",
    "params['transition'] = 'size'\n",
    "params['k_trans'] = 1000\n",
    "params['alpha'] = .1\n",
    "params['eta'] = 1.2\n"
   ]
  },
  {
   "cell_type": "code",
   "execution_count": null,
   "id": "b055c62b",
   "metadata": {},
   "outputs": [],
   "source": [
    "params"
   ]
  },
  {
   "cell_type": "code",
   "execution_count": null,
   "id": "c3059fca",
   "metadata": {},
   "outputs": [],
   "source": [
    "T = int(1e5)"
   ]
  },
  {
   "cell_type": "code",
   "execution_count": null,
   "id": "469ac2bd",
   "metadata": {},
   "outputs": [],
   "source": [
    "cell = cell_models.cell()\n",
    "\n",
    "cell.grow(T)"
   ]
  },
  {
   "cell_type": "code",
   "execution_count": null,
   "id": "fba09bc6-e00b-4f34-a02c-4f3c7fd002da",
   "metadata": {},
   "outputs": [],
   "source": [
    "start, end, t = get_last_phase(cell)"
   ]
  },
  {
   "cell_type": "code",
   "execution_count": null,
   "id": "54ecc436",
   "metadata": {},
   "outputs": [],
   "source": [
    "SAVE_DIR = \"/Users/shuyuan/Library/CloudStorage/OneDrive-Stanford/Skotheim lab/RB degradation paper/Figures\""
   ]
  },
  {
   "cell_type": "code",
   "execution_count": null,
   "id": "63313334",
   "metadata": {},
   "outputs": [],
   "source": [
    "yvals = cell.RB_c_hist\n",
    "\n",
    "plt.plot(t, yvals[start:end])\n",
    "\n",
    "if save:\n",
    "    plt.savefig(\n",
    "        os.path.join(SAVE_DIR, \"Figure 1\", \"RBc.eps\"), dpi=300\n",
    "    )"
   ]
  },
  {
   "cell_type": "code",
   "execution_count": null,
   "id": "7f893be4",
   "metadata": {},
   "outputs": [],
   "source": [
    "yvals = cell.RB_hist\n",
    "\n",
    "plt.plot(t, yvals[start:end])\n",
    "\n",
    "if save:\n",
    "    plt.savefig(\n",
    "        os.path.join(SAVE_DIR, \"Figure 1\", \"RB_amount.eps\"), dpi=300\n",
    "    )"
   ]
  },
  {
   "cell_type": "markdown",
   "id": "a79f2baa-fda8-467a-bdc2-2507c14f7d8f",
   "metadata": {},
   "source": [
    "# Comparing with dilution-only model"
   ]
  },
  {
   "cell_type": "code",
   "execution_count": null,
   "id": "9a1651e9-2eba-4d9a-bf6f-3a69e88f9415",
   "metadata": {},
   "outputs": [],
   "source": [
    "fig, ax = plt.subplots(1, 2, figsize=(6, 3))\n",
    "y0 = np.array(cell.RB_c_hist[start:end])\n",
    "y1 = np.array(cell.RB_hist[start:end])\n",
    "M_vec = np.array(cell.M_hist[start:end])\n",
    "\n",
    "ax[0].plot(t, y0, label=\"Current model\")\n",
    "ax[0].plot(t, y1[0]/M_vec, label=\"Dilution model\")\n",
    "ax[0].set_xlim(t[0], 0)\n",
    "\n",
    "ax[1].plot(t, y1, label=\"Current model\")\n",
    "ax[1].axhline([y1[0]], label=\"Dilution model\", color=\"darkorange\")\n",
    "plt.xlim(t[0], 0)\n",
    "\n",
    "# plt.axvline([0], linestyle=\"--\", color=\"grey\")\n",
    "\n",
    "# plt.axvline([0], linestyle=\"--\", color=\"grey\")\n",
    "\n",
    "ax[0].legend()\n",
    "ax[1].legend()\n",
    "\n",
    "ax[0].set_xlabel(\"Time [hrs]\")\n",
    "ax[1].set_xlabel(\"Time [hrs]\")\n",
    "ax[0].set_ylabel(\"RB concentration\")\n",
    "ax[1].set_ylabel(\"RB amount\")\n",
    "\n",
    "fig.tight_layout()\n",
    "\n",
    "ax[0].set_ylim(1, 2)\n",
    "ax[1].set_ylim(1, 1.5)"
   ]
  },
  {
   "cell_type": "markdown",
   "id": "b7b5ff07-9443-46ad-865b-c4f2e8da9355",
   "metadata": {},
   "source": [
    "# Comparing the contribution of dilution vs degradation"
   ]
  },
  {
   "cell_type": "markdown",
   "id": "3b0c59e7-45ce-415d-8c09-1554c42c5185",
   "metadata": {},
   "source": [
    "Here we compare the concentration trends under three different models:\n",
    "- the original model, that contains both degradation and dilution\n",
    "- an alternative model with only degradation: this amounts to looking at the RB amounts curve from the initial model, and assuming that the mass is constant\n",
    "- an alternative model where the degradation rate is zero: in this case we only look at the contribution of dilution"
   ]
  },
  {
   "cell_type": "code",
   "execution_count": null,
   "id": "dd9e2b62-3c60-4305-b08e-0718a4b5e35c",
   "metadata": {},
   "outputs": [],
   "source": [
    "params2 = cell_models.DEFAULT_PARAMS"
   ]
  },
  {
   "cell_type": "code",
   "execution_count": null,
   "id": "03374b4b-eb69-4ba2-8bf3-97bf93e354ef",
   "metadata": {},
   "outputs": [],
   "source": [
    "params2['delta'] = .8\n",
    "params2['transition'] = 'size'\n",
    "params2['k_trans'] = 1000\n",
    "params2['alpha'] = .1\n",
    "params2['eta'] = 1.2\n",
    "params2['beta0'] = 0.\n"
   ]
  },
  {
   "cell_type": "code",
   "execution_count": null,
   "id": "5be39779-a4f7-4c3b-883c-b1720175eacf",
   "metadata": {},
   "outputs": [],
   "source": [
    "params2"
   ]
  },
  {
   "cell_type": "code",
   "execution_count": null,
   "id": "9c1d8e09-2458-4ba8-be61-3b7f79c56b7e",
   "metadata": {},
   "outputs": [],
   "source": [
    "T = int(1e5)"
   ]
  },
  {
   "cell_type": "code",
   "execution_count": null,
   "id": "0c481828-5fa1-429c-8f9e-0558184bbfe3",
   "metadata": {},
   "outputs": [],
   "source": [
    "cell2 = cell_models.cell()\n",
    "\n",
    "cell2.grow(T)"
   ]
  },
  {
   "cell_type": "code",
   "execution_count": null,
   "id": "344a0e88-d9f2-4cc4-b36d-8232de84e542",
   "metadata": {},
   "outputs": [],
   "source": [
    "start2, end2, t2 = get_last_phase(cell2)"
   ]
  },
  {
   "cell_type": "code",
   "execution_count": null,
   "id": "21ea2c5f",
   "metadata": {},
   "outputs": [],
   "source": [
    "yvals2 = cell2.RB_c_hist\n",
    "\n",
    "plt.plot(t2, yvals2[start2:end2])\n"
   ]
  },
  {
   "cell_type": "code",
   "execution_count": null,
   "id": "2504a46c-d44e-4909-ac3b-2df6846cb39e",
   "metadata": {},
   "outputs": [],
   "source": [
    "y0 = np.array(cell.RB_c_hist[start:end])\n",
    "y1 = np.array(cell.RB_hist[start:end])\n",
    "y2 = np.array(cell2.RB_c_hist[start2:end2])\n",
    "\n",
    "plt.plot(t, y0/y0[0], label=\"Degradation + dilution\")\n",
    "plt.plot(t, y1/y1[0], label=\"Degradation only\")\n",
    "plt.plot(t2, y2/y2[0], label=\"Dilution only\")\n",
    "plt.ylim(.5, 1.1)\n",
    "\n",
    "plt.axvline([0], linestyle=\"--\", color=\"grey\")\n",
    "\n",
    "plt.legend()"
   ]
  },
  {
   "cell_type": "code",
   "execution_count": null,
   "id": "a0854e62",
   "metadata": {},
   "outputs": [],
   "source": [
    "M_vec = np.array(cell.M_hist[start:end])\n",
    "plt.plot(t, M_vec/M_vec[0])\n",
    "plt.grid()\n",
    "plt.ylabel(\"M\")\n",
    "plt.xlabel(\"t\")"
   ]
  },
  {
   "cell_type": "code",
   "execution_count": null,
   "id": "0cd0833a-4d15-4d96-b492-9b8ed2c8334d",
   "metadata": {},
   "outputs": [],
   "source": [
    "1- 1/1.4"
   ]
  },
  {
   "cell_type": "code",
   "execution_count": null,
   "id": "49f00291-f5e0-4a3d-8705-111e92a4fb6a",
   "metadata": {},
   "outputs": [],
   "source": []
  }
 ],
 "metadata": {
  "kernelspec": {
   "display_name": "Python 3 (ipykernel)",
   "language": "python",
   "name": "python3"
  },
  "language_info": {
   "codemirror_mode": {
    "name": "ipython",
    "version": 3
   },
   "file_extension": ".py",
   "mimetype": "text/x-python",
   "name": "python",
   "nbconvert_exporter": "python",
   "pygments_lexer": "ipython3",
   "version": "3.11.4"
  },
  "toc": {
   "base_numbering": 1,
   "nav_menu": {},
   "number_sections": true,
   "sideBar": true,
   "skip_h1_title": false,
   "title_cell": "Table of Contents",
   "title_sidebar": "Contents",
   "toc_cell": true,
   "toc_position": {},
   "toc_section_display": true,
   "toc_window_display": true
  }
 },
 "nbformat": 4,
 "nbformat_minor": 5
}
