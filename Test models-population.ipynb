{
 "cells": [
  {
   "cell_type": "markdown",
   "id": "9661f01a",
   "metadata": {
    "toc": true
   },
   "source": [
    "<h1>Table of Contents<span class=\"tocSkip\"></span></h1>\n",
    "<div class=\"toc\"><ul class=\"toc-item\"><li><span><a href=\"#Description\" data-toc-modified-id=\"Description-1\"><span class=\"toc-item-num\">1&nbsp;&nbsp;</span>Description</a></span></li><li><span><a href=\"#Load\" data-toc-modified-id=\"Load-2\"><span class=\"toc-item-num\">2&nbsp;&nbsp;</span>Load</a></span></li><li><span><a href=\"#Illustration-of-the-system\" data-toc-modified-id=\"Illustration-of-the-system-3\"><span class=\"toc-item-num\">3&nbsp;&nbsp;</span>Illustration of the system</a></span></li><li><span><a href=\"#Test-runs\" data-toc-modified-id=\"Test-runs-4\"><span class=\"toc-item-num\">4&nbsp;&nbsp;</span>Test runs</a></span></li></ul></div>"
   ]
  },
  {
   "cell_type": "markdown",
   "id": "22588461",
   "metadata": {},
   "source": [
    "# Description"
   ]
  },
  {
   "cell_type": "markdown",
   "id": "1ec762ac",
   "metadata": {},
   "source": [
    "Interactive notebook to test the model and the different parameters."
   ]
  },
  {
   "cell_type": "markdown",
   "id": "26e29b8f",
   "metadata": {},
   "source": [
    "# Load"
   ]
  },
  {
   "cell_type": "code",
   "execution_count": null,
   "id": "4f0bea8c",
   "metadata": {},
   "outputs": [],
   "source": [
    "%load_ext autoreload\n",
    "%autoreload 2"
   ]
  },
  {
   "cell_type": "code",
   "execution_count": null,
   "id": "a25b2a2f",
   "metadata": {},
   "outputs": [],
   "source": [
    "import numpy as np\n",
    "import matplotlib.pyplot as plt\n",
    "\n",
    "from ipywidgets import interact, fixed, interact_manual\n",
    "\n",
    "from statsmodels.tsa.stattools import acf\n",
    "\n",
    "from scipy.signal import find_peaks"
   ]
  },
  {
   "cell_type": "code",
   "execution_count": null,
   "id": "a42dfc8b",
   "metadata": {},
   "outputs": [],
   "source": [
    "from src.analysis import get_cycle_stats"
   ]
  },
  {
   "cell_type": "markdown",
   "id": "22bb7011",
   "metadata": {},
   "source": [
    "# Illustration of the system"
   ]
  },
  {
   "cell_type": "code",
   "execution_count": null,
   "id": "d01ccfb4",
   "metadata": {},
   "outputs": [],
   "source": [
    "from src import cell_models"
   ]
  },
  {
   "cell_type": "code",
   "execution_count": null,
   "id": "9f94622d",
   "metadata": {},
   "outputs": [],
   "source": [
    "pop = cell_models.population(100)"
   ]
  },
  {
   "cell_type": "code",
   "execution_count": null,
   "id": "989377e6",
   "metadata": {},
   "outputs": [],
   "source": [
    "pop.grow(4000)"
   ]
  },
  {
   "cell_type": "code",
   "execution_count": null,
   "id": "5baba213",
   "metadata": {},
   "outputs": [],
   "source": [
    "results = pop.gather_results()"
   ]
  },
  {
   "cell_type": "markdown",
   "id": "103ef630",
   "metadata": {},
   "source": [
    "# Test runs"
   ]
  },
  {
   "cell_type": "markdown",
   "id": "5c4056cb",
   "metadata": {},
   "source": [
    "Build something with interact so that you can get a rough sense of how the system behaves. "
   ]
  }
 ],
 "metadata": {
  "kernelspec": {
   "display_name": "Python [conda env:py37] *",
   "language": "python",
   "name": "conda-env-py37-py"
  },
  "language_info": {
   "codemirror_mode": {
    "name": "ipython",
    "version": 3
   },
   "file_extension": ".py",
   "mimetype": "text/x-python",
   "name": "python",
   "nbconvert_exporter": "python",
   "pygments_lexer": "ipython3",
   "version": "3.7.7"
  },
  "toc": {
   "base_numbering": 1,
   "nav_menu": {},
   "number_sections": true,
   "sideBar": true,
   "skip_h1_title": false,
   "title_cell": "Table of Contents",
   "title_sidebar": "Contents",
   "toc_cell": true,
   "toc_position": {
    "height": "calc(100% - 180px)",
    "left": "10px",
    "top": "150px",
    "width": "165px"
   },
   "toc_section_display": true,
   "toc_window_display": true
  }
 },
 "nbformat": 4,
 "nbformat_minor": 5
}
