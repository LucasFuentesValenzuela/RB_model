{
 "cells": [
  {
   "cell_type": "markdown",
   "id": "1e05579b",
   "metadata": {
    "toc": true
   },
   "source": [
    "<h1>Table of Contents<span class=\"tocSkip\"></span></h1>\n",
    "<div class=\"toc\"><ul class=\"toc-item\"><li><span><a href=\"#Test-runs\" data-toc-modified-id=\"Test-runs-1\"><span class=\"toc-item-num\">1&nbsp;&nbsp;</span>Test runs</a></span></li><li><span><a href=\"#Interact\" data-toc-modified-id=\"Interact-2\"><span class=\"toc-item-num\">2&nbsp;&nbsp;</span>Interact</a></span></li><li><span><a href=\"#Parameter-sweep\" data-toc-modified-id=\"Parameter-sweep-3\"><span class=\"toc-item-num\">3&nbsp;&nbsp;</span>Parameter sweep</a></span><ul class=\"toc-item\"><li><span><a href=\"#Save-the-data\" data-toc-modified-id=\"Save-the-data-3.1\"><span class=\"toc-item-num\">3.1&nbsp;&nbsp;</span>Save the data</a></span></li></ul></li></ul></div>"
   ]
  },
  {
   "cell_type": "code",
   "execution_count": null,
   "id": "7bb79636",
   "metadata": {},
   "outputs": [],
   "source": [
    "%load_ext autoreload\n",
    "%autoreload 2"
   ]
  },
  {
   "cell_type": "code",
   "execution_count": null,
   "id": "4fc92a31",
   "metadata": {},
   "outputs": [],
   "source": [
    "from src.cell_models import cell_v1\n",
    "\n",
    "import numpy as np\n",
    "import matplotlib.pyplot as plt\n",
    "\n",
    "from ipywidgets import interact, fixed, interact_manual\n",
    "\n",
    "from statsmodels.tsa.stattools import acf\n",
    "\n",
    "from scipy.signal import find_peaks"
   ]
  },
  {
   "cell_type": "code",
   "execution_count": null,
   "id": "e95a553f",
   "metadata": {},
   "outputs": [],
   "source": [
    "from src.plot_utils import plot_vars_vs_time, plot_phase_RB, plot_phase_RBc, plot_autocorrelations"
   ]
  },
  {
   "cell_type": "code",
   "execution_count": null,
   "id": "33c91f47",
   "metadata": {},
   "outputs": [],
   "source": [
    "from src.analysis import get_cycle_stats"
   ]
  },
  {
   "cell_type": "markdown",
   "id": "0b6dbf6f",
   "metadata": {},
   "source": [
    "# Test runs"
   ]
  },
  {
   "cell_type": "markdown",
   "id": "2e183cc7",
   "metadata": {},
   "source": [
    "Build something with interact so that you can get a rough sense of how the system behaves. "
   ]
  },
  {
   "cell_type": "code",
   "execution_count": null,
   "id": "ab1693b1",
   "metadata": {},
   "outputs": [],
   "source": [
    "def run_and_plot_test(\n",
    "    alpha=2, beta0=3, delta=1, \n",
    "    gamma=.9, epsilon=.01, dt=.1, \n",
    "    division=\"timer\", transition=\"size\", \n",
    "    time_SG2=1e-1, transition_th=2., T=300\n",
    "):\n",
    "    \n",
    "    cell = cell_v1(\n",
    "        alpha=alpha, beta0=beta0, delta=delta, \n",
    "        gamma=gamma, epsilon=epsilon, dt=dt, \n",
    "        division=division, transition=transition, \n",
    "        time_SG2=time_SG2, transition_th=transition_th\n",
    "    )\n",
    "\n",
    "    cell.grow(T)\n",
    "    \n",
    "    fig, ax = plt.subplots(2, 2, figsize=(15, 10))\n",
    "    t_vec = np.arange(T+1)\n",
    "\n",
    "    plot_vars_vs_time(ax[0,0], cell)\n",
    "    plot_phase_RB(ax[1,0], cell)\n",
    "    plot_phase_RBc(ax[1,1], cell)\n",
    "    \n",
    "    periods = plot_autocorrelations(ax[0,1], cell, nlags=T/2, prominence=0)\n",
    "    if any([p is None for p in periods]):\n",
    "        print(\"Not periodic\")\n",
    "    else:\n",
    "        if np.std(periods)/np.mean(periods) < .05:\n",
    "            print(f\"All signals with period approx. {np.mean(periods)}.\")\n",
    "        else:\n",
    "            print(\"Not periodic\")\n",
    "    \n",
    "    return cell, periods"
   ]
  },
  {
   "cell_type": "code",
   "execution_count": null,
   "id": "e51aa339",
   "metadata": {},
   "outputs": [],
   "source": [
    "cell_test, periods= run_and_plot_test()"
   ]
  },
  {
   "cell_type": "markdown",
   "id": "df66a82c",
   "metadata": {},
   "source": [
    "# Interact"
   ]
  },
  {
   "cell_type": "code",
   "execution_count": null,
   "id": "accf8425",
   "metadata": {},
   "outputs": [],
   "source": [
    "step=.1"
   ]
  },
  {
   "cell_type": "code",
   "execution_count": null,
   "id": "2c192c06",
   "metadata": {
    "scrolled": false
   },
   "outputs": [],
   "source": [
    "interact_manual(\n",
    "    run_and_plot_test, \n",
    "    alpha=(.1, 10., step), \n",
    "    beta0=(.001, .005, .001), \n",
    "    epsilon=(.1, 1., step), \n",
    "    gamma=(.01, .05, .01), \n",
    "    time_SG2 = fixed(12),#(1, 15), \n",
    "    transition_th=fixed(1.5),#(.1, 3, .1), \n",
    "    delta=fixed(1.),\n",
    "    dt=fixed(1e-3), \n",
    "    division=fixed(\"timer\"), \n",
    "    transition=fixed(\"size\"), \n",
    "    T=fixed(100000)\n",
    ");"
   ]
  },
  {
   "cell_type": "markdown",
   "id": "70842113",
   "metadata": {},
   "source": [
    "---------"
   ]
  },
  {
   "cell_type": "markdown",
   "id": "c03385b9",
   "metadata": {},
   "source": [
    "-----"
   ]
  },
  {
   "cell_type": "markdown",
   "id": "bcc3bb5d",
   "metadata": {},
   "source": [
    "# Parameter sweep"
   ]
  },
  {
   "cell_type": "code",
   "execution_count": null,
   "id": "eb46424a",
   "metadata": {},
   "outputs": [],
   "source": [
    "from itertools import product"
   ]
  },
  {
   "cell_type": "code",
   "execution_count": null,
   "id": "4379b601",
   "metadata": {},
   "outputs": [],
   "source": [
    "# run a parameter sweep\n",
    "T=8000\n",
    "division=\"timer\"\n",
    "transition=\"size\"\n",
    "dt=1e-3\n",
    "time_SG2 = .3\n",
    "delta=1.\n",
    "\n",
    "alpha_vals = np.arange(.1, 5., .5)\n",
    "beta_vals = np.arange(.1, 5., .5)\n",
    "epsilon_vals = np.arange(.1, 1, .2)\n",
    "gamma_vals = np.arange(.1, 2, .3)\n",
    "transition_th_vals = np.arange(.5, 3, .2)"
   ]
  },
  {
   "cell_type": "code",
   "execution_count": null,
   "id": "ba0930ec",
   "metadata": {},
   "outputs": [],
   "source": [
    "stats_tot = dict()\n",
    "for alpha, beta0, epsilon, gamma, transition_th in product(\n",
    "    alpha_vals, beta_vals, epsilon_vals, gamma_vals, transition_th_vals\n",
    "):\n",
    "\n",
    "    cell = cell_v1(alpha=alpha, beta0=beta0, delta=delta, \n",
    "            gamma=gamma, epsilon=epsilon, dt=dt, \n",
    "            division=division, transition=transition, \n",
    "            time_SG2=time_SG2, transition_th=transition_th)\n",
    "\n",
    "\n",
    "    cell.grow(T)\n",
    "    \n",
    "    stats_crt = get_cycle_stats(cell)\n",
    "    stats_tot[(alpha, beta0, epsilon, gamma, transition_th)] = stats_crt"
   ]
  },
  {
   "cell_type": "markdown",
   "id": "9a8437a2",
   "metadata": {},
   "source": [
    "## Save the data"
   ]
  },
  {
   "cell_type": "code",
   "execution_count": null,
   "id": "4eb0e0db",
   "metadata": {},
   "outputs": [],
   "source": [
    "import pickle"
   ]
  },
  {
   "cell_type": "code",
   "execution_count": null,
   "id": "33aac5f2",
   "metadata": {},
   "outputs": [],
   "source": [
    "with open(\"data/stats_model_v1\", 'wb') as f:\n",
    "    pickle.dump(stats_tot, f)"
   ]
  }
 ],
 "metadata": {
  "kernelspec": {
   "display_name": "Python 3 (ipykernel)",
   "language": "python",
   "name": "python3"
  },
  "language_info": {
   "codemirror_mode": {
    "name": "ipython",
    "version": 3
   },
   "file_extension": ".py",
   "mimetype": "text/x-python",
   "name": "python",
   "nbconvert_exporter": "python",
   "pygments_lexer": "ipython3",
   "version": "3.10.4"
  },
  "toc": {
   "base_numbering": 1,
   "nav_menu": {},
   "number_sections": true,
   "sideBar": true,
   "skip_h1_title": false,
   "title_cell": "Table of Contents",
   "title_sidebar": "Contents",
   "toc_cell": true,
   "toc_position": {
    "height": "calc(100% - 180px)",
    "left": "10px",
    "top": "150px",
    "width": "165px"
   },
   "toc_section_display": true,
   "toc_window_display": true
  }
 },
 "nbformat": 4,
 "nbformat_minor": 5
}
