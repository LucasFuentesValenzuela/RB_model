{
 "cells": [
  {
   "cell_type": "markdown",
   "id": "ab38c1ea",
   "metadata": {
    "toc": true
   },
   "source": [
    "<h1>Table of Contents<span class=\"tocSkip\"></span></h1>\n",
    "<div class=\"toc\"><ul class=\"toc-item\"><li><span><a href=\"#Notes\" data-toc-modified-id=\"Notes-1\"><span class=\"toc-item-num\">1&nbsp;&nbsp;</span>Notes</a></span></li><li><span><a href=\"#Loading\" data-toc-modified-id=\"Loading-2\"><span class=\"toc-item-num\">2&nbsp;&nbsp;</span>Loading</a></span></li><li><span><a href=\"#Visualizing-data\" data-toc-modified-id=\"Visualizing-data-3\"><span class=\"toc-item-num\">3&nbsp;&nbsp;</span>Visualizing data</a></span></li><li><span><a href=\"#Extracting-mean-and-median-metrics-and-comparing-across-datasets\" data-toc-modified-id=\"Extracting-mean-and-median-metrics-and-comparing-across-datasets-4\"><span class=\"toc-item-num\">4&nbsp;&nbsp;</span>Extracting mean and median metrics and comparing across datasets</a></span></li><li><span><a href=\"#Visualizing-RB-trajectories\" data-toc-modified-id=\"Visualizing-RB-trajectories-5\"><span class=\"toc-item-num\">5&nbsp;&nbsp;</span>Visualizing RB trajectories</a></span></li></ul></div>"
   ]
  },
  {
   "cell_type": "markdown",
   "id": "f70970bb",
   "metadata": {},
   "source": [
    "# Notes"
   ]
  },
  {
   "cell_type": "markdown",
   "id": "99857e65",
   "metadata": {},
   "source": [
    "Analyzing data from Shuyuan, and understanding what it means and how it is distributed. "
   ]
  },
  {
   "cell_type": "markdown",
   "id": "5f13c3f6",
   "metadata": {},
   "source": [
    "# Loading"
   ]
  },
  {
   "cell_type": "code",
   "execution_count": null,
   "id": "cd6988a1",
   "metadata": {},
   "outputs": [],
   "source": [
    "%load_ext autoreload\n",
    "%autoreload 2"
   ]
  },
  {
   "cell_type": "code",
   "execution_count": null,
   "id": "84513485",
   "metadata": {},
   "outputs": [],
   "source": [
    "import numpy as np\n",
    "\n",
    "import pandas as pd"
   ]
  },
  {
   "cell_type": "code",
   "execution_count": null,
   "id": "afb1beda",
   "metadata": {},
   "outputs": [],
   "source": [
    "import os"
   ]
  },
  {
   "cell_type": "code",
   "execution_count": null,
   "id": "59777fb5",
   "metadata": {},
   "outputs": [],
   "source": [
    "from itertools import product"
   ]
  },
  {
   "cell_type": "code",
   "execution_count": null,
   "id": "5920647f",
   "metadata": {},
   "outputs": [],
   "source": [
    "import matplotlib.pyplot as plt"
   ]
  },
  {
   "cell_type": "code",
   "execution_count": null,
   "id": "e799c901",
   "metadata": {},
   "outputs": [],
   "source": [
    "from src import plot_utils"
   ]
  },
  {
   "cell_type": "code",
   "execution_count": null,
   "id": "a612fb23",
   "metadata": {},
   "outputs": [],
   "source": [
    "os.listdir(\"data/\")"
   ]
  },
  {
   "cell_type": "code",
   "execution_count": null,
   "id": "a206264f",
   "metadata": {},
   "outputs": [],
   "source": [
    "from src import load_utils"
   ]
  },
  {
   "cell_type": "markdown",
   "id": "cf801910",
   "metadata": {},
   "source": [
    "# Visualizing data"
   ]
  },
  {
   "cell_type": "code",
   "execution_count": null,
   "id": "ae363373",
   "metadata": {},
   "outputs": [],
   "source": [
    "dfs = load_utils.load_datasets()"
   ]
  },
  {
   "cell_type": "code",
   "execution_count": null,
   "id": "67c01871",
   "metadata": {},
   "outputs": [],
   "source": [
    "dfs.keys()"
   ]
  },
  {
   "cell_type": "code",
   "execution_count": null,
   "id": "0d9ebda0",
   "metadata": {},
   "outputs": [],
   "source": [
    "df_params = dict()\n",
    "\n",
    "for dataset in dfs:\n",
    "    df_params[dataset] = load_utils.convert_data(dfs[dataset])"
   ]
  },
  {
   "cell_type": "code",
   "execution_count": null,
   "id": "019642eb",
   "metadata": {},
   "outputs": [],
   "source": [
    "df_params[dataset]"
   ]
  },
  {
   "cell_type": "code",
   "execution_count": null,
   "id": "ae8888b6",
   "metadata": {},
   "outputs": [],
   "source": [
    "plot_utils.plot_data(df_params[\"mChGem\"])"
   ]
  },
  {
   "cell_type": "code",
   "execution_count": null,
   "id": "4daafc66",
   "metadata": {},
   "outputs": [],
   "source": [
    "plot_utils.plot_data(df_params[\"CDK4KTR\"])"
   ]
  },
  {
   "cell_type": "code",
   "execution_count": null,
   "id": "1c6b9c14",
   "metadata": {},
   "outputs": [],
   "source": [
    "plot_utils.plot_data(df_params[\"mChHDHB\"])"
   ]
  },
  {
   "cell_type": "markdown",
   "id": "1e576de6",
   "metadata": {},
   "source": [
    "# Extracting mean and median metrics and comparing across datasets"
   ]
  },
  {
   "cell_type": "markdown",
   "id": "51367cba",
   "metadata": {},
   "source": [
    "# Visualizing RB trajectories"
   ]
  },
  {
   "cell_type": "code",
   "execution_count": null,
   "id": "304669fa",
   "metadata": {},
   "outputs": [],
   "source": [
    "dataset = 'CDK4KTR'"
   ]
  },
  {
   "cell_type": "code",
   "execution_count": null,
   "id": "41d5d591",
   "metadata": {},
   "outputs": [],
   "source": [
    "def plot_Rb_amount(df, dataset_nm):\n",
    "    idx_trans = load_utils.get_idx_transition(df)\n",
    "\n",
    "    plt.figure()\n",
    "\n",
    "    for c in idx_trans: \n",
    "        plt.plot(\n",
    "            df['Clover'].index - idx_trans[c], \n",
    "            df['Clover'][c]/df['Clover'][c].loc[idx_trans[c]], \n",
    "            color='gray', \n",
    "            alpha=.3)\n",
    "\n",
    "        plt.axvline(x=0, linestyle='--', color='red')\n",
    "    plt.grid()\n",
    "\n",
    "    plt.title(f\"RB amount as a function of time for {dataset_nm}\")\n",
    "    plt.xlabel(\"t- T(G1-S) [hr]\")\n",
    "    plt.ylabel(\"Normalized RB amount\")\n",
    "    \n",
    "    plt.xlim([-40, 40])\n",
    "    plt.ylim([0, 4])"
   ]
  },
  {
   "cell_type": "code",
   "execution_count": null,
   "id": "2231473e",
   "metadata": {},
   "outputs": [],
   "source": [
    "for dataset in dfs: \n",
    "    plot_Rb_amount(dfs[dataset], dataset)"
   ]
  },
  {
   "cell_type": "markdown",
   "id": "d9810ed8",
   "metadata": {},
   "source": [
    "Todo: extract some statistics\n",
    "\n",
    "for this you need to build the dataframe that centers all the data on a common axis (basically need to shift the index for each column"
   ]
  },
  {
   "cell_type": "markdown",
   "id": "39cb4ff0",
   "metadata": {},
   "source": [
    "**Question** how do you do parameter fitting so that you can extract parameters for the model? "
   ]
  },
  {
   "cell_type": "code",
   "execution_count": null,
   "id": "5d80ce9a",
   "metadata": {},
   "outputs": [],
   "source": []
  }
 ],
 "metadata": {
  "kernelspec": {
   "display_name": "Python 3",
   "language": "python",
   "name": "python3"
  },
  "language_info": {
   "codemirror_mode": {
    "name": "ipython",
    "version": 3
   },
   "file_extension": ".py",
   "mimetype": "text/x-python",
   "name": "python",
   "nbconvert_exporter": "python",
   "pygments_lexer": "ipython3",
   "version": "3.7.7"
  },
  "toc": {
   "base_numbering": 1,
   "nav_menu": {},
   "number_sections": true,
   "sideBar": true,
   "skip_h1_title": false,
   "title_cell": "Table of Contents",
   "title_sidebar": "Contents",
   "toc_cell": true,
   "toc_position": {
    "height": "calc(100% - 180px)",
    "left": "10px",
    "top": "150px",
    "width": "165px"
   },
   "toc_section_display": true,
   "toc_window_display": true
  }
 },
 "nbformat": 4,
 "nbformat_minor": 5
}
