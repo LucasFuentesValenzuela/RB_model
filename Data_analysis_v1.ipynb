{
 "cells": [
  {
   "cell_type": "markdown",
   "id": "29db02ba",
   "metadata": {
    "toc": true
   },
   "source": [
    "<h1>Table of Contents<span class=\"tocSkip\"></span></h1>\n",
    "<div class=\"toc\"><ul class=\"toc-item\"><li><span><a href=\"#Notes\" data-toc-modified-id=\"Notes-1\"><span class=\"toc-item-num\">1&nbsp;&nbsp;</span>Notes</a></span></li><li><span><a href=\"#Loading\" data-toc-modified-id=\"Loading-2\"><span class=\"toc-item-num\">2&nbsp;&nbsp;</span>Loading</a></span></li></ul></div>"
   ]
  },
  {
   "cell_type": "markdown",
   "id": "7365b0a0",
   "metadata": {},
   "source": [
    "# Notes"
   ]
  },
  {
   "cell_type": "markdown",
   "id": "8f71e13a",
   "metadata": {},
   "source": [
    "Analyzing data from Shuyuan, and understanding what it means and how it is distributed. "
   ]
  },
  {
   "cell_type": "markdown",
   "id": "481b63a3",
   "metadata": {},
   "source": [
    "# Loading"
   ]
  },
  {
   "cell_type": "code",
   "execution_count": null,
   "id": "0e76be85",
   "metadata": {},
   "outputs": [],
   "source": [
    "import numpy as np\n",
    "\n",
    "import pandas as pd"
   ]
  },
  {
   "cell_type": "code",
   "execution_count": null,
   "id": "1ee87085",
   "metadata": {},
   "outputs": [],
   "source": [
    "import os"
   ]
  },
  {
   "cell_type": "code",
   "execution_count": null,
   "id": "0081006e",
   "metadata": {},
   "outputs": [],
   "source": [
    "from itertools import product"
   ]
  },
  {
   "cell_type": "code",
   "execution_count": null,
   "id": "1430ac0f",
   "metadata": {},
   "outputs": [],
   "source": [
    "import matplotlib.pyplot as plt"
   ]
  },
  {
   "cell_type": "code",
   "execution_count": null,
   "id": "6e39f9d2",
   "metadata": {},
   "outputs": [],
   "source": [
    "os.listdir(\"data/\")"
   ]
  },
  {
   "cell_type": "code",
   "execution_count": null,
   "id": "3ade31f3",
   "metadata": {},
   "outputs": [],
   "source": [
    "dfs = dict()\n",
    "for fnm in os.listdir(\"data/\"):\n",
    "    nm = fnm.split('.')[-2].split(\"_\")[-1]\n",
    "    df = pd.read_csv(os.path.join(\"data/\", fnm), index_col=0)\n",
    "    dfs[nm] = df"
   ]
  },
  {
   "cell_type": "code",
   "execution_count": null,
   "id": "63683300",
   "metadata": {},
   "outputs": [],
   "source": [
    "df"
   ]
  },
  {
   "cell_type": "code",
   "execution_count": null,
   "id": "592e1340",
   "metadata": {},
   "outputs": [],
   "source": [
    "df.index > 10"
   ]
  },
  {
   "cell_type": "code",
   "execution_count": null,
   "id": "35dcbe27",
   "metadata": {},
   "outputs": [],
   "source": [
    "df.index[df.G1_length>10]"
   ]
  },
  {
   "cell_type": "code",
   "execution_count": null,
   "id": "ce60172a",
   "metadata": {},
   "outputs": [],
   "source": [
    "def plot_data(df, G1_th=10):\n",
    "    \n",
    "    _, ax = plt.subplots(2, 3, figsize=(15, 10))\n",
    "    \n",
    "    for i, j in product(range(2), range(3)):\n",
    "        \n",
    "        k = 3*i + j \n",
    "        \n",
    "        if k >= len(df.columns):\n",
    "            return\n",
    "        \n",
    "        col = df.columns[k]\n",
    "        \n",
    "        idx_G1 = df.index[df.G1_length>G1_th]\n",
    "        color = \"dodgerblue\"\n",
    "        ax[i,j].hist(df.loc[idx_G1, col], density=True, alpha=.5, color=color)\n",
    "        ax[i,j].axvline(df.loc[idx_G1, col].mean(), label=\"mean G1+\", color=color)\n",
    "        ax[i,j].axvline(df.loc[idx_G1, col].median(), linestyle=\"--\", label=\"median G1+\", color=color)\n",
    "        \n",
    "        idx_G1 = df.index[df.G1_length<=G1_th]\n",
    "        color = \"darkorange\"\n",
    "        ax[i,j].hist(df.loc[idx_G1, col], density=True, alpha=.5, color=color)\n",
    "        ax[i,j].axvline(df.loc[idx_G1, col].mean(), label=\"mean G1-\", color=color)\n",
    "        ax[i,j].axvline(df.loc[idx_G1, col].median(), linestyle=\"--\", label=\"median G1-\", color=color)\n",
    "        ax[i,j].set_xlabel(col)\n",
    "        ax[i,j].set_ylabel(\"Density\")\n",
    "        ax[i,j].grid()\n",
    "        ax[i,j].legend()\n",
    "        \n",
    "    return"
   ]
  },
  {
   "cell_type": "code",
   "execution_count": null,
   "id": "6dcf0df0",
   "metadata": {
    "scrolled": false
   },
   "outputs": [],
   "source": [
    "plot_data(dfs[\"CDK4KTR\"])"
   ]
  },
  {
   "cell_type": "code",
   "execution_count": null,
   "id": "37d3e220",
   "metadata": {},
   "outputs": [],
   "source": [
    "plot_data(dfs[\"mChHDHB\"])"
   ]
  },
  {
   "cell_type": "code",
   "execution_count": null,
   "id": "27e9b073",
   "metadata": {},
   "outputs": [],
   "source": [
    "plot_data(dfs[\"mChGem\"])"
   ]
  },
  {
   "cell_type": "markdown",
   "id": "9f8bd628",
   "metadata": {},
   "source": [
    "From this data we can extract: \n",
    "- $\\gamma$ (assuming that the growth is actually exponential)\n",
    "- $\\tau_{SG2}$\n",
    "- extract a location in the plot where we are given the ratio of the amounts. Right? \n"
   ]
  },
  {
   "cell_type": "code",
   "execution_count": null,
   "id": "e14db5e0",
   "metadata": {},
   "outputs": [],
   "source": []
  }
 ],
 "metadata": {
  "kernelspec": {
   "display_name": "Python [conda env:py37] *",
   "language": "python",
   "name": "conda-env-py37-py"
  },
  "language_info": {
   "codemirror_mode": {
    "name": "ipython",
    "version": 3
   },
   "file_extension": ".py",
   "mimetype": "text/x-python",
   "name": "python",
   "nbconvert_exporter": "python",
   "pygments_lexer": "ipython3",
   "version": "3.7.7"
  },
  "toc": {
   "base_numbering": 1,
   "nav_menu": {},
   "number_sections": true,
   "sideBar": true,
   "skip_h1_title": false,
   "title_cell": "Table of Contents",
   "title_sidebar": "Contents",
   "toc_cell": true,
   "toc_position": {},
   "toc_section_display": true,
   "toc_window_display": true
  }
 },
 "nbformat": 4,
 "nbformat_minor": 5
}
