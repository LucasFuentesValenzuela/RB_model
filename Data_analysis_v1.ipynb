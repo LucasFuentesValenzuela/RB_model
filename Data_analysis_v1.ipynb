{
 "cells": [
  {
   "cell_type": "markdown",
   "id": "b67ae851",
   "metadata": {
    "toc": true
   },
   "source": [
    "<h1>Table of Contents<span class=\"tocSkip\"></span></h1>\n",
    "<div class=\"toc\"><ul class=\"toc-item\"><li><span><a href=\"#Notes\" data-toc-modified-id=\"Notes-1\"><span class=\"toc-item-num\">1&nbsp;&nbsp;</span>Notes</a></span></li><li><span><a href=\"#Loading\" data-toc-modified-id=\"Loading-2\"><span class=\"toc-item-num\">2&nbsp;&nbsp;</span>Loading</a></span></li><li><span><a href=\"#Visualizing-data\" data-toc-modified-id=\"Visualizing-data-3\"><span class=\"toc-item-num\">3&nbsp;&nbsp;</span>Visualizing data</a></span></li><li><span><a href=\"#Extracting-mean-and-median-metrics-and-comparing-across-datasets\" data-toc-modified-id=\"Extracting-mean-and-median-metrics-and-comparing-across-datasets-4\"><span class=\"toc-item-num\">4&nbsp;&nbsp;</span>Extracting mean and median metrics and comparing across datasets</a></span></li><li><span><a href=\"#Visualizing-RB-trajectories\" data-toc-modified-id=\"Visualizing-RB-trajectories-5\"><span class=\"toc-item-num\">5&nbsp;&nbsp;</span>Visualizing RB trajectories</a></span></li><li><span><a href=\"#Visualizing-size-trajectories\" data-toc-modified-id=\"Visualizing-size-trajectories-6\"><span class=\"toc-item-num\">6&nbsp;&nbsp;</span>Visualizing size trajectories</a></span></li></ul></div>"
   ]
  },
  {
   "cell_type": "markdown",
   "id": "54e18207",
   "metadata": {},
   "source": [
    "# Notes"
   ]
  },
  {
   "cell_type": "markdown",
   "id": "7ddb3aba",
   "metadata": {},
   "source": [
    "Analyzing data from Shuyuan, and understanding what it means and how it is distributed. "
   ]
  },
  {
   "cell_type": "markdown",
   "id": "d1986f00",
   "metadata": {},
   "source": [
    "# Loading"
   ]
  },
  {
   "cell_type": "code",
   "execution_count": null,
   "id": "bf187111",
   "metadata": {},
   "outputs": [],
   "source": [
    "%load_ext autoreload\n",
    "%autoreload 2"
   ]
  },
  {
   "cell_type": "code",
   "execution_count": null,
   "id": "81d4e48f",
   "metadata": {},
   "outputs": [],
   "source": [
    "import numpy as np\n",
    "\n",
    "import pandas as pd"
   ]
  },
  {
   "cell_type": "code",
   "execution_count": null,
   "id": "2a10bb3d",
   "metadata": {},
   "outputs": [],
   "source": [
    "import os"
   ]
  },
  {
   "cell_type": "code",
   "execution_count": null,
   "id": "08ccffc1",
   "metadata": {},
   "outputs": [],
   "source": [
    "from itertools import product"
   ]
  },
  {
   "cell_type": "code",
   "execution_count": null,
   "id": "f581c1fc",
   "metadata": {},
   "outputs": [],
   "source": [
    "import matplotlib.pyplot as plt"
   ]
  },
  {
   "cell_type": "code",
   "execution_count": null,
   "id": "a3b2b3d8",
   "metadata": {},
   "outputs": [],
   "source": [
    "from src import plot_utils"
   ]
  },
  {
   "cell_type": "code",
   "execution_count": null,
   "id": "7da7a00f",
   "metadata": {},
   "outputs": [],
   "source": [
    "os.listdir(\"data/\")"
   ]
  },
  {
   "cell_type": "code",
   "execution_count": null,
   "id": "df631da6",
   "metadata": {},
   "outputs": [],
   "source": [
    "from src import load_utils"
   ]
  },
  {
   "cell_type": "markdown",
   "id": "91dd4dc3",
   "metadata": {},
   "source": [
    "# Visualizing data"
   ]
  },
  {
   "cell_type": "code",
   "execution_count": null,
   "id": "f2484af7",
   "metadata": {},
   "outputs": [],
   "source": [
    "dfs = load_utils.load_datasets()"
   ]
  },
  {
   "cell_type": "code",
   "execution_count": null,
   "id": "123ee8b6",
   "metadata": {},
   "outputs": [],
   "source": [
    "dfs.keys()"
   ]
  },
  {
   "cell_type": "code",
   "execution_count": null,
   "id": "588baa27",
   "metadata": {},
   "outputs": [],
   "source": [
    "df_params = dict()\n",
    "\n",
    "for dataset in dfs:\n",
    "    df_params[dataset] = load_utils.convert_data(dfs[dataset])"
   ]
  },
  {
   "cell_type": "code",
   "execution_count": null,
   "id": "84f4b127",
   "metadata": {},
   "outputs": [],
   "source": [
    "df_params[dataset]"
   ]
  },
  {
   "cell_type": "code",
   "execution_count": null,
   "id": "e2bf125e",
   "metadata": {},
   "outputs": [],
   "source": [
    "plot_utils.plot_data(df_params[\"mChGem\"])"
   ]
  },
  {
   "cell_type": "code",
   "execution_count": null,
   "id": "b9c2acf7",
   "metadata": {},
   "outputs": [],
   "source": [
    "plot_utils.plot_data(df_params[\"CDK4KTR\"])"
   ]
  },
  {
   "cell_type": "code",
   "execution_count": null,
   "id": "8459d1ad",
   "metadata": {},
   "outputs": [],
   "source": [
    "plot_utils.plot_data(df_params[\"mChHDHB\"])"
   ]
  },
  {
   "cell_type": "markdown",
   "id": "b013e2ba",
   "metadata": {},
   "source": [
    "# Extracting mean and median metrics and comparing across datasets"
   ]
  },
  {
   "cell_type": "markdown",
   "id": "78a6210e",
   "metadata": {},
   "source": [
    "# Visualizing RB trajectories"
   ]
  },
  {
   "cell_type": "code",
   "execution_count": null,
   "id": "1ffe716c",
   "metadata": {},
   "outputs": [],
   "source": [
    "dataset = 'CDK4KTR'"
   ]
  },
  {
   "cell_type": "code",
   "execution_count": null,
   "id": "85b2de2b",
   "metadata": {},
   "outputs": [],
   "source": [
    "def plot_Rb_amount(df, dataset_nm):\n",
    "    idx_trans = load_utils.get_idx_transition(df)\n",
    "\n",
    "    plt.figure()\n",
    "\n",
    "    for c in idx_trans: \n",
    "        plt.plot(\n",
    "            df['Clover'].index - idx_trans[c], \n",
    "            df['Clover'][c]/df['Clover'][c].loc[idx_trans[c]], \n",
    "            color='gray', \n",
    "            alpha=.3)\n",
    "\n",
    "        plt.axvline(x=0, linestyle='--', color='red')\n",
    "    plt.grid()\n",
    "\n",
    "    plt.title(f\"RB amount as a function of time for {dataset_nm}\")\n",
    "    plt.xlabel(\"t- T(G1-S) [hr]\")\n",
    "    plt.ylabel(\"Normalized RB amount\")\n",
    "    \n",
    "    plt.xlim([-40, 40])\n",
    "    plt.ylim([0, 4])"
   ]
  },
  {
   "cell_type": "code",
   "execution_count": null,
   "id": "c7a793e8",
   "metadata": {},
   "outputs": [],
   "source": [
    "for dataset in dfs: \n",
    "    plot_Rb_amount(dfs[dataset], dataset)"
   ]
  },
  {
   "cell_type": "markdown",
   "id": "45ac1721",
   "metadata": {},
   "source": [
    "# Visualizing size trajectories"
   ]
  },
  {
   "cell_type": "code",
   "execution_count": null,
   "id": "48b47253",
   "metadata": {},
   "outputs": [],
   "source": [
    "def plot_areas(df, dataset_nm):\n",
    "    idx_trans = load_utils.get_idx_transition(df)\n",
    "\n",
    "    plt.figure()\n",
    "\n",
    "    for c in idx_trans: \n",
    "        plt.plot(\n",
    "            df['Area'].index, \n",
    "            df['Area'][c]/df['Area'][c].loc[0], \n",
    "            color='gray', \n",
    "            alpha=.3)\n",
    "\n",
    "#         plt.axvline(x=0, linestyle='--', color='red')\n",
    "    plt.grid()\n",
    "\n",
    "    plt.title(f\"Area {dataset_nm}\")\n",
    "    plt.xlabel(\"t[hr]\")\n",
    "    plt.ylabel(\"Normalized area\")\n",
    "    \n",
    "#     plt.xlim([-40, 40])\n",
    "#     plt.ylim([0, 4])"
   ]
  },
  {
   "cell_type": "code",
   "execution_count": null,
   "id": "0dbd2566",
   "metadata": {},
   "outputs": [],
   "source": [
    "for dataset in dfs: \n",
    "    plot_areas(dfs[dataset], dataset)"
   ]
  }
 ],
 "metadata": {
  "kernelspec": {
   "display_name": "Python 3",
   "language": "python",
   "name": "python3"
  },
  "language_info": {
   "codemirror_mode": {
    "name": "ipython",
    "version": 3
   },
   "file_extension": ".py",
   "mimetype": "text/x-python",
   "name": "python",
   "nbconvert_exporter": "python",
   "pygments_lexer": "ipython3",
   "version": "3.7.7"
  },
  "toc": {
   "base_numbering": 1,
   "nav_menu": {},
   "number_sections": true,
   "sideBar": true,
   "skip_h1_title": false,
   "title_cell": "Table of Contents",
   "title_sidebar": "Contents",
   "toc_cell": true,
   "toc_position": {
    "height": "calc(100% - 180px)",
    "left": "10px",
    "top": "150px",
    "width": "165px"
   },
   "toc_section_display": true,
   "toc_window_display": true
  }
 },
 "nbformat": 4,
 "nbformat_minor": 5
}
