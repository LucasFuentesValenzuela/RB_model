{
 "cells": [
  {
   "cell_type": "markdown",
   "id": "8303f10f",
   "metadata": {
    "toc": true
   },
   "source": [
    "<h1>Table of Contents<span class=\"tocSkip\"></span></h1>\n",
    "<div class=\"toc\"><ul class=\"toc-item\"><li><span><a href=\"#Description\" data-toc-modified-id=\"Description-1\"><span class=\"toc-item-num\">1&nbsp;&nbsp;</span>Description</a></span></li><li><span><a href=\"#Load\" data-toc-modified-id=\"Load-2\"><span class=\"toc-item-num\">2&nbsp;&nbsp;</span>Load</a></span></li><li><span><a href=\"#Test-runs\" data-toc-modified-id=\"Test-runs-3\"><span class=\"toc-item-num\">3&nbsp;&nbsp;</span>Test runs</a></span></li><li><span><a href=\"#Interact\" data-toc-modified-id=\"Interact-4\"><span class=\"toc-item-num\">4&nbsp;&nbsp;</span>Interact</a></span></li></ul></div>"
   ]
  },
  {
   "cell_type": "markdown",
   "id": "85d26b40",
   "metadata": {},
   "source": [
    "# Description"
   ]
  },
  {
   "cell_type": "markdown",
   "id": "5e9dd4fe",
   "metadata": {},
   "source": [
    "Interactive notebook to test the model and the different parameters."
   ]
  },
  {
   "cell_type": "markdown",
   "id": "c1d92efa",
   "metadata": {},
   "source": [
    "# Load"
   ]
  },
  {
   "cell_type": "code",
   "execution_count": null,
   "id": "811ede4f",
   "metadata": {},
   "outputs": [],
   "source": [
    "%load_ext autoreload\n",
    "%autoreload 2"
   ]
  },
  {
   "cell_type": "code",
   "execution_count": null,
   "id": "bf8ec84f",
   "metadata": {},
   "outputs": [],
   "source": [
    "from src.cell_models import cell\n",
    "\n",
    "import numpy as np\n",
    "import matplotlib.pyplot as plt\n",
    "\n",
    "from ipywidgets import interact, fixed, interact_manual\n",
    "\n",
    "from statsmodels.tsa.stattools import acf\n",
    "\n",
    "from scipy.signal import find_peaks"
   ]
  },
  {
   "cell_type": "code",
   "execution_count": null,
   "id": "ab87c797",
   "metadata": {},
   "outputs": [],
   "source": [
    "from src.analysis import get_cycle_stats"
   ]
  },
  {
   "cell_type": "code",
   "execution_count": null,
   "id": "4ef4ee22",
   "metadata": {},
   "outputs": [],
   "source": [
    "from src.plot_utils import run_and_plot_test"
   ]
  },
  {
   "cell_type": "markdown",
   "id": "5e4cb423",
   "metadata": {},
   "source": [
    "# Test runs"
   ]
  },
  {
   "cell_type": "markdown",
   "id": "996a3c87",
   "metadata": {},
   "source": [
    "Build something with interact so that you can get a rough sense of how the system behaves. "
   ]
  },
  {
   "cell_type": "code",
   "execution_count": null,
   "id": "f84256ec",
   "metadata": {},
   "outputs": [],
   "source": [
    "# cell_test, periods= run_and_plot_test()"
   ]
  },
  {
   "cell_type": "markdown",
   "id": "a38d6e04",
   "metadata": {},
   "source": [
    "# Interact"
   ]
  },
  {
   "cell_type": "code",
   "execution_count": null,
   "id": "db59e2f8",
   "metadata": {},
   "outputs": [],
   "source": [
    "step=.1"
   ]
  },
  {
   "cell_type": "code",
   "execution_count": null,
   "id": "a3ff7867",
   "metadata": {
    "scrolled": false
   },
   "outputs": [],
   "source": [
    "interact_manual(\n",
    "    run_and_plot_test, \n",
    "    alpha=(.1, 10., step), \n",
    "    beta0=(.01, .30, .01), \n",
    "    epsilon=fixed(.2), #(.1, 1., step), \n",
    "    gamma=(.01, .05, .01), \n",
    "    time_SG2 = fixed(12),#(1, 15), \n",
    "    transition_th=fixed(1.), \n",
    "    delta=fixed(1.),\n",
    "    dt=fixed(1e-1), \n",
    "    division=fixed(\"timer\"), \n",
    "    transition=fixed(\"size\"), \n",
    "    T=fixed(4000)\n",
    ");"
   ]
  },
  {
   "cell_type": "code",
   "execution_count": null,
   "id": "98b03595",
   "metadata": {},
   "outputs": [],
   "source": []
  }
 ],
 "metadata": {
  "kernelspec": {
   "display_name": "Python [conda env:py37] *",
   "language": "python",
   "name": "conda-env-py37-py"
  },
  "language_info": {
   "codemirror_mode": {
    "name": "ipython",
    "version": 3
   },
   "file_extension": ".py",
   "mimetype": "text/x-python",
   "name": "python",
   "nbconvert_exporter": "python",
   "pygments_lexer": "ipython3",
   "version": "3.7.7"
  },
  "toc": {
   "base_numbering": 1,
   "nav_menu": {},
   "number_sections": true,
   "sideBar": true,
   "skip_h1_title": false,
   "title_cell": "Table of Contents",
   "title_sidebar": "Contents",
   "toc_cell": true,
   "toc_position": {
    "height": "calc(100% - 180px)",
    "left": "10px",
    "top": "150px",
    "width": "165px"
   },
   "toc_section_display": true,
   "toc_window_display": true
  }
 },
 "nbformat": 4,
 "nbformat_minor": 5
}
