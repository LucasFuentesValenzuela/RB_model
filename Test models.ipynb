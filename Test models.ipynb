{
 "cells": [
  {
   "cell_type": "markdown",
   "id": "b0de6795",
   "metadata": {
    "toc": true
   },
   "source": [
    "<h1>Table of Contents<span class=\"tocSkip\"></span></h1>\n",
    "<div class=\"toc\"><ul class=\"toc-item\"><li><span><a href=\"#Test-runs\" data-toc-modified-id=\"Test-runs-1\"><span class=\"toc-item-num\">1&nbsp;&nbsp;</span>Test runs</a></span></li><li><span><a href=\"#Interact\" data-toc-modified-id=\"Interact-2\"><span class=\"toc-item-num\">2&nbsp;&nbsp;</span>Interact</a></span></li><li><span><a href=\"#Parameter-sweep\" data-toc-modified-id=\"Parameter-sweep-3\"><span class=\"toc-item-num\">3&nbsp;&nbsp;</span>Parameter sweep</a></span><ul class=\"toc-item\"><li><span><a href=\"#Save-the-data\" data-toc-modified-id=\"Save-the-data-3.1\"><span class=\"toc-item-num\">3.1&nbsp;&nbsp;</span>Save the data</a></span></li></ul></li></ul></div>"
   ]
  },
  {
   "cell_type": "code",
   "execution_count": 1,
   "id": "256dc572",
   "metadata": {},
   "outputs": [],
   "source": [
    "%load_ext autoreload\n",
    "%autoreload 2"
   ]
  },
  {
   "cell_type": "code",
   "execution_count": 2,
   "id": "195f9fba",
   "metadata": {},
   "outputs": [],
   "source": [
    "from src.cell_models import cell_v1\n",
    "\n",
    "import numpy as np\n",
    "import matplotlib.pyplot as plt\n",
    "\n",
    "from ipywidgets import interact, fixed, interact_manual\n",
    "\n",
    "from statsmodels.tsa.stattools import acf\n",
    "\n",
    "from scipy.signal import find_peaks"
   ]
  },
  {
   "cell_type": "code",
   "execution_count": 3,
   "id": "652f5cb7",
   "metadata": {},
   "outputs": [],
   "source": [
    "from src.analysis import get_cycle_stats"
   ]
  },
  {
   "cell_type": "code",
   "execution_count": 4,
   "id": "fbd1314f",
   "metadata": {},
   "outputs": [],
   "source": [
    "from src.plot_utils import run_and_plot_test"
   ]
  },
  {
   "cell_type": "markdown",
   "id": "83503cd8",
   "metadata": {},
   "source": [
    "# Test runs"
   ]
  },
  {
   "cell_type": "markdown",
   "id": "bd269295",
   "metadata": {},
   "source": [
    "Build something with interact so that you can get a rough sense of how the system behaves. "
   ]
  },
  {
   "cell_type": "code",
   "execution_count": null,
   "id": "7b5f20ed",
   "metadata": {},
   "outputs": [],
   "source": [
    "# cell_test, periods= run_and_plot_test()"
   ]
  },
  {
   "cell_type": "markdown",
   "id": "d0de7db3",
   "metadata": {},
   "source": [
    "# Interact"
   ]
  },
  {
   "cell_type": "code",
   "execution_count": 5,
   "id": "2fbd7d62",
   "metadata": {},
   "outputs": [],
   "source": [
    "step=.1"
   ]
  },
  {
   "cell_type": "code",
   "execution_count": 19,
   "id": "ed7b6714",
   "metadata": {
    "scrolled": false
   },
   "outputs": [
    {
     "data": {
      "application/vnd.jupyter.widget-view+json": {
       "model_id": "259e6cd3db6649e4a33d0d76a52206b2",
       "version_major": 2,
       "version_minor": 0
      },
      "text/plain": [
       "interactive(children=(FloatSlider(value=2.0, description='alpha', max=10.0, min=0.1), FloatSlider(value=0.01, …"
      ]
     },
     "metadata": {},
     "output_type": "display_data"
    }
   ],
   "source": [
    "interact_manual(\n",
    "    run_and_plot_test, \n",
    "    alpha=(.1, 10., step), \n",
    "    beta0=(.001, .01, .001), \n",
    "    epsilon=fixed(.2), #(.1, 1., step), \n",
    "    gamma=(.01, .05, .01), \n",
    "    time_SG2 = fixed(12),#(1, 15), \n",
    "    transition_th=fixed(1.), \n",
    "    delta=fixed(1.),\n",
    "    dt=fixed(1e-1), \n",
    "    division=fixed(\"timer\"), \n",
    "    transition=fixed(\"size\"), \n",
    "    T=fixed(4000)\n",
    ");"
   ]
  },
  {
   "cell_type": "code",
   "execution_count": null,
   "id": "affe9ce2",
   "metadata": {},
   "outputs": [],
   "source": []
  }
 ],
 "metadata": {
  "kernelspec": {
   "display_name": "Python [conda env:py37] *",
   "language": "python",
   "name": "conda-env-py37-py"
  },
  "language_info": {
   "codemirror_mode": {
    "name": "ipython",
    "version": 3
   },
   "file_extension": ".py",
   "mimetype": "text/x-python",
   "name": "python",
   "nbconvert_exporter": "python",
   "pygments_lexer": "ipython3",
   "version": "3.7.7"
  },
  "toc": {
   "base_numbering": 1,
   "nav_menu": {},
   "number_sections": true,
   "sideBar": true,
   "skip_h1_title": false,
   "title_cell": "Table of Contents",
   "title_sidebar": "Contents",
   "toc_cell": true,
   "toc_position": {
    "height": "calc(100% - 180px)",
    "left": "10px",
    "top": "150px",
    "width": "165px"
   },
   "toc_section_display": true,
   "toc_window_display": true
  }
 },
 "nbformat": 4,
 "nbformat_minor": 5
}
