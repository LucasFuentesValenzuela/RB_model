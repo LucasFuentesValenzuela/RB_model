{
 "cells": [
  {
   "cell_type": "markdown",
   "id": "4db7249f",
   "metadata": {
    "toc": true
   },
   "source": [
    "<h1>Table of Contents<span class=\"tocSkip\"></span></h1>\n",
    "<div class=\"toc\"><ul class=\"toc-item\"><li><span><a href=\"#Test-runs\" data-toc-modified-id=\"Test-runs-1\"><span class=\"toc-item-num\">1&nbsp;&nbsp;</span>Test runs</a></span></li><li><span><a href=\"#Interact\" data-toc-modified-id=\"Interact-2\"><span class=\"toc-item-num\">2&nbsp;&nbsp;</span>Interact</a></span></li></ul></div>"
   ]
  },
  {
   "cell_type": "code",
   "execution_count": 1,
   "id": "52c903e4",
   "metadata": {},
   "outputs": [],
   "source": [
    "%load_ext autoreload\n",
    "%autoreload 2"
   ]
  },
  {
   "cell_type": "code",
   "execution_count": 5,
   "id": "c2eb8d37",
   "metadata": {},
   "outputs": [],
   "source": [
    "from src.cell_models import cell_v1\n",
    "\n",
    "import numpy as np\n",
    "import matplotlib.pyplot as plt\n",
    "\n",
    "from ipywidgets import interact, fixed, interact_manual\n",
    "\n",
    "from statsmodels.tsa.stattools import acf\n",
    "\n",
    "from scipy.signal import find_peaks"
   ]
  },
  {
   "cell_type": "markdown",
   "id": "b9eb281d",
   "metadata": {},
   "source": [
    "Notes: \n",
    "- concentration threshold for division: it looks very sensitive to the growth rate. Not sure there is a limit cycle in general to this problem. Can you sketch it? \n",
    "- amount threshold for division: a quick look at the RB amount threshold seems to indicate that it can yield limit cycles... ? "
   ]
  },
  {
   "cell_type": "markdown",
   "id": "e6c8c5b2",
   "metadata": {},
   "source": [
    "# Test runs"
   ]
  },
  {
   "cell_type": "markdown",
   "id": "3c93e2ee",
   "metadata": {},
   "source": [
    "Build something with interact so that you can get a rough sense of how the system behaves. "
   ]
  },
  {
   "cell_type": "code",
   "execution_count": 29,
   "id": "b8b1787b",
   "metadata": {},
   "outputs": [],
   "source": [
    "def plot1(ax, cell):\n",
    "    \"\"\"\n",
    "    \"\"\"\n",
    "    ax.plot(np.array(cell.M_hist)/cell.M_hist[0], label=\"M\")\n",
    "    ax.plot(np.array(cell.RB_hist)/cell.RB_hist[0], label=\"RB\")\n",
    "    ax.plot(np.array(cell.RB_c_hist)/cell.RB_c_hist[0], label=\"[RB]\")\n",
    "\n",
    "    phase_vec = np.array([int(phase==\"G1\") for phase in cell.phase_hist])\n",
    "    x_min = 0\n",
    "    x_max = len(phase_vec)\n",
    "\n",
    "    phase=0\n",
    "    for k in range(len(phase_vec)):\n",
    "        if (phase_vec[k]==1) and phase==0:\n",
    "            x_min = k\n",
    "            phase=1\n",
    "        elif (phase_vec[k]==0) and phase==1:\n",
    "            x_max=k-1\n",
    "            phase=0\n",
    "            ax.axvspan(x_min, x_max, color = 'lightgray', alpha=.3)\n",
    "\n",
    "    if x_min > x_max:\n",
    "        ax.axvspan(x_min, len(phase_vec), color = 'lightgray', alpha=.3)\n",
    "    \n",
    "    ax.set_yscale('log')\n",
    "#     ax[0,0].axhline(cell.RB_transition/cell.RB_c_hist[0], color=\"red\")\n",
    "#     ax[0,0].axhline(cell.RB_division/cell.RB_c_hist[0], color=\"gray\")\n",
    "    ax.legend()\n",
    "    ax.set_xlabel(\"Time\")\n",
    "    ax.set_ylabel(\"Variables\")"
   ]
  },
  {
   "cell_type": "code",
   "execution_count": 30,
   "id": "9462d2f1",
   "metadata": {},
   "outputs": [],
   "source": [
    "def plot2(ax, cell):\n",
    "    \"\"\"\n",
    "    \"\"\"\n",
    "    ax.plot(cell.M_hist, cell.RB_hist, alpha=.5)\n",
    "#     ax.axhline(cell.RB_division, color='red')\n",
    "#     m_vec = np.linspace(0, 2)\n",
    "#     ax.plot(m_vec, m_vec*cell.RB_transition, color='red')\n",
    "    ax.set_xlabel(\"M\")\n",
    "    ax.set_ylabel(\"RB amount\")\n",
    "    ax.grid()"
   ]
  },
  {
   "cell_type": "code",
   "execution_count": 31,
   "id": "dcd364f7",
   "metadata": {},
   "outputs": [],
   "source": [
    "def plot3(ax, cell):\n",
    "    \"\"\"\n",
    "    \"\"\"\n",
    "    ax.scatter(\n",
    "        np.array(cell.M_hist)[phase_vec==1], \n",
    "        np.array(cell.RB_c_hist)[phase_vec==1], \n",
    "        alpha=.3, s=1, label=\"G1\"\n",
    "    )\n",
    "    ax.scatter(\n",
    "        np.array(cell.M_hist)[phase_vec==0], \n",
    "        np.array(cell.RB_c_hist)[phase_vec==0], \n",
    "        alpha=.3, s=1, label=\"G2\"\n",
    "    )\n",
    "    ax.grid()\n",
    "    ax.set_xlabel(\"M\")\n",
    "    ax.set_ylabel(\"[RB]\")\n",
    "    ax.legend()"
   ]
  },
  {
   "cell_type": "code",
   "execution_count": 32,
   "id": "e14066b7",
   "metadata": {},
   "outputs": [],
   "source": [
    "def run_and_plot_test(\n",
    "    alpha=2, beta0=3, delta=1, \n",
    "    gamma=.9, epsilon=.01, dt=1e-3, \n",
    "    division=\"timer\", transition=\"size\", \n",
    "    time_SG2=1e-1, transition_th=1.\n",
    "):\n",
    "    \n",
    "    cell = cell_v1(\n",
    "        alpha=alpha, beta0=beta0, delta=delta, \n",
    "        gamma=gamma, epsilon=epsilon, dt=dt, \n",
    "        division=division, transition=transition, \n",
    "        time_SG2=time_SG2, transition_th=transition_th\n",
    "    )\n",
    "    \n",
    "    T = 5000\n",
    "\n",
    "    for _ in range(T):\n",
    "        cell.grow()\n",
    "    \n",
    "    fig, ax = plt.subplots(2, 2, figsize=(15, 10))\n",
    "    t_vec = np.arange(T+1)\n",
    "\n",
    "    plot1(ax[0,0], cell)\n",
    "    plot2(ax[0,1], cell)\n",
    "    plot3(ax[1,0], cell)\n",
    "#     plot4(ax[1,1], cell)\n",
    "    \n",
    "    \n",
    "    \n",
    "    nlags=4000\n",
    "    acf_RB = acf(cell.RB_hist, fft=False, nlags=nlags)\n",
    "    acf_M = acf(cell.M_hist, fft=False, nlags=nlags)\n",
    "    acf_RBc = acf(cell.RB_c_hist, fft=False, nlags=nlags)\n",
    "    labels = [\"RB\", \"M\", \"[RB]\"]\n",
    "    peaks_all = []\n",
    "    dists_peaks = []\n",
    "    for i, acf_ in enumerate([acf_RB, acf_M, acf_RBc]):\n",
    "        peaks, _ = find_peaks(acf_, height=None, prominence=.1)\n",
    "        ax[1,1].plot(acf_, label=labels[i])\n",
    "        ax[1,1].plot(peaks, acf_[peaks], \"x\", color=\"grey\", ms=10, linewidth=3)\n",
    "        peaks_all.append(peaks)\n",
    "        dists_peaks.append([peaks[i+1]-peaks[i] for i in range(len(peaks)-1)])\n",
    "        \n",
    "    ax[1,1].grid()\n",
    "    ax[1,1].set_xlabel(\"Lag\")\n",
    "    ax[1,1].set_ylabel(\"ACF\")\n",
    "    ax[1,1].legend()\n",
    "    \n",
    "    pc_th = .1\n",
    "\n",
    "    mean_dists = [np.mean(d) for d in dists_peaks]\n",
    "    std_dists = [np.std(d) for d in dists_peaks]\n",
    "\n",
    "    periodic = (np.std(mean_dists)/np.mean(mean_dists) < pc_th) and (all(np.divide(std_dists, mean_dists) < pc_th))\n",
    "\n",
    "    if periodic: \n",
    "        period = np.mean(mean_dists)\n",
    "        print(f\"   Periodic with period {period}.\")\n",
    "    else:\n",
    "        period = None\n",
    "        print(f\"   Non periodic.\")\n",
    "        \n",
    "    \n",
    "    \n",
    "    return cell, dists_peaks, period"
   ]
  },
  {
   "cell_type": "code",
   "execution_count": 33,
   "id": "790f3ab7",
   "metadata": {},
   "outputs": [],
   "source": [
    "step=.1"
   ]
  },
  {
   "cell_type": "code",
   "execution_count": 34,
   "id": "6c6a7f23",
   "metadata": {},
   "outputs": [
    {
     "name": "stdout",
     "output_type": "stream",
     "text": [
      "Params check not implemented\n"
     ]
    },
    {
     "ename": "NameError",
     "evalue": "name 'phase_vec' is not defined",
     "output_type": "error",
     "traceback": [
      "\u001b[0;31m---------------------------------------------------------------------------\u001b[0m",
      "\u001b[0;31mNameError\u001b[0m                                 Traceback (most recent call last)",
      "\u001b[0;32m<ipython-input-34-6ac905731d3e>\u001b[0m in \u001b[0;36m<module>\u001b[0;34m\u001b[0m\n\u001b[0;32m----> 1\u001b[0;31m \u001b[0mcell_test\u001b[0m\u001b[0;34m,\u001b[0m \u001b[0mdists_peaks\u001b[0m\u001b[0;34m,\u001b[0m \u001b[0mperiod\u001b[0m \u001b[0;34m=\u001b[0m \u001b[0mrun_and_plot_test\u001b[0m\u001b[0;34m(\u001b[0m\u001b[0;34m)\u001b[0m\u001b[0;34m\u001b[0m\u001b[0;34m\u001b[0m\u001b[0m\n\u001b[0m",
      "\u001b[0;32m<ipython-input-32-28acec4a2044>\u001b[0m in \u001b[0;36mrun_and_plot_test\u001b[0;34m(alpha, beta0, delta, gamma, epsilon, dt, division, transition, time_SG2, transition_th)\u001b[0m\n\u001b[1;32m     23\u001b[0m     \u001b[0mplot1\u001b[0m\u001b[0;34m(\u001b[0m\u001b[0max\u001b[0m\u001b[0;34m[\u001b[0m\u001b[0;36m0\u001b[0m\u001b[0;34m,\u001b[0m\u001b[0;36m0\u001b[0m\u001b[0;34m]\u001b[0m\u001b[0;34m,\u001b[0m \u001b[0mcell\u001b[0m\u001b[0;34m)\u001b[0m\u001b[0;34m\u001b[0m\u001b[0;34m\u001b[0m\u001b[0m\n\u001b[1;32m     24\u001b[0m     \u001b[0mplot2\u001b[0m\u001b[0;34m(\u001b[0m\u001b[0max\u001b[0m\u001b[0;34m[\u001b[0m\u001b[0;36m0\u001b[0m\u001b[0;34m,\u001b[0m\u001b[0;36m1\u001b[0m\u001b[0;34m]\u001b[0m\u001b[0;34m,\u001b[0m \u001b[0mcell\u001b[0m\u001b[0;34m)\u001b[0m\u001b[0;34m\u001b[0m\u001b[0;34m\u001b[0m\u001b[0m\n\u001b[0;32m---> 25\u001b[0;31m     \u001b[0mplot3\u001b[0m\u001b[0;34m(\u001b[0m\u001b[0max\u001b[0m\u001b[0;34m[\u001b[0m\u001b[0;36m1\u001b[0m\u001b[0;34m,\u001b[0m\u001b[0;36m0\u001b[0m\u001b[0;34m]\u001b[0m\u001b[0;34m,\u001b[0m \u001b[0mcell\u001b[0m\u001b[0;34m)\u001b[0m\u001b[0;34m\u001b[0m\u001b[0;34m\u001b[0m\u001b[0m\n\u001b[0m\u001b[1;32m     26\u001b[0m \u001b[0;31m#     plot4(ax[1,1], cell)\u001b[0m\u001b[0;34m\u001b[0m\u001b[0;34m\u001b[0m\u001b[0;34m\u001b[0m\u001b[0m\n\u001b[1;32m     27\u001b[0m \u001b[0;34m\u001b[0m\u001b[0m\n",
      "\u001b[0;32m<ipython-input-31-ca71b9485e1b>\u001b[0m in \u001b[0;36mplot3\u001b[0;34m(ax, cell)\u001b[0m\n\u001b[1;32m      3\u001b[0m     \"\"\"\n\u001b[1;32m      4\u001b[0m     ax.scatter(\n\u001b[0;32m----> 5\u001b[0;31m         \u001b[0mnp\u001b[0m\u001b[0;34m.\u001b[0m\u001b[0marray\u001b[0m\u001b[0;34m(\u001b[0m\u001b[0mcell\u001b[0m\u001b[0;34m.\u001b[0m\u001b[0mM_hist\u001b[0m\u001b[0;34m)\u001b[0m\u001b[0;34m[\u001b[0m\u001b[0mphase_vec\u001b[0m\u001b[0;34m==\u001b[0m\u001b[0;36m1\u001b[0m\u001b[0;34m]\u001b[0m\u001b[0;34m,\u001b[0m\u001b[0;34m\u001b[0m\u001b[0;34m\u001b[0m\u001b[0m\n\u001b[0m\u001b[1;32m      6\u001b[0m         \u001b[0mnp\u001b[0m\u001b[0;34m.\u001b[0m\u001b[0marray\u001b[0m\u001b[0;34m(\u001b[0m\u001b[0mcell\u001b[0m\u001b[0;34m.\u001b[0m\u001b[0mRB_c_hist\u001b[0m\u001b[0;34m)\u001b[0m\u001b[0;34m[\u001b[0m\u001b[0mphase_vec\u001b[0m\u001b[0;34m==\u001b[0m\u001b[0;36m1\u001b[0m\u001b[0;34m]\u001b[0m\u001b[0;34m,\u001b[0m\u001b[0;34m\u001b[0m\u001b[0;34m\u001b[0m\u001b[0m\n\u001b[1;32m      7\u001b[0m         \u001b[0malpha\u001b[0m\u001b[0;34m=\u001b[0m\u001b[0;36m.3\u001b[0m\u001b[0;34m,\u001b[0m \u001b[0ms\u001b[0m\u001b[0;34m=\u001b[0m\u001b[0;36m1\u001b[0m\u001b[0;34m,\u001b[0m \u001b[0mlabel\u001b[0m\u001b[0;34m=\u001b[0m\u001b[0;34m\"G1\"\u001b[0m\u001b[0;34m\u001b[0m\u001b[0;34m\u001b[0m\u001b[0m\n",
      "\u001b[0;31mNameError\u001b[0m: name 'phase_vec' is not defined"
     ]
    },
    {
     "data": {
      "image/png": "[encoded data removed]",
      "text/plain": [
       "<Figure size 1080x720 with 4 Axes>"
      ]
     },
     "metadata": {
      "needs_background": "light"
     },
     "output_type": "display_data"
    }
   ],
   "source": [
    "cell_test, dists_peaks, period = run_and_plot_test()"
   ]
  },
  {
   "cell_type": "code",
   "execution_count": null,
   "id": "70560257",
   "metadata": {},
   "outputs": [],
   "source": []
  },
  {
   "cell_type": "code",
   "execution_count": null,
   "id": "2b2e9678",
   "metadata": {},
   "outputs": [],
   "source": []
  },
  {
   "cell_type": "markdown",
   "id": "22f48cd7",
   "metadata": {},
   "source": [
    "# Interact"
   ]
  },
  {
   "cell_type": "code",
   "execution_count": null,
   "id": "5409f4eb",
   "metadata": {},
   "outputs": [],
   "source": [
    "interact_manual(\n",
    "    run_and_plot_test, \n",
    "    alpha=(.1, 10., step), beta0=(.1, 10, step), epsilon=(.1, 1., step), \n",
    "    delta=fixed(1.), gamma=(.1, 1), RB_thresh=(.1, 10, step),\n",
    "    division=[\"concentration\", \"amount\"], dt=fixed(1e-3), \n",
    "    continuous_update=False\n",
    ");"
   ]
  },
  {
   "cell_type": "code",
   "execution_count": null,
   "id": "203eb2e7",
   "metadata": {},
   "outputs": [],
   "source": []
  }
 ],
 "metadata": {
  "kernelspec": {
   "display_name": "Python [conda env:py37] *",
   "language": "python",
   "name": "conda-env-py37-py"
  },
  "language_info": {
   "codemirror_mode": {
    "name": "ipython",
    "version": 3
   },
   "file_extension": ".py",
   "mimetype": "text/x-python",
   "name": "python",
   "nbconvert_exporter": "python",
   "pygments_lexer": "ipython3",
   "version": "3.7.7"
  },
  "toc": {
   "base_numbering": 1,
   "nav_menu": {},
   "number_sections": true,
   "sideBar": true,
   "skip_h1_title": false,
   "title_cell": "Table of Contents",
   "title_sidebar": "Contents",
   "toc_cell": true,
   "toc_position": {
    "height": "calc(100% - 180px)",
    "left": "10px",
    "top": "150px",
    "width": "165px"
   },
   "toc_section_display": true,
   "toc_window_display": true
  }
 },
 "nbformat": 4,
 "nbformat_minor": 5
}
