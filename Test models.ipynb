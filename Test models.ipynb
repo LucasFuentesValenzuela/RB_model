{
 "cells": [
  {
   "cell_type": "markdown",
   "id": "cac728e1",
   "metadata": {
    "toc": true
   },
   "source": [
    "<h1>Table of Contents<span class=\"tocSkip\"></span></h1>\n",
    "<div class=\"toc\"><ul class=\"toc-item\"><li><span><a href=\"#Test-runs\" data-toc-modified-id=\"Test-runs-1\"><span class=\"toc-item-num\">1&nbsp;&nbsp;</span>Test runs</a></span></li></ul></div>"
   ]
  },
  {
   "cell_type": "code",
   "execution_count": null,
   "id": "02ff8cd0",
   "metadata": {},
   "outputs": [],
   "source": [
    "%load_ext autoreload\n",
    "%autoreload 2"
   ]
  },
  {
   "cell_type": "code",
   "execution_count": null,
   "id": "0b85a54a",
   "metadata": {},
   "outputs": [],
   "source": [
    "from src.cell_models import cell_v1"
   ]
  },
  {
   "cell_type": "code",
   "execution_count": null,
   "id": "85ce9154",
   "metadata": {},
   "outputs": [],
   "source": [
    "import numpy as np\n",
    "import matplotlib.pyplot as plt"
   ]
  },
  {
   "cell_type": "markdown",
   "id": "9aeb5d7f",
   "metadata": {},
   "source": [
    "# Test runs"
   ]
  },
  {
   "cell_type": "code",
   "execution_count": null,
   "id": "1f563b66",
   "metadata": {},
   "outputs": [],
   "source": [
    "cell = cell_v1(division=\"amount\")"
   ]
  },
  {
   "cell_type": "code",
   "execution_count": null,
   "id": "3d8e19b7",
   "metadata": {},
   "outputs": [],
   "source": [
    "cell.params"
   ]
  },
  {
   "cell_type": "code",
   "execution_count": null,
   "id": "2765c4a2",
   "metadata": {},
   "outputs": [],
   "source": [
    "T = 5000"
   ]
  },
  {
   "cell_type": "code",
   "execution_count": null,
   "id": "90824186",
   "metadata": {},
   "outputs": [],
   "source": [
    "for _ in range(T):\n",
    "    cell.grow()"
   ]
  },
  {
   "cell_type": "code",
   "execution_count": null,
   "id": "0ff8c3c5",
   "metadata": {},
   "outputs": [],
   "source": [
    "plt.figure(figsize=(10, 6))\n",
    "t_vec = np.arange(T+1)\n",
    "\n",
    "plt.plot(t_vec, np.array(cell.M_hist)/cell.M_hist[0], label=\"M\")\n",
    "plt.plot(t_vec, np.array(cell.RB_hist)/cell.RB_hist[0], label=\"RB\")\n",
    "plt.plot(t_vec, np.array(cell.RB_c_hist)/cell.RB_c_hist[0], label=\"[RB]\")\n",
    "\n",
    "plt.yscale('log')\n",
    "phase_vec = np.array([int(phase==\"G1\") for phase in cell.phase_hist])\n",
    "x_min = 0\n",
    "x_max = len(phase_vec)\n",
    "\n",
    "phase=0\n",
    "for k in range(len(phase_vec)):\n",
    "    if (phase_vec[k]==1) and phase==0:\n",
    "        x_min = k\n",
    "        phase=1\n",
    "    elif (phase_vec[k]==0) and phase==1:\n",
    "        x_max=k-1\n",
    "        phase=0\n",
    "        plt.axvspan(x_min, x_max, color = 'lightgray', alpha=.3)\n",
    "        \n",
    "\n",
    "plt.axhline(cell.RB_transition/cell.RB_c_hist[0], color=\"red\")\n",
    "plt.axhline(cell.RB_division/cell.RB_c_hist[0], color=\"gray\")\n",
    "plt.legend()"
   ]
  },
  {
   "cell_type": "markdown",
   "id": "3528ead2",
   "metadata": {},
   "source": [
    "Notes: \n",
    "- it looks very sensitive to the growth rate. Not sure there is a limit cycle in general to this problem. Can you sketch it? \n",
    "- maybe we need an RB amount threshold for the division? \n",
    "- a quick look at the RB amount threshold seems to indicate that it can yield limit cycles... ? "
   ]
  }
 ],
 "metadata": {
  "kernelspec": {
   "display_name": "Python [conda env:py37] *",
   "language": "python",
   "name": "conda-env-py37-py"
  },
  "language_info": {
   "codemirror_mode": {
    "name": "ipython",
    "version": 3
   },
   "file_extension": ".py",
   "mimetype": "text/x-python",
   "name": "python",
   "nbconvert_exporter": "python",
   "pygments_lexer": "ipython3",
   "version": "3.7.7"
  },
  "toc": {
   "base_numbering": 1,
   "nav_menu": {},
   "number_sections": true,
   "sideBar": true,
   "skip_h1_title": false,
   "title_cell": "Table of Contents",
   "title_sidebar": "Contents",
   "toc_cell": true,
   "toc_position": {},
   "toc_section_display": true,
   "toc_window_display": true
  }
 },
 "nbformat": 4,
 "nbformat_minor": 5
}
