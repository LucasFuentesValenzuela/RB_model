{
 "cells": [
  {
   "cell_type": "markdown",
   "id": "f913facd",
   "metadata": {
    "toc": true
   },
   "source": [
    "<h1>Table of Contents<span class=\"tocSkip\"></span></h1>\n",
    "<div class=\"toc\"><ul class=\"toc-item\"><li><span><a href=\"#Test-runs\" data-toc-modified-id=\"Test-runs-1\"><span class=\"toc-item-num\">1&nbsp;&nbsp;</span>Test runs</a></span></li></ul></div>"
   ]
  },
  {
   "cell_type": "code",
   "execution_count": null,
   "id": "2a333f82",
   "metadata": {},
   "outputs": [],
   "source": [
    "%load_ext autoreload\n",
    "%autoreload 2"
   ]
  },
  {
   "cell_type": "code",
   "execution_count": null,
   "id": "73003d89",
   "metadata": {},
   "outputs": [],
   "source": [
    "from src.cell_models import cell_v1"
   ]
  },
  {
   "cell_type": "code",
   "execution_count": null,
   "id": "fd5e0840",
   "metadata": {},
   "outputs": [],
   "source": [
    "import numpy as np\n",
    "import matplotlib.pyplot as plt"
   ]
  },
  {
   "cell_type": "markdown",
   "id": "cfdd0392",
   "metadata": {},
   "source": [
    "# Test runs"
   ]
  },
  {
   "cell_type": "code",
   "execution_count": null,
   "id": "913cf9b4",
   "metadata": {},
   "outputs": [],
   "source": [
    "T = 10000"
   ]
  },
  {
   "cell_type": "code",
   "execution_count": null,
   "id": "a7d30a6e",
   "metadata": {},
   "outputs": [],
   "source": [
    "cell = cell_v1()\n",
    "\n",
    "for _ in range(T):\n",
    "    cell.grow()"
   ]
  },
  {
   "cell_type": "code",
   "execution_count": null,
   "id": "0c0cf7d7",
   "metadata": {},
   "outputs": [],
   "source": [
    "plt.figure()\n",
    "t_vec = np.arange(T+1)\n",
    "\n",
    "plt.plot(t_vec, np.array(cell.M_hist)/cell.M_hist[0], label=\"M\")\n",
    "plt.plot(t_vec, np.array(cell.RB_hist)/cell.RB_hist[0], label=\"RB\")\n",
    "plt.plot(t_vec, np.array(cell.RB_c_hist)/cell.RB_c_hist[0], label=\"[RB]\")\n",
    "\n",
    "\n",
    "phase_vec = np.array([int(phase==\"G1\") for phase in cell.phase_hist])\n",
    "x_min = 0\n",
    "x_max = len(phase_vec)\n",
    "phase=0\n",
    "for k in range(len(phase_vec)):\n",
    "    if (phase_vec[k]==1) and phase==0:\n",
    "        x_min = k\n",
    "    elif (phase_vec[k]==0) and phase==1:\n",
    "        x_max=k-1\n",
    "    \n",
    "        \n",
    "    plt.axvspan(x_min, x_max, color = 'lightgray', alpha=.3)\n",
    "        \n",
    "        "
   ]
  }
 ],
 "metadata": {
  "kernelspec": {
   "display_name": "Python [conda env:py37] *",
   "language": "python",
   "name": "conda-env-py37-py"
  },
  "language_info": {
   "codemirror_mode": {
    "name": "ipython",
    "version": 3
   },
   "file_extension": ".py",
   "mimetype": "text/x-python",
   "name": "python",
   "nbconvert_exporter": "python",
   "pygments_lexer": "ipython3",
   "version": "3.7.7"
  },
  "toc": {
   "base_numbering": 1,
   "nav_menu": {},
   "number_sections": true,
   "sideBar": true,
   "skip_h1_title": false,
   "title_cell": "Table of Contents",
   "title_sidebar": "Contents",
   "toc_cell": true,
   "toc_position": {},
   "toc_section_display": true,
   "toc_window_display": true
  }
 },
 "nbformat": 4,
 "nbformat_minor": 5
}
