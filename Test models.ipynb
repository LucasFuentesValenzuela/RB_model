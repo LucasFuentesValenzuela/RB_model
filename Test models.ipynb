{
 "cells": [
  {
   "cell_type": "markdown",
   "id": "797a7c77",
   "metadata": {
    "toc": true
   },
   "source": [
    "<h1>Table of Contents<span class=\"tocSkip\"></span></h1>\n",
    "<div class=\"toc\"><ul class=\"toc-item\"><li><span><a href=\"#Description\" data-toc-modified-id=\"Description-1\"><span class=\"toc-item-num\">1&nbsp;&nbsp;</span>Description</a></span></li><li><span><a href=\"#Load\" data-toc-modified-id=\"Load-2\"><span class=\"toc-item-num\">2&nbsp;&nbsp;</span>Load</a></span></li><li><span><a href=\"#Test-runs\" data-toc-modified-id=\"Test-runs-3\"><span class=\"toc-item-num\">3&nbsp;&nbsp;</span>Test runs</a></span></li><li><span><a href=\"#Interact\" data-toc-modified-id=\"Interact-4\"><span class=\"toc-item-num\">4&nbsp;&nbsp;</span>Interact</a></span></li></ul></div>"
   ]
  },
  {
   "cell_type": "markdown",
   "id": "b6ed2a79",
   "metadata": {},
   "source": [
    "# Description"
   ]
  },
  {
   "cell_type": "markdown",
   "id": "660d35a5",
   "metadata": {},
   "source": [
    "Interactive notebook to test the model and the different parameters."
   ]
  },
  {
   "cell_type": "markdown",
   "id": "923129fe",
   "metadata": {},
   "source": [
    "# Load"
   ]
  },
  {
   "cell_type": "code",
   "execution_count": null,
   "id": "1b8c465b",
   "metadata": {},
   "outputs": [],
   "source": [
    "%load_ext autoreload\n",
    "%autoreload 2"
   ]
  },
  {
   "cell_type": "code",
   "execution_count": null,
   "id": "1594c0c6",
   "metadata": {},
   "outputs": [],
   "source": [
    "from src.cell_models import cell_v1\n",
    "\n",
    "import numpy as np\n",
    "import matplotlib.pyplot as plt\n",
    "\n",
    "from ipywidgets import interact, fixed, interact_manual\n",
    "\n",
    "from statsmodels.tsa.stattools import acf\n",
    "\n",
    "from scipy.signal import find_peaks"
   ]
  },
  {
   "cell_type": "code",
   "execution_count": null,
   "id": "34c83153",
   "metadata": {},
   "outputs": [],
   "source": [
    "from src.analysis import get_cycle_stats"
   ]
  },
  {
   "cell_type": "code",
   "execution_count": null,
   "id": "ccab0b2c",
   "metadata": {},
   "outputs": [],
   "source": [
    "from src.plot_utils import run_and_plot_test"
   ]
  },
  {
   "cell_type": "markdown",
   "id": "9a89c882",
   "metadata": {},
   "source": [
    "# Test runs"
   ]
  },
  {
   "cell_type": "markdown",
   "id": "1d1fcd78",
   "metadata": {},
   "source": [
    "Build something with interact so that you can get a rough sense of how the system behaves. "
   ]
  },
  {
   "cell_type": "code",
   "execution_count": null,
   "id": "a92757c2",
   "metadata": {},
   "outputs": [],
   "source": [
    "# cell_test, periods= run_and_plot_test()"
   ]
  },
  {
   "cell_type": "markdown",
   "id": "c1a089e6",
   "metadata": {},
   "source": [
    "# Interact"
   ]
  },
  {
   "cell_type": "code",
   "execution_count": null,
   "id": "c886ebb0",
   "metadata": {},
   "outputs": [],
   "source": [
    "step=.1"
   ]
  },
  {
   "cell_type": "code",
   "execution_count": null,
   "id": "6f0c3ec8",
   "metadata": {
    "scrolled": false
   },
   "outputs": [],
   "source": [
    "interact_manual(\n",
    "    run_and_plot_test, \n",
    "    alpha=(.1, 10., step), \n",
    "    beta0=(.01, .30, .01), \n",
    "    epsilon=fixed(.3), #(.1, 1., step), \n",
    "    gamma=(.01, .05, .01), \n",
    "    time_SG2 = fixed(12),#(1, 15), \n",
    "    transition_th=fixed(1.), \n",
    "    delta=fixed(1.),\n",
    "    dt=fixed(1e-1), \n",
    "    division=fixed(\"timer\"), \n",
    "    transition=fixed(\"size\"), \n",
    "    T=fixed(4000)\n",
    ");"
   ]
  },
  {
   "cell_type": "code",
   "execution_count": null,
   "id": "05ec6bc2",
   "metadata": {},
   "outputs": [],
   "source": []
  }
 ],
 "metadata": {
  "kernelspec": {
   "display_name": "Python [conda env:py37] *",
   "language": "python",
   "name": "conda-env-py37-py"
  },
  "language_info": {
   "codemirror_mode": {
    "name": "ipython",
    "version": 3
   },
   "file_extension": ".py",
   "mimetype": "text/x-python",
   "name": "python",
   "nbconvert_exporter": "python",
   "pygments_lexer": "ipython3",
   "version": "3.7.7"
  },
  "toc": {
   "base_numbering": 1,
   "nav_menu": {},
   "number_sections": true,
   "sideBar": true,
   "skip_h1_title": false,
   "title_cell": "Table of Contents",
   "title_sidebar": "Contents",
   "toc_cell": true,
   "toc_position": {
    "height": "calc(100% - 180px)",
    "left": "10px",
    "top": "150px",
    "width": "165px"
   },
   "toc_section_display": true,
   "toc_window_display": true
  }
 },
 "nbformat": 4,
 "nbformat_minor": 5
}
